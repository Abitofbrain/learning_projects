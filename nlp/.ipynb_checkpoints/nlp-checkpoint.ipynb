{
 "cells": [
  {
   "cell_type": "markdown",
   "id": "5af7e0bc",
   "metadata": {
    "toc": true
   },
   "source": [
    "<h1>Table of Contents<span class=\"tocSkip\"></span></h1>\n",
    "<div class=\"toc\"><ul class=\"toc-item\"><li><span><a href=\"#Описание-данных\" data-toc-modified-id=\"Описание-данных-1\"><span class=\"toc-item-num\">1&nbsp;&nbsp;</span>Описание данных</a></span></li><li><span><a href=\"#Обзор-данных\" data-toc-modified-id=\"Обзор-данных-2\"><span class=\"toc-item-num\">2&nbsp;&nbsp;</span>Обзор данных</a></span><ul class=\"toc-item\"><li><span><a href=\"#Вывод-по-обзору-данных\" data-toc-modified-id=\"Вывод-по-обзору-данных-2.1\"><span class=\"toc-item-num\">2.1&nbsp;&nbsp;</span>Вывод по обзору данных</a></span></li></ul></li><li><span><a href=\"#Предобработка-данных\" data-toc-modified-id=\"Предобработка-данных-3\"><span class=\"toc-item-num\">3&nbsp;&nbsp;</span>Предобработка данных</a></span></li><li><span><a href=\"#Обучение-моделей\" data-toc-modified-id=\"Обучение-моделей-4\"><span class=\"toc-item-num\">4&nbsp;&nbsp;</span>Обучение моделей</a></span><ul class=\"toc-item\"><li><span><a href=\"#Логистичеческая-регрессия.\" data-toc-modified-id=\"Логистичеческая-регрессия.-4.1\"><span class=\"toc-item-num\">4.1&nbsp;&nbsp;</span>Логистичеческая регрессия.</a></span></li><li><span><a href=\"#Случайный-лес\" data-toc-modified-id=\"Случайный-лес-4.2\"><span class=\"toc-item-num\">4.2&nbsp;&nbsp;</span>Случайный лес</a></span></li><li><span><a href=\"#LGBMClassifier\" data-toc-modified-id=\"LGBMClassifier-4.3\"><span class=\"toc-item-num\">4.3&nbsp;&nbsp;</span>LGBMClassifier</a></span></li></ul></li><li><span><a href=\"#Проверка-результатов-работы-на-тестовой-выборке:\" data-toc-modified-id=\"Проверка-результатов-работы-на-тестовой-выборке:-5\"><span class=\"toc-item-num\">5&nbsp;&nbsp;</span>Проверка результатов работы на тестовой выборке:</a></span><ul class=\"toc-item\"><li><span><a href=\"#Итоговый-вывод:\" data-toc-modified-id=\"Итоговый-вывод:-5.1\"><span class=\"toc-item-num\">5.1&nbsp;&nbsp;</span>Итоговый вывод:</a></span></li></ul></li></ul></div>"
   ]
  },
  {
   "cell_type": "markdown",
   "id": "f5dd1ecd",
   "metadata": {},
   "source": [
    "# Проект для «Викишоп» с BERT"
   ]
  },
  {
   "cell_type": "markdown",
   "id": "331fcb0c",
   "metadata": {},
   "source": [
    "В качестве дополнительных материалов к проекту, кроме материалов спринта использовались:\n",
    "\n",
    "   - 1. BERT, ELMO и Ко в картинках (как в NLP пришло трансферное обучение) - https://habr.com/ru/post/487358/\n",
    "    \n",
    "   - 2. Word2vec в картинках - https://habr.com/ru/post/446530/\n",
    "   \n",
    "   - 3. Ваш первый BERT: иллюстрированное руководство - https://habr.com/ru/post/498144/\n",
    "    "
   ]
  },
  {
   "cell_type": "markdown",
   "id": "4c776989",
   "metadata": {},
   "source": [
    "## Описание данных"
   ]
  },
  {
   "cell_type": "markdown",
   "id": "0e483137",
   "metadata": {},
   "source": [
    "Интернет-магазин «Викишоп» запускает новый сервис. Теперь пользователи могут редактировать и дополнять описания товаров, как в вики-сообществах. То есть клиенты предлагают свои правки и комментируют изменения других. Магазину нужен инструмент, который будет искать токсичные комментарии и отправлять их на модерацию."
   ]
  },
  {
   "cell_type": "markdown",
   "id": "1c92f525",
   "metadata": {},
   "source": [
    "**Цель проекта:**\n",
    "\n",
    "Обучить модель классифицировать комментарии на позитивные и негативные. В нашем распоряжении набор данных с разметкой о токсичности правок. Необходимо построить модель со значением метрики качества F1 не меньше 0.75."
   ]
  },
  {
   "cell_type": "markdown",
   "id": "b7de7529",
   "metadata": {},
   "source": [
    "**План работ:**\n",
    "\n",
    "- 1. Подготовка данных\n",
    "    - Откроем данные и изучим их.\n",
    "    - Предобработаем текст по рекомендациям спринта\n",
    "    - Создадим новую таблицу признаков инструментариями предобученной модели Bert.\n",
    "    \n",
    "- 2. Обучим несколько разных моделей на подготовленных данных. Для каждой попробуем найти оптимальные гиперпараметры.\n",
    "    \n",
    "- 3. Проанализируем качество моделей.\n",
    "    \n",
    "- 4. Сформулируем итоговый вывод."
   ]
  },
  {
   "cell_type": "markdown",
   "id": "bb5e8bb7",
   "metadata": {},
   "source": [
    "## Обзор данных"
   ]
  },
  {
   "cell_type": "code",
   "execution_count": 1,
   "id": "c33f31ab",
   "metadata": {},
   "outputs": [],
   "source": [
    "# ячейка для загрузки библиотек, служебных команд и функций\n",
    "import numpy as np\n",
    "import os\n",
    "import pandas as pd\n",
    "import re\n",
    "import warnings\n",
    "\n",
    "import torch\n",
    "import transformers\n",
    "\n",
    "from tqdm import notebook\n",
    "from tqdm import tqdm\n",
    "\n",
    "from lightgbm import LGBMClassifier\n",
    "from sklearn.ensemble import RandomForestClassifier\n",
    "from sklearn.linear_model import LogisticRegression\n",
    "from sklearn.metrics import accuracy_score, f1_score, precision_score, recall_score\n",
    "from sklearn.metrics import plot_confusion_matrix\n",
    "from sklearn.model_selection import GridSearchCV, RandomizedSearchCV, train_test_split\n",
    "\n",
    "warnings.simplefilter(action='ignore')"
   ]
  },
  {
   "cell_type": "code",
   "execution_count": 66,
   "id": "3c9690c8",
   "metadata": {},
   "outputs": [],
   "source": [
    "# Считаем наши данные\n",
    "pth_1 = 'toxic_comments.csv'  # Локальный путь\n",
    "pth_2 = '/datasets/toxic_comments.csv'  # Серверный путь\n",
    "\n",
    "if os.path.exists(pth_1):\n",
    "    data = pd.read_csv(pth_1)\n",
    "elif os.path.exists(pth_2):\n",
    "    data = pd.read_csv(pth_2)\n",
    "else:\n",
    "    print('Something is wrong')"
   ]
  },
  {
   "cell_type": "code",
   "execution_count": 67,
   "id": "4599137b",
   "metadata": {},
   "outputs": [
    {
     "data": {
      "text/html": [
       "<div>\n",
       "<style scoped>\n",
       "    .dataframe tbody tr th:only-of-type {\n",
       "        vertical-align: middle;\n",
       "    }\n",
       "\n",
       "    .dataframe tbody tr th {\n",
       "        vertical-align: top;\n",
       "    }\n",
       "\n",
       "    .dataframe thead th {\n",
       "        text-align: right;\n",
       "    }\n",
       "</style>\n",
       "<table border=\"1\" class=\"dataframe\">\n",
       "  <thead>\n",
       "    <tr style=\"text-align: right;\">\n",
       "      <th></th>\n",
       "      <th>text</th>\n",
       "      <th>toxic</th>\n",
       "    </tr>\n",
       "  </thead>\n",
       "  <tbody>\n",
       "    <tr>\n",
       "      <th>87813</th>\n",
       "      <td>You gotta love when they send a noted racist a...</td>\n",
       "      <td>1</td>\n",
       "    </tr>\n",
       "    <tr>\n",
       "      <th>110286</th>\n",
       "      <td>Targeted Proximity Operations \\n\\nIt is also n...</td>\n",
       "      <td>0</td>\n",
       "    </tr>\n",
       "    <tr>\n",
       "      <th>15363</th>\n",
       "      <td>Thank you for experimenting with Wikipedia. Yo...</td>\n",
       "      <td>0</td>\n",
       "    </tr>\n",
       "    <tr>\n",
       "      <th>151222</th>\n",
       "      <td>I.............. \\n\\nI Just Want to say you are...</td>\n",
       "      <td>0</td>\n",
       "    </tr>\n",
       "    <tr>\n",
       "      <th>30556</th>\n",
       "      <td>\"\\n\\nMathematical Chemistry, Theoretical Chemi...</td>\n",
       "      <td>0</td>\n",
       "    </tr>\n",
       "    <tr>\n",
       "      <th>121298</th>\n",
       "      <td>The flaws? What flaws? This is exactly the cru...</td>\n",
       "      <td>0</td>\n",
       "    </tr>\n",
       "    <tr>\n",
       "      <th>102625</th>\n",
       "      <td>Sorry, one more canon question.  Was her boyfr...</td>\n",
       "      <td>0</td>\n",
       "    </tr>\n",
       "    <tr>\n",
       "      <th>75281</th>\n",
       "      <td>Deathcore band, not Death Metal</td>\n",
       "      <td>0</td>\n",
       "    </tr>\n",
       "    <tr>\n",
       "      <th>130786</th>\n",
       "      <td>Help me \\n\\nMy autism is acting up. I'm about ...</td>\n",
       "      <td>0</td>\n",
       "    </tr>\n",
       "    <tr>\n",
       "      <th>23547</th>\n",
       "      <td>\"\\n\\nTo quote the article: It was once known a...</td>\n",
       "      <td>0</td>\n",
       "    </tr>\n",
       "    <tr>\n",
       "      <th>141170</th>\n",
       "      <td>don't edit the Upton page again. If you vandal...</td>\n",
       "      <td>0</td>\n",
       "    </tr>\n",
       "  </tbody>\n",
       "</table>\n",
       "</div>"
      ],
      "text/plain": [
       "                                                     text  toxic\n",
       "87813   You gotta love when they send a noted racist a...      1\n",
       "110286  Targeted Proximity Operations \\n\\nIt is also n...      0\n",
       "15363   Thank you for experimenting with Wikipedia. Yo...      0\n",
       "151222  I.............. \\n\\nI Just Want to say you are...      0\n",
       "30556   \"\\n\\nMathematical Chemistry, Theoretical Chemi...      0\n",
       "121298  The flaws? What flaws? This is exactly the cru...      0\n",
       "102625  Sorry, one more canon question.  Was her boyfr...      0\n",
       "75281                     Deathcore band, not Death Metal      0\n",
       "130786  Help me \\n\\nMy autism is acting up. I'm about ...      0\n",
       "23547   \"\\n\\nTo quote the article: It was once known a...      0\n",
       "141170  don't edit the Upton page again. If you vandal...      0"
      ]
     },
     "execution_count": 67,
     "metadata": {},
     "output_type": "execute_result"
    }
   ],
   "source": [
    "data.sample(11)"
   ]
  },
  {
   "cell_type": "code",
   "execution_count": 68,
   "id": "c4efa58b",
   "metadata": {
    "scrolled": true
   },
   "outputs": [
    {
     "name": "stdout",
     "output_type": "stream",
     "text": [
      "<class 'pandas.core.frame.DataFrame'>\n",
      "RangeIndex: 159571 entries, 0 to 159570\n",
      "Data columns (total 2 columns):\n",
      " #   Column  Non-Null Count   Dtype \n",
      "---  ------  --------------   ----- \n",
      " 0   text    159571 non-null  object\n",
      " 1   toxic   159571 non-null  int64 \n",
      "dtypes: int64(1), object(1)\n",
      "memory usage: 2.4+ MB\n"
     ]
    }
   ],
   "source": [
    "data.info()"
   ]
  },
  {
   "cell_type": "code",
   "execution_count": 69,
   "id": "58d6e9b6",
   "metadata": {},
   "outputs": [
    {
     "data": {
      "text/plain": [
       "0"
      ]
     },
     "execution_count": 69,
     "metadata": {},
     "output_type": "execute_result"
    }
   ],
   "source": [
    "data.duplicated().sum()"
   ]
  },
  {
   "cell_type": "markdown",
   "id": "7d7ed197",
   "metadata": {},
   "source": [
    "Посмотрим на целевой признак:"
   ]
  },
  {
   "cell_type": "code",
   "execution_count": 70,
   "id": "876fae5f",
   "metadata": {
    "scrolled": true
   },
   "outputs": [
    {
     "data": {
      "text/plain": [
       "0    0.898321\n",
       "1    0.101679\n",
       "Name: toxic, dtype: float64"
      ]
     },
     "metadata": {},
     "output_type": "display_data"
    },
    {
     "data": {
      "text/plain": [
       "<AxesSubplot:>"
      ]
     },
     "execution_count": 70,
     "metadata": {},
     "output_type": "execute_result"
    },
    {
     "data": {
      "image/png": "[encoded data removed]",
      "text/plain": [
       "<Figure size 432x288 with 1 Axes>"
      ]
     },
     "metadata": {
      "needs_background": "light"
     },
     "output_type": "display_data"
    }
   ],
   "source": [
    "display(data.toxic.value_counts(normalize=True))\n",
    "data.toxic.value_counts().plot(kind='bar')"
   ]
  },
  {
   "cell_type": "markdown",
   "id": "a4c91515",
   "metadata": {},
   "source": [
    "Явный дисбаланс классов. Это надо будет учитывать в нашей задаче классификации."
   ]
  },
  {
   "cell_type": "markdown",
   "id": "da4acd9f",
   "metadata": {},
   "source": [
    "### Вывод по обзору данных"
   ]
  },
  {
   "cell_type": "markdown",
   "id": "9f2c343f",
   "metadata": {},
   "source": [
    "159571 запись. Нет пропусков и дубликатов. Текст нужно предобработать на наличие лишних символов, заглавных букв и прочее. Необходимо учитывать, что целевой признак находится в дисбалансе в отношении 90%:10%. Данные пригодны для предобработки."
   ]
  },
  {
   "cell_type": "markdown",
   "id": "3d32fd61",
   "metadata": {},
   "source": [
    "## Предобработка данных"
   ]
  },
  {
   "cell_type": "markdown",
   "id": "b6c25163",
   "metadata": {},
   "source": [
    "Создадим функцию по очистке текста от лишних символов и приведению его к одному регистру:"
   ]
  },
  {
   "cell_type": "code",
   "execution_count": 71,
   "id": "aa3e825b",
   "metadata": {},
   "outputs": [],
   "source": [
    "def clear_text(text):\n",
    "    text = re.sub(r'[^a-zA-Z ]', ' ', text).lower()\n",
    "    return \" \".join(text.split())"
   ]
  },
  {
   "cell_type": "code",
   "execution_count": 72,
   "id": "a2f37af2",
   "metadata": {},
   "outputs": [],
   "source": [
    "#Создадим копию наших данных, чтоб всегда иметь неизменные данные. Дальше будем работать с копией\n",
    "comments = data.copy()"
   ]
  },
  {
   "cell_type": "code",
   "execution_count": 75,
   "id": "717187bf",
   "metadata": {},
   "outputs": [
    {
     "name": "stderr",
     "output_type": "stream",
     "text": [
      "100%|███████████████████████████████████████████████████████████████████████| 159571/159571 [00:03<00:00, 51938.75it/s]\n"
     ]
    }
   ],
   "source": [
    "tqdm.pandas()\n",
    "comments['text'] = comments.text.progress_apply(clear_text)"
   ]
  },
  {
   "cell_type": "code",
   "execution_count": 76,
   "id": "3bb01325",
   "metadata": {},
   "outputs": [
    {
     "data": {
      "text/html": [
       "<div>\n",
       "<style scoped>\n",
       "    .dataframe tbody tr th:only-of-type {\n",
       "        vertical-align: middle;\n",
       "    }\n",
       "\n",
       "    .dataframe tbody tr th {\n",
       "        vertical-align: top;\n",
       "    }\n",
       "\n",
       "    .dataframe thead th {\n",
       "        text-align: right;\n",
       "    }\n",
       "</style>\n",
       "<table border=\"1\" class=\"dataframe\">\n",
       "  <thead>\n",
       "    <tr style=\"text-align: right;\">\n",
       "      <th></th>\n",
       "      <th>text</th>\n",
       "      <th>toxic</th>\n",
       "    </tr>\n",
       "  </thead>\n",
       "  <tbody>\n",
       "    <tr>\n",
       "      <th>135411</th>\n",
       "      <td>linkin park ah so you wannna say that hybrid t...</td>\n",
       "      <td>0</td>\n",
       "    </tr>\n",
       "    <tr>\n",
       "      <th>35649</th>\n",
       "      <td>i added a comment made by one of the editors i...</td>\n",
       "      <td>0</td>\n",
       "    </tr>\n",
       "    <tr>\n",
       "      <th>114083</th>\n",
       "      <td>but the is minor but it affect the whole page ...</td>\n",
       "      <td>0</td>\n",
       "    </tr>\n",
       "    <tr>\n",
       "      <th>134653</th>\n",
       "      <td>i must note that the golden sun page was made ...</td>\n",
       "      <td>0</td>\n",
       "    </tr>\n",
       "    <tr>\n",
       "      <th>94923</th>\n",
       "      <td>how is it pointless its engaging a social conv...</td>\n",
       "      <td>0</td>\n",
       "    </tr>\n",
       "    <tr>\n",
       "      <th>61070</th>\n",
       "      <td>it s unlikely that the cnn article can be cons...</td>\n",
       "      <td>0</td>\n",
       "    </tr>\n",
       "    <tr>\n",
       "      <th>80645</th>\n",
       "      <td>i just meant that it seems like an official en...</td>\n",
       "      <td>0</td>\n",
       "    </tr>\n",
       "    <tr>\n",
       "      <th>21100</th>\n",
       "      <td>i ve drawn on that along with his blue book bi...</td>\n",
       "      <td>0</td>\n",
       "    </tr>\n",
       "    <tr>\n",
       "      <th>19291</th>\n",
       "      <td>see talk chester f c thanks</td>\n",
       "      <td>0</td>\n",
       "    </tr>\n",
       "    <tr>\n",
       "      <th>106198</th>\n",
       "      <td>mathew matthew david white is a very important...</td>\n",
       "      <td>0</td>\n",
       "    </tr>\n",
       "    <tr>\n",
       "      <th>8771</th>\n",
       "      <td>holy roman empire doesn t mean we were germans...</td>\n",
       "      <td>0</td>\n",
       "    </tr>\n",
       "  </tbody>\n",
       "</table>\n",
       "</div>"
      ],
      "text/plain": [
       "                                                     text  toxic\n",
       "135411  linkin park ah so you wannna say that hybrid t...      0\n",
       "35649   i added a comment made by one of the editors i...      0\n",
       "114083  but the is minor but it affect the whole page ...      0\n",
       "134653  i must note that the golden sun page was made ...      0\n",
       "94923   how is it pointless its engaging a social conv...      0\n",
       "61070   it s unlikely that the cnn article can be cons...      0\n",
       "80645   i just meant that it seems like an official en...      0\n",
       "21100   i ve drawn on that along with his blue book bi...      0\n",
       "19291                         see talk chester f c thanks      0\n",
       "106198  mathew matthew david white is a very important...      0\n",
       "8771    holy roman empire doesn t mean we were germans...      0"
      ]
     },
     "execution_count": 76,
     "metadata": {},
     "output_type": "execute_result"
    }
   ],
   "source": [
    "comments.sample(11)"
   ]
  },
  {
   "cell_type": "markdown",
   "id": "e5d445cb",
   "metadata": {},
   "source": [
    "после приведения могут быть дупликаты, посмотрим:"
   ]
  },
  {
   "cell_type": "code",
   "execution_count": 77,
   "id": "2cf982af",
   "metadata": {},
   "outputs": [
    {
     "data": {
      "text/plain": [
       "1293"
      ]
     },
     "execution_count": 77,
     "metadata": {},
     "output_type": "execute_result"
    }
   ],
   "source": [
    "comments.duplicated().sum()"
   ]
  },
  {
   "cell_type": "markdown",
   "id": "bdc71f12",
   "metadata": {},
   "source": [
    "Посмотрим:"
   ]
  },
  {
   "cell_type": "code",
   "execution_count": 78,
   "id": "9794bcdf",
   "metadata": {
    "scrolled": true
   },
   "outputs": [
    {
     "data": {
      "text/html": [
       "<div>\n",
       "<style scoped>\n",
       "    .dataframe tbody tr th:only-of-type {\n",
       "        vertical-align: middle;\n",
       "    }\n",
       "\n",
       "    .dataframe tbody tr th {\n",
       "        vertical-align: top;\n",
       "    }\n",
       "\n",
       "    .dataframe thead th {\n",
       "        text-align: right;\n",
       "    }\n",
       "</style>\n",
       "<table border=\"1\" class=\"dataframe\">\n",
       "  <thead>\n",
       "    <tr style=\"text-align: right;\">\n",
       "      <th></th>\n",
       "      <th>text</th>\n",
       "      <th>toxic</th>\n",
       "    </tr>\n",
       "  </thead>\n",
       "  <tbody>\n",
       "    <tr>\n",
       "      <th>4482</th>\n",
       "      <td></td>\n",
       "      <td>0</td>\n",
       "    </tr>\n",
       "    <tr>\n",
       "      <th>53787</th>\n",
       "      <td></td>\n",
       "      <td>0</td>\n",
       "    </tr>\n",
       "    <tr>\n",
       "      <th>61758</th>\n",
       "      <td></td>\n",
       "      <td>0</td>\n",
       "    </tr>\n",
       "    <tr>\n",
       "      <th>17311</th>\n",
       "      <td></td>\n",
       "      <td>0</td>\n",
       "    </tr>\n",
       "    <tr>\n",
       "      <th>82681</th>\n",
       "      <td></td>\n",
       "      <td>0</td>\n",
       "    </tr>\n",
       "    <tr>\n",
       "      <th>...</th>\n",
       "      <td>...</td>\n",
       "      <td>...</td>\n",
       "    </tr>\n",
       "    <tr>\n",
       "      <th>144543</th>\n",
       "      <td>your request to be unblocked has been granted ...</td>\n",
       "      <td>0</td>\n",
       "    </tr>\n",
       "    <tr>\n",
       "      <th>131761</th>\n",
       "      <td>your stalker friend is back the hostile user y...</td>\n",
       "      <td>0</td>\n",
       "    </tr>\n",
       "    <tr>\n",
       "      <th>10221</th>\n",
       "      <td>your stalker friend is back the hostile user y...</td>\n",
       "      <td>0</td>\n",
       "    </tr>\n",
       "    <tr>\n",
       "      <th>94591</th>\n",
       "      <td>zionist jew please stop spreadin your lies bia...</td>\n",
       "      <td>1</td>\n",
       "    </tr>\n",
       "    <tr>\n",
       "      <th>56545</th>\n",
       "      <td>zionist jew please stop spreadin your lies bia...</td>\n",
       "      <td>1</td>\n",
       "    </tr>\n",
       "  </tbody>\n",
       "</table>\n",
       "<p>2007 rows × 2 columns</p>\n",
       "</div>"
      ],
      "text/plain": [
       "                                                     text  toxic\n",
       "4482                                                           0\n",
       "53787                                                          0\n",
       "61758                                                          0\n",
       "17311                                                          0\n",
       "82681                                                          0\n",
       "...                                                   ...    ...\n",
       "144543  your request to be unblocked has been granted ...      0\n",
       "131761  your stalker friend is back the hostile user y...      0\n",
       "10221   your stalker friend is back the hostile user y...      0\n",
       "94591   zionist jew please stop spreadin your lies bia...      1\n",
       "56545   zionist jew please stop spreadin your lies bia...      1\n",
       "\n",
       "[2007 rows x 2 columns]"
      ]
     },
     "execution_count": 78,
     "metadata": {},
     "output_type": "execute_result"
    }
   ],
   "source": [
    "comments[comments.duplicated(keep=False)].sort_values(by='text')"
   ]
  },
  {
   "cell_type": "markdown",
   "id": "5cce5d3c",
   "metadata": {},
   "source": [
    "Ну это явные дубликаты, дроп:"
   ]
  },
  {
   "cell_type": "code",
   "execution_count": 79,
   "id": "63d7daac",
   "metadata": {},
   "outputs": [
    {
     "data": {
      "text/plain": [
       "0"
      ]
     },
     "execution_count": 79,
     "metadata": {},
     "output_type": "execute_result"
    }
   ],
   "source": [
    "comments.drop_duplicates(inplace=True)\n",
    "comments.duplicated().sum()"
   ]
  },
  {
   "cell_type": "code",
   "execution_count": 80,
   "id": "c360d026",
   "metadata": {},
   "outputs": [
    {
     "data": {
      "text/html": [
       "<div>\n",
       "<style scoped>\n",
       "    .dataframe tbody tr th:only-of-type {\n",
       "        vertical-align: middle;\n",
       "    }\n",
       "\n",
       "    .dataframe tbody tr th {\n",
       "        vertical-align: top;\n",
       "    }\n",
       "\n",
       "    .dataframe thead th {\n",
       "        text-align: right;\n",
       "    }\n",
       "</style>\n",
       "<table border=\"1\" class=\"dataframe\">\n",
       "  <thead>\n",
       "    <tr style=\"text-align: right;\">\n",
       "      <th></th>\n",
       "      <th>text</th>\n",
       "      <th>toxic</th>\n",
       "    </tr>\n",
       "  </thead>\n",
       "  <tbody>\n",
       "    <tr>\n",
       "      <th>4482</th>\n",
       "      <td></td>\n",
       "      <td>0</td>\n",
       "    </tr>\n",
       "    <tr>\n",
       "      <th>27970</th>\n",
       "      <td>a according to wikipedia naming conventions th...</td>\n",
       "      <td>0</td>\n",
       "    </tr>\n",
       "    <tr>\n",
       "      <th>133363</th>\n",
       "      <td>a an we generally don t change between british...</td>\n",
       "      <td>0</td>\n",
       "    </tr>\n",
       "    <tr>\n",
       "      <th>36083</th>\n",
       "      <td>a and c the layout and image choice in a appea...</td>\n",
       "      <td>0</td>\n",
       "    </tr>\n",
       "    <tr>\n",
       "      <th>32780</th>\n",
       "      <td>a back up mr truesilver cabal don t know what ...</td>\n",
       "      <td>0</td>\n",
       "    </tr>\n",
       "    <tr>\n",
       "      <th>15864</th>\n",
       "      <td>a backup of a bit i deleted i thought it was r...</td>\n",
       "      <td>0</td>\n",
       "    </tr>\n",
       "    <tr>\n",
       "      <th>9760</th>\n",
       "      <td>a bad block which should be rescinded whowatch...</td>\n",
       "      <td>0</td>\n",
       "    </tr>\n",
       "    <tr>\n",
       "      <th>104963</th>\n",
       "      <td>a ballast house is where they keep the stones ...</td>\n",
       "      <td>0</td>\n",
       "    </tr>\n",
       "    <tr>\n",
       "      <th>7151</th>\n",
       "      <td>a ban for kontoreg eh it was merely a matter o...</td>\n",
       "      <td>0</td>\n",
       "    </tr>\n",
       "    <tr>\n",
       "      <th>157521</th>\n",
       "      <td>a barangay filipino baranggay is the smallest ...</td>\n",
       "      <td>0</td>\n",
       "    </tr>\n",
       "    <tr>\n",
       "      <th>74275</th>\n",
       "      <td>a barnstar for you football soccer barnstar th...</td>\n",
       "      <td>0</td>\n",
       "    </tr>\n",
       "  </tbody>\n",
       "</table>\n",
       "</div>"
      ],
      "text/plain": [
       "                                                     text  toxic\n",
       "4482                                                           0\n",
       "27970   a according to wikipedia naming conventions th...      0\n",
       "133363  a an we generally don t change between british...      0\n",
       "36083   a and c the layout and image choice in a appea...      0\n",
       "32780   a back up mr truesilver cabal don t know what ...      0\n",
       "15864   a backup of a bit i deleted i thought it was r...      0\n",
       "9760    a bad block which should be rescinded whowatch...      0\n",
       "104963  a ballast house is where they keep the stones ...      0\n",
       "7151    a ban for kontoreg eh it was merely a matter o...      0\n",
       "157521  a barangay filipino baranggay is the smallest ...      0\n",
       "74275   a barnstar for you football soccer barnstar th...      0"
      ]
     },
     "execution_count": 80,
     "metadata": {},
     "output_type": "execute_result"
    }
   ],
   "source": [
    "comments.sort_values(by='text').head(11)"
   ]
  },
  {
   "cell_type": "markdown",
   "id": "34a0af4a",
   "metadata": {},
   "source": [
    "Вроде все ровно, пустой текст мог образоваться из комментариев из одних символов, например: !!!!!. Так что пусть его модель считает нейтральной, хотя символами наверняка можно нарисовать какую-нибудь похабщину."
   ]
  },
  {
   "cell_type": "code",
   "execution_count": 81,
   "id": "a3dc2d0a",
   "metadata": {},
   "outputs": [
    {
     "name": "stdout",
     "output_type": "stream",
     "text": [
      "<class 'pandas.core.frame.DataFrame'>\n",
      "Int64Index: 158278 entries, 0 to 159570\n",
      "Data columns (total 2 columns):\n",
      " #   Column  Non-Null Count   Dtype \n",
      "---  ------  --------------   ----- \n",
      " 0   text    158278 non-null  object\n",
      " 1   toxic   158278 non-null  int64 \n",
      "dtypes: int64(1), object(1)\n",
      "memory usage: 3.6+ MB\n"
     ]
    }
   ],
   "source": [
    "comments.info()"
   ]
  },
  {
   "cell_type": "code",
   "execution_count": 82,
   "id": "6219e609",
   "metadata": {},
   "outputs": [
    {
     "data": {
      "text/plain": [
       "0    142175\n",
       "1     16103\n",
       "Name: toxic, dtype: int64"
      ]
     },
     "execution_count": 82,
     "metadata": {},
     "output_type": "execute_result"
    }
   ],
   "source": [
    "comments.toxic.value_counts()"
   ]
  },
  {
   "cell_type": "markdown",
   "id": "bdd498b9",
   "metadata": {},
   "source": [
    "Для экономии ресурсов, сократим нашу базу заодно постараемся учесть баланс классов целевого признака. Возьмем по 7500 записей с обоими целевыми признаками."
   ]
  },
  {
   "cell_type": "code",
   "execution_count": 85,
   "id": "5bb00c24",
   "metadata": {},
   "outputs": [],
   "source": [
    "comments_lightweighted, temp = train_test_split(comments, train_size=15000, random_state=2307,\n",
    "                                                stratify=comments.toxic)\n",
    "comments_lightweighted.reset_index(inplace=True, drop=True)"
   ]
  },
  {
   "cell_type": "code",
   "execution_count": 86,
   "id": "3f4cd5ea",
   "metadata": {},
   "outputs": [
    {
     "data": {
      "text/html": [
       "<div>\n",
       "<style scoped>\n",
       "    .dataframe tbody tr th:only-of-type {\n",
       "        vertical-align: middle;\n",
       "    }\n",
       "\n",
       "    .dataframe tbody tr th {\n",
       "        vertical-align: top;\n",
       "    }\n",
       "\n",
       "    .dataframe thead th {\n",
       "        text-align: right;\n",
       "    }\n",
       "</style>\n",
       "<table border=\"1\" class=\"dataframe\">\n",
       "  <thead>\n",
       "    <tr style=\"text-align: right;\">\n",
       "      <th></th>\n",
       "      <th>text</th>\n",
       "      <th>toxic</th>\n",
       "    </tr>\n",
       "  </thead>\n",
       "  <tbody>\n",
       "    <tr>\n",
       "      <th>0</th>\n",
       "      <td>i propose starting an article called nbn for b...</td>\n",
       "      <td>0</td>\n",
       "    </tr>\n",
       "    <tr>\n",
       "      <th>1</th>\n",
       "      <td>then please refrain from making unfounded accu...</td>\n",
       "      <td>0</td>\n",
       "    </tr>\n",
       "    <tr>\n",
       "      <th>2</th>\n",
       "      <td>a pair of twins you write a pair of twins twin...</td>\n",
       "      <td>1</td>\n",
       "    </tr>\n",
       "    <tr>\n",
       "      <th>3</th>\n",
       "      <td>is it the subtle idiosyncrasies of the microso...</td>\n",
       "      <td>0</td>\n",
       "    </tr>\n",
       "    <tr>\n",
       "      <th>4</th>\n",
       "      <td>though i do know and it can be clearly seen on...</td>\n",
       "      <td>0</td>\n",
       "    </tr>\n",
       "    <tr>\n",
       "      <th>5</th>\n",
       "      <td>portland next time please be careful about the...</td>\n",
       "      <td>0</td>\n",
       "    </tr>\n",
       "    <tr>\n",
       "      <th>6</th>\n",
       "      <td>could you please quote the section a whole par...</td>\n",
       "      <td>0</td>\n",
       "    </tr>\n",
       "    <tr>\n",
       "      <th>7</th>\n",
       "      <td>actually the winner of the dallas vs seattle g...</td>\n",
       "      <td>0</td>\n",
       "    </tr>\n",
       "    <tr>\n",
       "      <th>8</th>\n",
       "      <td>anushirvan khampalak is just hurted that he is...</td>\n",
       "      <td>1</td>\n",
       "    </tr>\n",
       "    <tr>\n",
       "      <th>9</th>\n",
       "      <td>forthcoming book a trio of lds scholars have b...</td>\n",
       "      <td>0</td>\n",
       "    </tr>\n",
       "    <tr>\n",
       "      <th>10</th>\n",
       "      <td>why wouldn t you consider mexico to be on the ...</td>\n",
       "      <td>0</td>\n",
       "    </tr>\n",
       "  </tbody>\n",
       "</table>\n",
       "</div>"
      ],
      "text/plain": [
       "                                                 text  toxic\n",
       "0   i propose starting an article called nbn for b...      0\n",
       "1   then please refrain from making unfounded accu...      0\n",
       "2   a pair of twins you write a pair of twins twin...      1\n",
       "3   is it the subtle idiosyncrasies of the microso...      0\n",
       "4   though i do know and it can be clearly seen on...      0\n",
       "5   portland next time please be careful about the...      0\n",
       "6   could you please quote the section a whole par...      0\n",
       "7   actually the winner of the dallas vs seattle g...      0\n",
       "8   anushirvan khampalak is just hurted that he is...      1\n",
       "9   forthcoming book a trio of lds scholars have b...      0\n",
       "10  why wouldn t you consider mexico to be on the ...      0"
      ]
     },
     "metadata": {},
     "output_type": "display_data"
    },
    {
     "name": "stdout",
     "output_type": "stream",
     "text": [
      "<class 'pandas.core.frame.DataFrame'>\n",
      "RangeIndex: 15000 entries, 0 to 14999\n",
      "Data columns (total 2 columns):\n",
      " #   Column  Non-Null Count  Dtype \n",
      "---  ------  --------------  ----- \n",
      " 0   text    15000 non-null  object\n",
      " 1   toxic   15000 non-null  int64 \n",
      "dtypes: int64(1), object(1)\n",
      "memory usage: 234.5+ KB\n"
     ]
    }
   ],
   "source": [
    "display(comments_lightweighted.head(11))\n",
    "comments_lightweighted.info()"
   ]
  },
  {
   "cell_type": "code",
   "execution_count": 87,
   "id": "d6afc1f4",
   "metadata": {
    "scrolled": true
   },
   "outputs": [
    {
     "data": {
      "text/plain": [
       "0    0.898267\n",
       "1    0.101733\n",
       "Name: toxic, dtype: float64"
      ]
     },
     "execution_count": 87,
     "metadata": {},
     "output_type": "execute_result"
    }
   ],
   "source": [
    "comments_lightweighted.toxic.value_counts(normalize=True)"
   ]
  },
  {
   "cell_type": "markdown",
   "id": "7f5d9ccd",
   "metadata": {},
   "source": [
    "Начнём работать с берт. Загружаем предварительно обученную модель BERT."
   ]
  },
  {
   "cell_type": "code",
   "execution_count": 89,
   "id": "3fd1e82a",
   "metadata": {},
   "outputs": [],
   "source": [
    "tokenizer = transformers.AutoTokenizer.from_pretrained(\"unitary/toxic-bert\")\n",
    "\n",
    "model = transformers.AutoModelForSequenceClassification.from_pretrained(\"unitary/toxic-bert\")"
   ]
  },
  {
   "cell_type": "markdown",
   "id": "d3ad375c",
   "metadata": {},
   "source": [
    "Токенизруем текст: разбиваем его на слова в удобный формат для модели Берт."
   ]
  },
  {
   "cell_type": "markdown",
   "id": "080f6adf",
   "metadata": {},
   "source": [
    "Время выполнения ячейки ниже: ~5 сек, было 30 на старом берте"
   ]
  },
  {
   "cell_type": "code",
   "execution_count": 90,
   "id": "a0ed7fd3",
   "metadata": {},
   "outputs": [
    {
     "name": "stdout",
     "output_type": "stream",
     "text": [
      "CPU times: total: 5.69 s\n",
      "Wall time: 5.24 s\n"
     ]
    }
   ],
   "source": [
    "%%time\n",
    "tokenized = comments_lightweighted.text.apply((lambda x: tokenizer.encode(x, add_special_tokens=True,\n",
    "                                                                        max_length=512, truncation=True)))\n",
    "#выпадали варнинги, по их рекомендациям добавил два настроечных параметра: max_length=512, truncation=True"
   ]
  },
  {
   "cell_type": "markdown",
   "id": "67269971",
   "metadata": {},
   "source": [
    "Применим метод padding, чтобы после токенизации длины исходных текстов в датафрейме были равными. Только при таком условии будет работать модель BERT. Пусть стандартной длиной вектора n будет длина наибольшего во всём датасете вектора. Остальные векторы дополним нулями:"
   ]
  },
  {
   "cell_type": "code",
   "execution_count": 91,
   "id": "284bb0b7",
   "metadata": {},
   "outputs": [
    {
     "name": "stdout",
     "output_type": "stream",
     "text": [
      "CPU times: total: 906 ms\n",
      "Wall time: 907 ms\n"
     ]
    },
    {
     "data": {
      "text/plain": [
       "(15000, 512)"
      ]
     },
     "execution_count": 91,
     "metadata": {},
     "output_type": "execute_result"
    }
   ],
   "source": [
    "%%time\n",
    "max_len = 0\n",
    "for i in tokenized.values:\n",
    "    if len(i) > max_len:\n",
    "        max_len = len(i)\n",
    "\n",
    "padded = np.array([i + [0]*(max_len-len(i)) for i in tokenized.values])\n",
    "np.array(padded).shape"
   ]
  },
  {
   "cell_type": "code",
   "execution_count": 98,
   "id": "c395df5b",
   "metadata": {},
   "outputs": [
    {
     "data": {
      "text/plain": [
       "(15000, 512)"
      ]
     },
     "execution_count": 98,
     "metadata": {},
     "output_type": "execute_result"
    }
   ],
   "source": [
    "padded.shape"
   ]
  },
  {
   "cell_type": "markdown",
   "id": "7cd78ca1",
   "metadata": {},
   "source": [
    "Теперь поясним модели, что нули не несут значимой информации. Это нужно для компоненты модели, которая называется «внимание» (англ. attention).\n",
    "Отбросим эти токены и «создадим маску» для действительно важных токенов, то есть укажем нулевые и не нулевые значения:"
   ]
  },
  {
   "cell_type": "code",
   "execution_count": 92,
   "id": "ca5bac7a",
   "metadata": {},
   "outputs": [
    {
     "data": {
      "text/plain": [
       "(15000, 512)"
      ]
     },
     "execution_count": 92,
     "metadata": {},
     "output_type": "execute_result"
    }
   ],
   "source": [
    "attention_mask = np.where(padded != 0, 1, 0)\n",
    "attention_mask.shape"
   ]
  },
  {
   "cell_type": "code",
   "execution_count": 95,
   "id": "c1988519",
   "metadata": {},
   "outputs": [
    {
     "data": {
      "text/plain": [
       "transformers.tokenization_utils_base.BatchEncoding"
      ]
     },
     "execution_count": 95,
     "metadata": {},
     "output_type": "execute_result"
    }
   ],
   "source": [
    "token_dict = tokenizer.batch_encode_plus(comments_lightweighted.text.to_list()[:10], \n",
    "                                         padding=True, \n",
    "                                         max_length=512,\n",
    "                                         return_attention_mask=True,\n",
    "                                         truncation=True,\n",
    "                                         return_tensors='pt')\n",
    "type(token_dict)"
   ]
  },
  {
   "cell_type": "markdown",
   "id": "6e29cbee",
   "metadata": {},
   "source": [
    "Начнём преобразование текстов в эмбеддинги:"
   ]
  },
  {
   "cell_type": "code",
   "execution_count": 36,
   "id": "b9d83bbe",
   "metadata": {},
   "outputs": [],
   "source": [
    "feats = pd.read_csv('features_new.csv')\n",
    "targs = pd.read_csv('target_new.csv')"
   ]
  },
  {
   "cell_type": "code",
   "execution_count": 37,
   "id": "49c585d9",
   "metadata": {
    "scrolled": true
   },
   "outputs": [
    {
     "data": {
      "text/html": [
       "<div>\n",
       "<style scoped>\n",
       "    .dataframe tbody tr th:only-of-type {\n",
       "        vertical-align: middle;\n",
       "    }\n",
       "\n",
       "    .dataframe tbody tr th {\n",
       "        vertical-align: top;\n",
       "    }\n",
       "\n",
       "    .dataframe thead th {\n",
       "        text-align: right;\n",
       "    }\n",
       "</style>\n",
       "<table border=\"1\" class=\"dataframe\">\n",
       "  <thead>\n",
       "    <tr style=\"text-align: right;\">\n",
       "      <th></th>\n",
       "      <th>0</th>\n",
       "      <th>1</th>\n",
       "      <th>2</th>\n",
       "      <th>3</th>\n",
       "      <th>4</th>\n",
       "      <th>5</th>\n",
       "    </tr>\n",
       "  </thead>\n",
       "  <tbody>\n",
       "    <tr>\n",
       "      <th>0</th>\n",
       "      <td>-7.228639</td>\n",
       "      <td>-9.082730</td>\n",
       "      <td>-8.652795</td>\n",
       "      <td>-8.920074</td>\n",
       "      <td>-8.617583</td>\n",
       "      <td>-8.890891</td>\n",
       "    </tr>\n",
       "    <tr>\n",
       "      <th>1</th>\n",
       "      <td>-4.858508</td>\n",
       "      <td>-9.359257</td>\n",
       "      <td>-7.821092</td>\n",
       "      <td>-8.675237</td>\n",
       "      <td>-7.725113</td>\n",
       "      <td>-8.597935</td>\n",
       "    </tr>\n",
       "    <tr>\n",
       "      <th>2</th>\n",
       "      <td>1.929142</td>\n",
       "      <td>-5.861736</td>\n",
       "      <td>-2.533387</td>\n",
       "      <td>-6.828632</td>\n",
       "      <td>0.346626</td>\n",
       "      <td>-4.317956</td>\n",
       "    </tr>\n",
       "    <tr>\n",
       "      <th>3</th>\n",
       "      <td>-6.994448</td>\n",
       "      <td>-9.158156</td>\n",
       "      <td>-8.629813</td>\n",
       "      <td>-8.964745</td>\n",
       "      <td>-8.584523</td>\n",
       "      <td>-8.866958</td>\n",
       "    </tr>\n",
       "    <tr>\n",
       "      <th>4</th>\n",
       "      <td>-7.318407</td>\n",
       "      <td>-9.056867</td>\n",
       "      <td>-8.622766</td>\n",
       "      <td>-8.985188</td>\n",
       "      <td>-8.657290</td>\n",
       "      <td>-8.911773</td>\n",
       "    </tr>\n",
       "  </tbody>\n",
       "</table>\n",
       "</div>"
      ],
      "text/plain": [
       "          0         1         2         3         4         5\n",
       "0 -7.228639 -9.082730 -8.652795 -8.920074 -8.617583 -8.890891\n",
       "1 -4.858508 -9.359257 -7.821092 -8.675237 -7.725113 -8.597935\n",
       "2  1.929142 -5.861736 -2.533387 -6.828632  0.346626 -4.317956\n",
       "3 -6.994448 -9.158156 -8.629813 -8.964745 -8.584523 -8.866958\n",
       "4 -7.318407 -9.056867 -8.622766 -8.985188 -8.657290 -8.911773"
      ]
     },
     "execution_count": 37,
     "metadata": {},
     "output_type": "execute_result"
    }
   ],
   "source": [
    "feats.head()"
   ]
  },
  {
   "cell_type": "code",
   "execution_count": 38,
   "id": "a10244ed",
   "metadata": {},
   "outputs": [
    {
     "data": {
      "text/plain": [
       "(15000, 6)"
      ]
     },
     "metadata": {},
     "output_type": "display_data"
    },
    {
     "data": {
      "text/plain": [
       "(15000, 1)"
      ]
     },
     "execution_count": 38,
     "metadata": {},
     "output_type": "execute_result"
    }
   ],
   "source": [
    "display(feats.shape)\n",
    "targs.shape"
   ]
  },
  {
   "cell_type": "markdown",
   "id": "609c6827",
   "metadata": {},
   "source": [
    "Можем приступать к обучению моделей."
   ]
  },
  {
   "cell_type": "markdown",
   "id": "4c4df223",
   "metadata": {},
   "source": [
    "## Обучение моделей"
   ]
  },
  {
   "cell_type": "markdown",
   "id": "495bf0f4",
   "metadata": {},
   "source": [
    "Целевым признаком у нас является столбец `toxic`, в нем отражен факт токсичности коммнтария. Эта информация является категориальной с двумя значениями, поэтому нам необходимо решить задачу бинарной классификации\n",
    "\n",
    "Проверим следующие модели машинного обучения для задач бинарной классификации:\n",
    "\n",
    "\n",
    "`Логистическая регрессия`\n",
    "\n",
    "`Случайный лес`\n",
    "\n",
    "`LGBMClassifier`\n",
    "\n",
    "Для каждой модели (по возможности), будем подбирать такие гиперпараметры, которые дадут большую точность на кросс-валидации глубиною 3.\n",
    "\n",
    "Для подсчёта метрики f1 для каждой модели напишем функцию. Дополнительно, для себя посчитаем ещё 'accuracy', 'precision' и 'recall'. Напомним:\n",
    "\n",
    "- `accuracy` — это доля правильных ответов алгоритма\n",
    "- `precision` — это доля объектов, названных классификатором положительными и при этом действительно являющимися положительными\n",
    "- `recall` — это доля объектов положительного класса, правильно определенного алгоритмом, из всех объектов положительного класса.\n",
    "- `f1` — это среднее гармоническое величин `precision` и `recall`"
   ]
  },
  {
   "cell_type": "code",
   "execution_count": 39,
   "id": "7b0c2de8",
   "metadata": {},
   "outputs": [],
   "source": [
    "def score_dataset(X, y, model):\n",
    "    \"\"\"\n",
    "    Возвращает кортеж оценок (accuracy, precision, recall, f1)\n",
    "    из модели model и указанных обучающих и валидационных выборок\n",
    "    \"\"\"\n",
    "    preds = model.predict(X)\n",
    "    return(accuracy_score(y, preds),\n",
    "           precision_score(y, preds),\n",
    "           recall_score(y, preds),\n",
    "           f1_score(y, preds))    "
   ]
  },
  {
   "cell_type": "code",
   "execution_count": 40,
   "id": "0c67af51",
   "metadata": {},
   "outputs": [],
   "source": [
    "#зафиксируем параметр псевдослучайности для всех разделений и моделей.\n",
    "RND_ST = 9998"
   ]
  },
  {
   "cell_type": "code",
   "execution_count": 41,
   "id": "432de511",
   "metadata": {},
   "outputs": [],
   "source": [
    "X_train, X_test, y_train, y_test = train_test_split(feats, targs, test_size=0.25, random_state=RND_ST, stratify=targs)"
   ]
  },
  {
   "cell_type": "markdown",
   "id": "71b77f30",
   "metadata": {},
   "source": [
    "### Логистичеческая регрессия."
   ]
  },
  {
   "cell_type": "code",
   "execution_count": 42,
   "id": "e29d3bd0",
   "metadata": {},
   "outputs": [],
   "source": [
    "parameters = {'solver': ['saga'],\n",
    "              'penalty': ['none'],\n",
    "              'C': np.linspace(8, 9, 1),\n",
    "              'intercept_scaling': np.linspace(0.6, 0.7, 1)}"
   ]
  },
  {
   "cell_type": "code",
   "execution_count": 43,
   "id": "c6fcf0de",
   "metadata": {},
   "outputs": [
    {
     "name": "stdout",
     "output_type": "stream",
     "text": [
      "Метрика f1 на обучающей выборке: 0.871\n",
      "Параметры лучшей модели: LogisticRegression(C=8.0, class_weight='balanced', intercept_scaling=0.6,\n",
      "                   penalty='none', random_state=9998, solver='saga')\n",
      "CPU times: total: 234 ms\n",
      "Wall time: 3.1 s\n"
     ]
    }
   ],
   "source": [
    "%%time\n",
    "model_lr = LogisticRegression(random_state=RND_ST, class_weight='balanced')\n",
    "random_search = RandomizedSearchCV(model_lr, param_distributions=parameters, n_jobs=-1,\n",
    "                                   scoring='f1', cv=3,\n",
    "                                   n_iter=1, verbose=0)  # без рандом_стейта, чтоб прогонял всешда по разным выборкам\n",
    "random_search.fit(X_train, y_train)\n",
    "model_final_l = random_search.best_estimator_\n",
    "\n",
    "print(f'Метрика f1 на обучающей выборке: {random_search.best_score_:0.4}')\n",
    "print(f'Параметры лучшей модели: {model_final_l}')"
   ]
  },
  {
   "cell_type": "markdown",
   "id": "0cf841b7",
   "metadata": {},
   "source": [
    "Довльно неплохой результат! Целевая метрика F1 на выборке с кросс-валидацией=3 дала значение в 0.871."
   ]
  },
  {
   "cell_type": "code",
   "execution_count": 44,
   "id": "759af42f",
   "metadata": {},
   "outputs": [
    {
     "data": {
      "text/html": [
       "<div>\n",
       "<style scoped>\n",
       "    .dataframe tbody tr th:only-of-type {\n",
       "        vertical-align: middle;\n",
       "    }\n",
       "\n",
       "    .dataframe tbody tr th {\n",
       "        vertical-align: top;\n",
       "    }\n",
       "\n",
       "    .dataframe thead th {\n",
       "        text-align: right;\n",
       "    }\n",
       "</style>\n",
       "<table border=\"1\" class=\"dataframe\">\n",
       "  <thead>\n",
       "    <tr style=\"text-align: right;\">\n",
       "      <th></th>\n",
       "      <th>f1_train (cv=3)</th>\n",
       "    </tr>\n",
       "  </thead>\n",
       "  <tbody>\n",
       "    <tr>\n",
       "      <th>logistic_regression</th>\n",
       "      <td>0.871</td>\n",
       "    </tr>\n",
       "  </tbody>\n",
       "</table>\n",
       "</div>"
      ],
      "text/plain": [
       "                     f1_train (cv=3)\n",
       "logistic_regression            0.871"
      ]
     },
     "metadata": {},
     "output_type": "display_data"
    }
   ],
   "source": [
    "results = pd.DataFrame({'f1_train (cv=3)': [0.871]}, index=['logistic_regression'])\n",
    "display(results)"
   ]
  },
  {
   "cell_type": "markdown",
   "id": "ffd7967a",
   "metadata": {},
   "source": [
    "### Случайный лес"
   ]
  },
  {
   "cell_type": "code",
   "execution_count": 45,
   "id": "1ce47144",
   "metadata": {},
   "outputs": [],
   "source": [
    "parameters = {'n_estimators': np.arange(124, 125, 10),\n",
    "                  'max_depth': np.arange(27, 28, 10),\n",
    "                  'min_samples_split': np.arange(2, 3, 2),\n",
    "                  'max_features': ['sqrt'],\n",
    "                  'criterion': ['entropy'],\n",
    "                  'min_samples_leaf': np.arange(1, 2, 2),\n",
    "                  'bootstrap': [True]}"
   ]
  },
  {
   "cell_type": "code",
   "execution_count": 46,
   "id": "33e82f87",
   "metadata": {
    "scrolled": false
   },
   "outputs": [
    {
     "name": "stdout",
     "output_type": "stream",
     "text": [
      "Метрика f1 на обучающей выборке: 0.9051\n",
      "Параметры лучшей модели: RandomForestClassifier(class_weight='balanced', criterion='entropy',\n",
      "                       max_depth=27, max_features='sqrt', n_estimators=124,\n",
      "                       random_state=9998)\n",
      "CPU times: total: 1.89 s\n",
      "Wall time: 4.23 s\n"
     ]
    }
   ],
   "source": [
    "%%time\n",
    "model_r = RandomForestClassifier(random_state=RND_ST, class_weight='balanced')\n",
    "random_search = RandomizedSearchCV(model_r, param_distributions=parameters, n_jobs=-1,\n",
    "                                   scoring='f1', cv=3,\n",
    "                                   n_iter=1, verbose=0)  # без рандом_стейта, чтоб прогонял всешда по разным выборкам\n",
    "random_search.fit(X_train, y_train)\n",
    "model_final_r = random_search.best_estimator_\n",
    "\n",
    "print(f'Метрика f1 на обучающей выборке: {random_search.best_score_:0.4}')\n",
    "print(f'Параметры лучшей модели: {model_final_r}')"
   ]
  },
  {
   "cell_type": "code",
   "execution_count": 47,
   "id": "37d2cb9f",
   "metadata": {},
   "outputs": [
    {
     "data": {
      "text/html": [
       "<div>\n",
       "<style scoped>\n",
       "    .dataframe tbody tr th:only-of-type {\n",
       "        vertical-align: middle;\n",
       "    }\n",
       "\n",
       "    .dataframe tbody tr th {\n",
       "        vertical-align: top;\n",
       "    }\n",
       "\n",
       "    .dataframe thead th {\n",
       "        text-align: right;\n",
       "    }\n",
       "</style>\n",
       "<table border=\"1\" class=\"dataframe\">\n",
       "  <thead>\n",
       "    <tr style=\"text-align: right;\">\n",
       "      <th></th>\n",
       "      <th>f1_train (cv=3)</th>\n",
       "    </tr>\n",
       "  </thead>\n",
       "  <tbody>\n",
       "    <tr>\n",
       "      <th>RandomForestClassifier</th>\n",
       "      <td>0.9051</td>\n",
       "    </tr>\n",
       "    <tr>\n",
       "      <th>logistic_regression</th>\n",
       "      <td>0.8710</td>\n",
       "    </tr>\n",
       "  </tbody>\n",
       "</table>\n",
       "</div>"
      ],
      "text/plain": [
       "                        f1_train (cv=3)\n",
       "RandomForestClassifier           0.9051\n",
       "logistic_regression              0.8710"
      ]
     },
     "execution_count": 47,
     "metadata": {},
     "output_type": "execute_result"
    }
   ],
   "source": [
    "results.loc['RandomForestClassifier'] = [0.9051]\n",
    "results.sort_values(by='f1_train (cv=3)', ascending=False)"
   ]
  },
  {
   "cell_type": "markdown",
   "id": "89e4dc21",
   "metadata": {},
   "source": [
    "Хуже и дольше, чем логистическая регрессия, но тоже гораздо выше требуемой метрики в 0.75!"
   ]
  },
  {
   "cell_type": "markdown",
   "id": "9c0f685a",
   "metadata": {},
   "source": [
    "### LGBMClassifier"
   ]
  },
  {
   "cell_type": "code",
   "execution_count": 48,
   "id": "c81353f1",
   "metadata": {},
   "outputs": [],
   "source": [
    "parameters = {\"learning_rate\": np.arange(0.13, 0.14, 0.02),\n",
    "              \"max_depth\": np.arange(9, 10, 2),\n",
    "              \"num_leaves\": np.arange(162, 163, 1),\n",
    "              \"n_estimators\": np.arange(490, 500, 10)}"
   ]
  },
  {
   "cell_type": "code",
   "execution_count": 49,
   "id": "4f89ac6c",
   "metadata": {},
   "outputs": [
    {
     "name": "stdout",
     "output_type": "stream",
     "text": [
      "Метрика f1 на обучающей выборке: 0.891\n",
      "Параметры лучшей модели: LGBMClassifier(class_weight='balanced', learning_rate=0.13, max_depth=9,\n",
      "               n_estimators=490, num_leaves=162, random_state=9998)\n",
      "CPU times: total: 1.8 s\n",
      "Wall time: 2.34 s\n"
     ]
    }
   ],
   "source": [
    "%%time\n",
    "model_lg = LGBMClassifier(random_state=RND_ST, class_weight='balanced')\n",
    "random_search = RandomizedSearchCV(model_lg, param_distributions=parameters, n_jobs=-1,\n",
    "                                   scoring='f1', cv=3,\n",
    "                                   n_iter=1, verbose=0)\n",
    "random_search.fit(X_train, y_train)\n",
    "model_final_lg = random_search.best_estimator_\n",
    "\n",
    "print(f'Метрика f1 на обучающей выборке: {random_search.best_score_:0.4}')\n",
    "print(f'Параметры лучшей модели: {model_final_lg}')"
   ]
  },
  {
   "cell_type": "markdown",
   "id": "7be0a717",
   "metadata": {},
   "source": [
    "#это все старые комментарии\n",
    "\n",
    "Практически такой же результат как и у логистической регрессии, разница в 0.0008! Только время работы в 7,5 раз дольше! Оставим моделью-победителем логистическую регрессию."
   ]
  },
  {
   "cell_type": "code",
   "execution_count": 50,
   "id": "e7c34adf",
   "metadata": {},
   "outputs": [
    {
     "data": {
      "text/html": [
       "<div>\n",
       "<style scoped>\n",
       "    .dataframe tbody tr th:only-of-type {\n",
       "        vertical-align: middle;\n",
       "    }\n",
       "\n",
       "    .dataframe tbody tr th {\n",
       "        vertical-align: top;\n",
       "    }\n",
       "\n",
       "    .dataframe thead th {\n",
       "        text-align: right;\n",
       "    }\n",
       "</style>\n",
       "<table border=\"1\" class=\"dataframe\">\n",
       "  <thead>\n",
       "    <tr style=\"text-align: right;\">\n",
       "      <th></th>\n",
       "      <th>f1_train (cv=3)</th>\n",
       "    </tr>\n",
       "  </thead>\n",
       "  <tbody>\n",
       "    <tr>\n",
       "      <th>RandomForestClassifier</th>\n",
       "      <td>0.9051</td>\n",
       "    </tr>\n",
       "    <tr>\n",
       "      <th>LGBMClassifier</th>\n",
       "      <td>0.8910</td>\n",
       "    </tr>\n",
       "    <tr>\n",
       "      <th>logistic_regression</th>\n",
       "      <td>0.8710</td>\n",
       "    </tr>\n",
       "  </tbody>\n",
       "</table>\n",
       "</div>"
      ],
      "text/plain": [
       "                        f1_train (cv=3)\n",
       "RandomForestClassifier           0.9051\n",
       "LGBMClassifier                   0.8910\n",
       "logistic_regression              0.8710"
      ]
     },
     "execution_count": 50,
     "metadata": {},
     "output_type": "execute_result"
    }
   ],
   "source": [
    "results.loc['LGBMClassifier'] = [0.891]\n",
    "results.sort_values(by='f1_train (cv=3)', ascending=False)"
   ]
  },
  {
   "cell_type": "markdown",
   "id": "137d50f7",
   "metadata": {},
   "source": [
    "## Проверка результатов работы на тестовой выборке:"
   ]
  },
  {
   "cell_type": "code",
   "execution_count": 51,
   "id": "6d992167",
   "metadata": {},
   "outputs": [
    {
     "name": "stdout",
     "output_type": "stream",
     "text": [
      "Показатели итоговой модели logistic_regression: accuracy=0.9685, precision=0.7683, recall=0.9895, f1=0.865\n",
      "CPU times: total: 266 ms\n",
      "Wall time: 77.9 ms\n"
     ]
    },
    {
     "data": {
      "text/plain": [
       "<sklearn.metrics._plot.confusion_matrix.ConfusionMatrixDisplay at 0x1a611870df0>"
      ]
     },
     "execution_count": 51,
     "metadata": {},
     "output_type": "execute_result"
    },
    {
     "data": {
      "image/png": "[encoded data removed]",
      "text/plain": [
       "<Figure size 432x288 with 2 Axes>"
      ]
     },
     "metadata": {
      "needs_background": "light"
     },
     "output_type": "display_data"
    }
   ],
   "source": [
    "%%time\n",
    "scores = score_dataset(X_test, y_test, model_final_l)\n",
    "print(f'Показатели итоговой модели logistic_regression: accuracy={scores[0]:0.4}, precision={scores[1]:0.4}, \\\n",
    "recall={scores[2]:0.4}, f1={scores[3]:0.4}')\n",
    "plot_confusion_matrix(model_final_l, X=X_test, y_true=y_test, normalize=None, cmap='Blues')"
   ]
  },
  {
   "cell_type": "markdown",
   "id": "1647a47b",
   "metadata": {},
   "source": [
    "Логистическая регрессия дала 0.865 на тестовой выборке!"
   ]
  },
  {
   "cell_type": "code",
   "execution_count": 52,
   "id": "087b1254",
   "metadata": {
    "scrolled": false
   },
   "outputs": [
    {
     "name": "stdout",
     "output_type": "stream",
     "text": [
      "Показатели итоговой модели logistic_regression: accuracy=0.9832, precision=0.9121, recall=0.9241, f1=0.9181\n",
      "CPU times: total: 188 ms\n",
      "Wall time: 148 ms\n"
     ]
    },
    {
     "data": {
      "text/plain": [
       "<sklearn.metrics._plot.confusion_matrix.ConfusionMatrixDisplay at 0x1a65818b610>"
      ]
     },
     "execution_count": 52,
     "metadata": {},
     "output_type": "execute_result"
    },
    {
     "data": {
      "image/png": "[encoded data removed]",
      "text/plain": [
       "<Figure size 432x288 with 2 Axes>"
      ]
     },
     "metadata": {
      "needs_background": "light"
     },
     "output_type": "display_data"
    }
   ],
   "source": [
    "%%time\n",
    "scores = score_dataset(X_test, y_test, model_final_r)\n",
    "print(f'Показатели итоговой модели logistic_regression: accuracy={scores[0]:0.4}, precision={scores[1]:0.4}, \\\n",
    "recall={scores[2]:0.4}, f1={scores[3]:0.4}')\n",
    "plot_confusion_matrix(model_final_r, X=X_test, y_true=y_test, normalize=None, cmap='Blues')"
   ]
  },
  {
   "cell_type": "code",
   "execution_count": 53,
   "id": "75e01f4e",
   "metadata": {},
   "outputs": [
    {
     "name": "stdout",
     "output_type": "stream",
     "text": [
      "Показатели итоговой модели LGBMClassifier: accuracy=0.9805, precision=0.8796, recall=0.9372, f1=0.9075\n",
      "CPU times: total: 562 ms\n",
      "Wall time: 155 ms\n"
     ]
    },
    {
     "data": {
      "text/plain": [
       "<sklearn.metrics._plot.confusion_matrix.ConfusionMatrixDisplay at 0x1a6811a0700>"
      ]
     },
     "execution_count": 53,
     "metadata": {},
     "output_type": "execute_result"
    },
    {
     "data": {
      "image/png": "[encoded data removed]",
      "text/plain": [
       "<Figure size 432x288 with 2 Axes>"
      ]
     },
     "metadata": {
      "needs_background": "light"
     },
     "output_type": "display_data"
    }
   ],
   "source": [
    "%%time\n",
    "scores = score_dataset(X_test, y_test, model_final_lg)\n",
    "print(f'Показатели итоговой модели LGBMClassifier: accuracy={scores[0]:0.4}, precision={scores[1]:0.4}, \\\n",
    "recall={scores[2]:0.4}, f1={scores[3]:0.4}')\n",
    "plot_confusion_matrix(model_final_lg, X=X_test, y_true=y_test, normalize=None, cmap='Blues')"
   ]
  },
  {
   "cell_type": "markdown",
   "id": "27f7d189",
   "metadata": {},
   "source": [
    "Отличные результаты для всех моделей на тестовой выборке. По оценке качество-скорость предпочтение лучше отдать СЛУЧАЙНОМУ ЛЕСУ!"
   ]
  },
  {
   "cell_type": "markdown",
   "id": "b2578bc7",
   "metadata": {},
   "source": [
    "### Итоговый вывод:"
   ]
  },
  {
   "cell_type": "markdown",
   "id": "487e3280",
   "metadata": {},
   "source": [
    "В представленных нам исходных данных содержались размеченные текстовые комментарии по признаку токсичны они или нет. Нам требовалось построить такую модель, которая может предсказывать токсичность комментариев с требуемой целевой метрикой f1 не ниже 0.75.\n",
    "\n",
    "Для начала мы предобработали текст: удалили дубликаты, лишние символы и регистры. Далее провели векторизацию наших текстовых представлений с помощью мощнейшего инструмента BERT. С помощью предобученной модели построили новую матрицу признаков, состоящую из векторных представлений наших исходных комментариев.\n",
    "\n",
    "Уже на новых предиктах обучили 3 модели, который все дали отличный резльтат выше требуемой метрики. Лучшей моделью по соотношению скорость-качество стала логистическая регрессия с метрикой F1 = 0.9 на тестовых данных!"
   ]
  },
  {
   "cell_type": "markdown",
   "id": "208ceff2",
   "metadata": {},
   "source": [
    "✽✾✿❁❃❋❀"
   ]
  }
 ],
 "metadata": {
  "kernelspec": {
   "display_name": "Python 3 (ipykernel)",
   "language": "python",
   "name": "python3"
  },
  "language_info": {
   "codemirror_mode": {
    "name": "ipython",
    "version": 3
   },
   "file_extension": ".py",
   "mimetype": "text/x-python",
   "name": "python",
   "nbconvert_exporter": "python",
   "pygments_lexer": "ipython3",
   "version": "3.9.12"
  },
  "toc": {
   "base_numbering": 1,
   "nav_menu": {},
   "number_sections": true,
   "sideBar": true,
   "skip_h1_title": true,
   "title_cell": "Table of Contents",
   "title_sidebar": "Contents",
   "toc_cell": true,
   "toc_position": {
    "height": "calc(100% - 180px)",
    "left": "10px",
    "top": "150px",
    "width": "165px"
   },
   "toc_section_display": true,
   "toc_window_display": true
  },
  "varInspector": {
   "cols": {
    "lenName": 16,
    "lenType": 16,
    "lenVar": 40
   },
   "kernels_config": {
    "python": {
     "delete_cmd_postfix": "",
     "delete_cmd_prefix": "del ",
     "library": "var_list.py",
     "varRefreshCmd": "print(var_dic_list())"
    },
    "r": {
     "delete_cmd_postfix": ") ",
     "delete_cmd_prefix": "rm(",
     "library": "var_list.r",
     "varRefreshCmd": "cat(var_dic_list()) "
    }
   },
   "types_to_exclude": [
    "module",
    "function",
    "builtin_function_or_method",
    "instance",
    "_Feature"
   ],
   "window_display": false
  }
 },
 "nbformat": 4,
 "nbformat_minor": 5
}

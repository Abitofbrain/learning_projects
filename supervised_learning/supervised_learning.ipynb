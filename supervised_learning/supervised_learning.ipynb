{
 "cells": [
  {
   "cell_type": "markdown",
   "id": "1af51017",
   "metadata": {},
   "source": [
    "# Построение предсказательной системы прогнозирования оттока клиентов КБ \"Бета-Банк\""
   ]
  },
  {
   "cell_type": "markdown",
   "id": "a0c1a8db",
   "metadata": {
    "toc": true
   },
   "source": [
    "<h1>Table of Contents<span class=\"tocSkip\"></span></h1>\n",
    "<div class=\"toc\"><ul class=\"toc-item\"><li><span><a href=\"#Описание-проекта\" data-toc-modified-id=\"Описание-проекта-1\"><span class=\"toc-item-num\">1&nbsp;&nbsp;</span>Описание проекта</a></span></li><li><span><a href=\"#Обзор-и-предобработка-данных.\" data-toc-modified-id=\"Обзор-и-предобработка-данных.-2\"><span class=\"toc-item-num\">2&nbsp;&nbsp;</span>Обзор и предобработка данных.</a></span><ul class=\"toc-item\"><li><span><a href=\"#Столбец-credit_score\" data-toc-modified-id=\"Столбец-credit_score-2.1\"><span class=\"toc-item-num\">2.1&nbsp;&nbsp;</span>Столбец <code>credit_score</code></a></span></li><li><span><a href=\"#Столбец-geography\" data-toc-modified-id=\"Столбец-geography-2.2\"><span class=\"toc-item-num\">2.2&nbsp;&nbsp;</span>Столбец <code>geography</code></a></span></li><li><span><a href=\"#Столбец-gender\" data-toc-modified-id=\"Столбец-gender-2.3\"><span class=\"toc-item-num\">2.3&nbsp;&nbsp;</span>Столбец <code>gender</code></a></span></li><li><span><a href=\"#Столбец-age\" data-toc-modified-id=\"Столбец-age-2.4\"><span class=\"toc-item-num\">2.4&nbsp;&nbsp;</span>Столбец <code>age</code></a></span></li><li><span><a href=\"#Столбец-tenure\" data-toc-modified-id=\"Столбец-tenure-2.5\"><span class=\"toc-item-num\">2.5&nbsp;&nbsp;</span>Столбец <code>tenure</code></a></span></li><li><span><a href=\"#Столбец-balance\" data-toc-modified-id=\"Столбец-balance-2.6\"><span class=\"toc-item-num\">2.6&nbsp;&nbsp;</span>Столбец <code>balance</code></a></span></li><li><span><a href=\"#Столбец-num_of_products\" data-toc-modified-id=\"Столбец-num_of_products-2.7\"><span class=\"toc-item-num\">2.7&nbsp;&nbsp;</span>Столбец <code>num_of_products</code></a></span></li><li><span><a href=\"#Столбцы-has_cr_card-и-is_active_member\" data-toc-modified-id=\"Столбцы-has_cr_card-и-is_active_member-2.8\"><span class=\"toc-item-num\">2.8&nbsp;&nbsp;</span>Столбцы <code>has_cr_card</code> и <code>is_active_member</code></a></span></li><li><span><a href=\"#Столбец-estimated_salary\" data-toc-modified-id=\"Столбец-estimated_salary-2.9\"><span class=\"toc-item-num\">2.9&nbsp;&nbsp;</span>Столбец <code>estimated_salary</code></a></span></li><li><span><a href=\"#Столбец-exited\" data-toc-modified-id=\"Столбец-exited-2.10\"><span class=\"toc-item-num\">2.10&nbsp;&nbsp;</span>Столбец <code>exited</code></a></span></li><li><span><a href=\"#Поиск-коррелирующих-данных\" data-toc-modified-id=\"Поиск-коррелирующих-данных-2.11\"><span class=\"toc-item-num\">2.11&nbsp;&nbsp;</span>Поиск коррелирующих данных</a></span></li><li><span><a href=\"#Вывод:\" data-toc-modified-id=\"Вывод:-2.12\"><span class=\"toc-item-num\">2.12&nbsp;&nbsp;</span>Вывод:</a></span></li></ul></li><li><span><a href=\"#Разделение-данных\" data-toc-modified-id=\"Разделение-данных-3\"><span class=\"toc-item-num\">3&nbsp;&nbsp;</span>Разделение данных</a></span></li><li><span><a href=\"#Кодирование-и-масштабирование-предсказательных-признаков.\" data-toc-modified-id=\"Кодирование-и-масштабирование-предсказательных-признаков.-4\"><span class=\"toc-item-num\">4&nbsp;&nbsp;</span>Кодирование и масштабирование предсказательных признаков.</a></span><ul class=\"toc-item\"><li><span><a href=\"#OneHot-encoding\" data-toc-modified-id=\"OneHot-encoding-4.1\"><span class=\"toc-item-num\">4.1&nbsp;&nbsp;</span>OneHot-encoding</a></span><ul class=\"toc-item\"><li><span><a href=\"#Комментарий-от-студента_1\" data-toc-modified-id=\"Комментарий-от-студента_1-4.1.1\"><span class=\"toc-item-num\">4.1.1&nbsp;&nbsp;</span>Комментарий от студента_1</a></span></li></ul></li><li><span><a href=\"#Масштабирование\" data-toc-modified-id=\"Масштабирование-4.2\"><span class=\"toc-item-num\">4.2&nbsp;&nbsp;</span>Масштабирование</a></span><ul class=\"toc-item\"><li><span><a href=\"#Комментарий-от-студента_1\" data-toc-modified-id=\"Комментарий-от-студента_1-4.2.1\"><span class=\"toc-item-num\">4.2.1&nbsp;&nbsp;</span>Комментарий от студента_1</a></span></li></ul></li></ul></li><li><span><a href=\"#Обучение-моделей-прогнозирования-без-учета-дисбаланса-классов:\" data-toc-modified-id=\"Обучение-моделей-прогнозирования-без-учета-дисбаланса-классов:-5\"><span class=\"toc-item-num\">5&nbsp;&nbsp;</span>Обучение моделей прогнозирования без учета дисбаланса классов:</a></span><ul class=\"toc-item\"><li><span><a href=\"#Логистическая-регрессия-(модель-L1)\" data-toc-modified-id=\"Логистическая-регрессия-(модель-L1)-5.1\"><span class=\"toc-item-num\">5.1&nbsp;&nbsp;</span>Логистическая регрессия (модель L1)</a></span></li><li><span><a href=\"#Случайный-лес-(Модель-R1)\" data-toc-modified-id=\"Случайный-лес-(Модель-R1)-5.2\"><span class=\"toc-item-num\">5.2&nbsp;&nbsp;</span>Случайный лес (Модель R1)</a></span><ul class=\"toc-item\"><li><span><a href=\"#Комментарий-от-студента_1\" data-toc-modified-id=\"Комментарий-от-студента_1-5.2.1\"><span class=\"toc-item-num\">5.2.1&nbsp;&nbsp;</span>Комментарий от студента_1</a></span></li></ul></li><li><span><a href=\"#Вывод:\" data-toc-modified-id=\"Вывод:-5.3\"><span class=\"toc-item-num\">5.3&nbsp;&nbsp;</span>Вывод:</a></span></li></ul></li><li><span><a href=\"#Устранение-дисбаланса-и-улучшение-качества-моделей\" data-toc-modified-id=\"Устранение-дисбаланса-и-улучшение-качества-моделей-6\"><span class=\"toc-item-num\">6&nbsp;&nbsp;</span>Устранение дисбаланса и улучшение качества моделей</a></span><ul class=\"toc-item\"><li><ul class=\"toc-item\"><li><span><a href=\"#Комментарий-от-студента_1\" data-toc-modified-id=\"Комментарий-от-студента_1-6.0.1\"><span class=\"toc-item-num\">6.0.1&nbsp;&nbsp;</span>Комментарий от студента_1</a></span></li></ul></li><li><span><a href=\"#Параметр-'class_weight='balanced''\" data-toc-modified-id=\"Параметр-'class_weight='balanced''-6.1\"><span class=\"toc-item-num\">6.1&nbsp;&nbsp;</span>Параметр 'class_weight='balanced''</a></span><ul class=\"toc-item\"><li><span><a href=\"#Логистическая-регрессия-(model_L1_wb)\" data-toc-modified-id=\"Логистическая-регрессия-(model_L1_wb)-6.1.1\"><span class=\"toc-item-num\">6.1.1&nbsp;&nbsp;</span>Логистическая регрессия (model_L1_wb)</a></span></li><li><span><a href=\"#Случайный-лес-(model_R1_wb)\" data-toc-modified-id=\"Случайный-лес-(model_R1_wb)-6.1.2\"><span class=\"toc-item-num\">6.1.2&nbsp;&nbsp;</span>Случайный лес (model_R1_wb)</a></span></li></ul></li><li><span><a href=\"#Увеличение-выборки-(Upsampling)\" data-toc-modified-id=\"Увеличение-выборки-(Upsampling)-6.2\"><span class=\"toc-item-num\">6.2&nbsp;&nbsp;</span>Увеличение выборки (Upsampling)</a></span><ul class=\"toc-item\"><li><span><a href=\"#Логистическая-регрессия-(модель-L2)\" data-toc-modified-id=\"Логистическая-регрессия-(модель-L2)-6.2.1\"><span class=\"toc-item-num\">6.2.1&nbsp;&nbsp;</span>Логистическая регрессия (модель L2)</a></span></li><li><span><a href=\"#Случайный-лес-(Модель-R2)\" data-toc-modified-id=\"Случайный-лес-(Модель-R2)-6.2.2\"><span class=\"toc-item-num\">6.2.2&nbsp;&nbsp;</span>Случайный лес (Модель R2)</a></span></li><li><span><a href=\"#Комментарий-от-студента_1\" data-toc-modified-id=\"Комментарий-от-студента_1-6.2.3\"><span class=\"toc-item-num\">6.2.3&nbsp;&nbsp;</span>Комментарий от студента_1</a></span></li></ul></li><li><span><a href=\"#Уменьшение-выборки-(Downsampling)\" data-toc-modified-id=\"Уменьшение-выборки-(Downsampling)-6.3\"><span class=\"toc-item-num\">6.3&nbsp;&nbsp;</span>Уменьшение выборки (Downsampling)</a></span><ul class=\"toc-item\"><li><span><a href=\"#Логистическая-регрессия-(модель-L3)\" data-toc-modified-id=\"Логистическая-регрессия-(модель-L3)-6.3.1\"><span class=\"toc-item-num\">6.3.1&nbsp;&nbsp;</span>Логистическая регрессия (модель L3)</a></span></li><li><span><a href=\"#Случайный-лес-(Модель-R3)\" data-toc-modified-id=\"Случайный-лес-(Модель-R3)-6.3.2\"><span class=\"toc-item-num\">6.3.2&nbsp;&nbsp;</span>Случайный лес (Модель R3)</a></span></li></ul></li><li><span><a href=\"#Изменения-порога-классификации-(Change-threshold)\" data-toc-modified-id=\"Изменения-порога-классификации-(Change-threshold)-6.4\"><span class=\"toc-item-num\">6.4&nbsp;&nbsp;</span>Изменения порога классификации (Change threshold)</a></span></li><li><span><a href=\"#Вывод\" data-toc-modified-id=\"Вывод-6.5\"><span class=\"toc-item-num\">6.5&nbsp;&nbsp;</span>Вывод</a></span></li></ul></li><li><span><a href=\"#Проверка-качества-модели-на-тестовой-выборке.\" data-toc-modified-id=\"Проверка-качества-модели-на-тестовой-выборке.-7\"><span class=\"toc-item-num\">7&nbsp;&nbsp;</span>Проверка качества модели на тестовой выборке.</a></span></li><li><span><a href=\"#Общий-вывод:\" data-toc-modified-id=\"Общий-вывод:-8\"><span class=\"toc-item-num\">8&nbsp;&nbsp;</span>Общий вывод:</a></span><ul class=\"toc-item\"><li><ul class=\"toc-item\"><li><span><a href=\"#Комментарий-от-студента_1\" data-toc-modified-id=\"Комментарий-от-студента_1-8.0.1\"><span class=\"toc-item-num\">8.0.1&nbsp;&nbsp;</span>Комментарий от студента_1</a></span></li></ul></li></ul></li></ul></div>"
   ]
  },
  {
   "cell_type": "markdown",
   "id": "307f5496",
   "metadata": {},
   "source": [
    "## Описание проекта"
   ]
  },
  {
   "cell_type": "markdown",
   "id": "c9d2f240",
   "metadata": {},
   "source": [
    " Из «Бета-Банка» стали уходить клиенты. Каждый месяц. Немного, но заметно. Банковские маркетологи посчитали: сохранять текущих клиентов дешевле, чем привлекать новых. Нам предоставили исторические данные о поведении клиентов и расторжении договоров с банком."
   ]
  },
  {
   "cell_type": "markdown",
   "id": "efdb3f44",
   "metadata": {},
   "source": [
    "**Цель проекта:** \n",
    "    \n",
    "   Требуется построить модель для задачи *классификации*, которая спрогнозирует возможную потерю клиента банком. Необходима модель с максимально большим значением `F1-меры`. Чтобы заказчик принял работу, нужно довести метрику по крайней мере до 0.59. Дополнительно заказчик хочет измерить AUC-ROC, сравнивая её значение с F1-мерой."
   ]
  },
  {
   "cell_type": "markdown",
   "id": "bcfbfa49",
   "metadata": {},
   "source": [
    "**План работ:**\n",
    "\n",
    " * Загрузим и подготовим данные. Предобработаем и проведем разведочный анализ (EDA)\n",
    " \n",
    " * Разделим исходные данные на обучающую, валидационную и тестовую выборки.\n",
    " \n",
    " * Исследуем баланс классов, обучим модели без учёта дисбаланса.\n",
    " \n",
    " * Постараемся улучшить качество модели, учитывая дисбаланс классов. Обучим разные модели.\n",
    " \n",
    " * Проверим качество модели на тестовой выборке."
   ]
  },
  {
   "cell_type": "markdown",
   "id": "2dc31d30",
   "metadata": {},
   "source": [
    "## Обзор и предобработка данных."
   ]
  },
  {
   "cell_type": "code",
   "execution_count": 1,
   "id": "54c32a25",
   "metadata": {},
   "outputs": [],
   "source": [
    "# ячейка для загрузки библиотек, служебных команд и функций.\n",
    "\n",
    "import matplotlib.pyplot as plt\n",
    "import numpy as np\n",
    "import os\n",
    "import pandas as pd\n",
    "import seaborn as sns\n",
    "import warnings\n",
    "\n",
    "from sklearn.ensemble import RandomForestClassifier\n",
    "from sklearn.linear_model import LogisticRegression\n",
    "from sklearn.metrics import accuracy_score, f1_score, precision_score, recall_score\n",
    "from sklearn.metrics import plot_confusion_matrix\n",
    "from sklearn.metrics import precision_recall_curve, roc_auc_score, roc_curve \n",
    "from sklearn.model_selection import GridSearchCV, RandomizedSearchCV, train_test_split\n",
    "from sklearn.preprocessing import OneHotEncoder, StandardScaler\n",
    "from sklearn.utils import shuffle\n",
    "\n",
    "warnings.simplefilter(action='ignore')"
   ]
  },
  {
   "cell_type": "code",
   "execution_count": 2,
   "id": "dc2fb8f8",
   "metadata": {},
   "outputs": [],
   "source": [
    "# Считаем наши данные\n",
    "pth1 = 'Churn.csv' # Локальный путь\n",
    "pth2 = '/datasets/Churn.csv' # Серверный путь\n",
    "\n",
    "if os.path.exists(pth1):\n",
    "    churns = pd.read_csv(pth1)\n",
    "elif os.path.exists(pth2):\n",
    "    churns = pd.read_csv(pth2)\n",
    "else:\n",
    "    print('Something is wrong')  "
   ]
  },
  {
   "cell_type": "code",
   "execution_count": 3,
   "id": "5065e88d",
   "metadata": {},
   "outputs": [
    {
     "data": {
      "text/html": [
       "<div>\n",
       "<style scoped>\n",
       "    .dataframe tbody tr th:only-of-type {\n",
       "        vertical-align: middle;\n",
       "    }\n",
       "\n",
       "    .dataframe tbody tr th {\n",
       "        vertical-align: top;\n",
       "    }\n",
       "\n",
       "    .dataframe thead th {\n",
       "        text-align: right;\n",
       "    }\n",
       "</style>\n",
       "<table border=\"1\" class=\"dataframe\">\n",
       "  <thead>\n",
       "    <tr style=\"text-align: right;\">\n",
       "      <th></th>\n",
       "      <th>RowNumber</th>\n",
       "      <th>CustomerId</th>\n",
       "      <th>Surname</th>\n",
       "      <th>CreditScore</th>\n",
       "      <th>Geography</th>\n",
       "      <th>Gender</th>\n",
       "      <th>Age</th>\n",
       "      <th>Tenure</th>\n",
       "      <th>Balance</th>\n",
       "      <th>NumOfProducts</th>\n",
       "      <th>HasCrCard</th>\n",
       "      <th>IsActiveMember</th>\n",
       "      <th>EstimatedSalary</th>\n",
       "      <th>Exited</th>\n",
       "    </tr>\n",
       "  </thead>\n",
       "  <tbody>\n",
       "    <tr>\n",
       "      <th>0</th>\n",
       "      <td>1</td>\n",
       "      <td>15634602</td>\n",
       "      <td>Hargrave</td>\n",
       "      <td>619</td>\n",
       "      <td>France</td>\n",
       "      <td>Female</td>\n",
       "      <td>42</td>\n",
       "      <td>2.0</td>\n",
       "      <td>0.00</td>\n",
       "      <td>1</td>\n",
       "      <td>1</td>\n",
       "      <td>1</td>\n",
       "      <td>101348.88</td>\n",
       "      <td>1</td>\n",
       "    </tr>\n",
       "    <tr>\n",
       "      <th>1</th>\n",
       "      <td>2</td>\n",
       "      <td>15647311</td>\n",
       "      <td>Hill</td>\n",
       "      <td>608</td>\n",
       "      <td>Spain</td>\n",
       "      <td>Female</td>\n",
       "      <td>41</td>\n",
       "      <td>1.0</td>\n",
       "      <td>83807.86</td>\n",
       "      <td>1</td>\n",
       "      <td>0</td>\n",
       "      <td>1</td>\n",
       "      <td>112542.58</td>\n",
       "      <td>0</td>\n",
       "    </tr>\n",
       "    <tr>\n",
       "      <th>2</th>\n",
       "      <td>3</td>\n",
       "      <td>15619304</td>\n",
       "      <td>Onio</td>\n",
       "      <td>502</td>\n",
       "      <td>France</td>\n",
       "      <td>Female</td>\n",
       "      <td>42</td>\n",
       "      <td>8.0</td>\n",
       "      <td>159660.80</td>\n",
       "      <td>3</td>\n",
       "      <td>1</td>\n",
       "      <td>0</td>\n",
       "      <td>113931.57</td>\n",
       "      <td>1</td>\n",
       "    </tr>\n",
       "    <tr>\n",
       "      <th>3</th>\n",
       "      <td>4</td>\n",
       "      <td>15701354</td>\n",
       "      <td>Boni</td>\n",
       "      <td>699</td>\n",
       "      <td>France</td>\n",
       "      <td>Female</td>\n",
       "      <td>39</td>\n",
       "      <td>1.0</td>\n",
       "      <td>0.00</td>\n",
       "      <td>2</td>\n",
       "      <td>0</td>\n",
       "      <td>0</td>\n",
       "      <td>93826.63</td>\n",
       "      <td>0</td>\n",
       "    </tr>\n",
       "    <tr>\n",
       "      <th>4</th>\n",
       "      <td>5</td>\n",
       "      <td>15737888</td>\n",
       "      <td>Mitchell</td>\n",
       "      <td>850</td>\n",
       "      <td>Spain</td>\n",
       "      <td>Female</td>\n",
       "      <td>43</td>\n",
       "      <td>2.0</td>\n",
       "      <td>125510.82</td>\n",
       "      <td>1</td>\n",
       "      <td>1</td>\n",
       "      <td>1</td>\n",
       "      <td>79084.10</td>\n",
       "      <td>0</td>\n",
       "    </tr>\n",
       "  </tbody>\n",
       "</table>\n",
       "</div>"
      ],
      "text/plain": [
       "   RowNumber  CustomerId   Surname  CreditScore Geography  Gender  Age  \\\n",
       "0          1    15634602  Hargrave          619    France  Female   42   \n",
       "1          2    15647311      Hill          608     Spain  Female   41   \n",
       "2          3    15619304      Onio          502    France  Female   42   \n",
       "3          4    15701354      Boni          699    France  Female   39   \n",
       "4          5    15737888  Mitchell          850     Spain  Female   43   \n",
       "\n",
       "   Tenure    Balance  NumOfProducts  HasCrCard  IsActiveMember  \\\n",
       "0     2.0       0.00              1          1               1   \n",
       "1     1.0   83807.86              1          0               1   \n",
       "2     8.0  159660.80              3          1               0   \n",
       "3     1.0       0.00              2          0               0   \n",
       "4     2.0  125510.82              1          1               1   \n",
       "\n",
       "   EstimatedSalary  Exited  \n",
       "0        101348.88       1  \n",
       "1        112542.58       0  \n",
       "2        113931.57       1  \n",
       "3         93826.63       0  \n",
       "4         79084.10       0  "
      ]
     },
     "execution_count": 3,
     "metadata": {},
     "output_type": "execute_result"
    }
   ],
   "source": [
    "churns.head()"
   ]
  },
  {
   "cell_type": "code",
   "execution_count": 4,
   "id": "de361ac8",
   "metadata": {},
   "outputs": [
    {
     "name": "stdout",
     "output_type": "stream",
     "text": [
      "<class 'pandas.core.frame.DataFrame'>\n",
      "RangeIndex: 10000 entries, 0 to 9999\n",
      "Data columns (total 14 columns):\n",
      " #   Column           Non-Null Count  Dtype  \n",
      "---  ------           --------------  -----  \n",
      " 0   RowNumber        10000 non-null  int64  \n",
      " 1   CustomerId       10000 non-null  int64  \n",
      " 2   Surname          10000 non-null  object \n",
      " 3   CreditScore      10000 non-null  int64  \n",
      " 4   Geography        10000 non-null  object \n",
      " 5   Gender           10000 non-null  object \n",
      " 6   Age              10000 non-null  int64  \n",
      " 7   Tenure           9091 non-null   float64\n",
      " 8   Balance          10000 non-null  float64\n",
      " 9   NumOfProducts    10000 non-null  int64  \n",
      " 10  HasCrCard        10000 non-null  int64  \n",
      " 11  IsActiveMember   10000 non-null  int64  \n",
      " 12  EstimatedSalary  10000 non-null  float64\n",
      " 13  Exited           10000 non-null  int64  \n",
      "dtypes: float64(3), int64(8), object(3)\n",
      "memory usage: 1.1+ MB\n"
     ]
    }
   ],
   "source": [
    "churns.info()"
   ]
  },
  {
   "cell_type": "code",
   "execution_count": 5,
   "id": "bc43e2e8",
   "metadata": {},
   "outputs": [
    {
     "data": {
      "text/plain": [
       "0"
      ]
     },
     "execution_count": 5,
     "metadata": {},
     "output_type": "execute_result"
    }
   ],
   "source": [
    "churns.duplicated().sum()"
   ]
  },
  {
   "cell_type": "markdown",
   "id": "70116596",
   "metadata": {},
   "source": [
    "10000 записей без явных дубликатов. Столбец `Tenure` с пропусками, требуется вмешательство. Названия столбцов с верхним верблюжьим регистром - непорядок, обработаем. Пробежимся быстро по столбцам, во избежание прочих неявных недочётов:\n",
    "\n",
    "По ТЗ: Каждый объект в наборе данных — это информация о клиенте банка. Известно:\n",
    "\n",
    "**Признаки**\n",
    "- `RowNumber` — индекс строки в данных\n",
    "- `CustomerId` — уникальный идентификатор клиента\n",
    "- `Surname` — фамилия\n",
    "- `CreditScore` — кредитный рейтинг\n",
    "- `Geography` — страна проживания\n",
    "- `Gender` — пол\n",
    "- `Age` — возраст\n",
    "- `Tenure` — сколько лет человек является клиентом банка\n",
    "- `Balance` — баланс на счёте\n",
    "- `NumOfProducts` — количество продуктов банка, используемых клиентом\n",
    "- `HasCrCard` — наличие кредитной карты\n",
    "- `IsActiveMember` — активность клиента\n",
    "- `EstimatedSalary` — предполагаемая зарплата\n",
    "\n",
    "**Целевой признак**\n",
    "- `Exited` — факт ухода клиента"
   ]
  },
  {
   "cell_type": "markdown",
   "id": "b1b0ce0d",
   "metadata": {},
   "source": [
    "Наведем порядок в названии столбцов:"
   ]
  },
  {
   "cell_type": "code",
   "execution_count": 6,
   "id": "8d01d0fb",
   "metadata": {
    "scrolled": true
   },
   "outputs": [
    {
     "data": {
      "text/plain": [
       "Index(['row_number', 'customer_id', 'surname', 'credit_score', 'geography',\n",
       "       'gender', 'age', 'tenure', 'balance', 'num_of_products', 'has_cr_card',\n",
       "       'is_active_member', 'estimated_salary', 'exited'],\n",
       "      dtype='object')"
      ]
     },
     "execution_count": 6,
     "metadata": {},
     "output_type": "execute_result"
    }
   ],
   "source": [
    "churns.columns = churns.columns.str.lower()\n",
    "churns.columns = ['row_number', 'customer_id', 'surname', 'credit_score', 'geography','gender', 'age', 'tenure',\n",
    "              'balance', 'num_of_products', 'has_cr_card', 'is_active_member', 'estimated_salary', 'exited']\n",
    "churns.columns"
   ]
  },
  {
   "cell_type": "code",
   "execution_count": 7,
   "id": "83d2ca0d",
   "metadata": {
    "scrolled": true
   },
   "outputs": [
    {
     "data": {
      "text/plain": [
       "1.0     952\n",
       "2.0     950\n",
       "8.0     933\n",
       "3.0     928\n",
       "5.0     927\n",
       "7.0     925\n",
       "NaN     909\n",
       "4.0     885\n",
       "9.0     882\n",
       "6.0     881\n",
       "10.0    446\n",
       "0.0     382\n",
       "Name: tenure, dtype: int64"
      ]
     },
     "execution_count": 7,
     "metadata": {},
     "output_type": "execute_result"
    }
   ],
   "source": [
    "churns.tenure.value_counts(dropna=False)"
   ]
  },
  {
   "cell_type": "markdown",
   "id": "66e8ff63",
   "metadata": {},
   "source": [
    "909 пропусков в `tenure`. Тип данных просится в целое. Приступим к анализу и предобработке данных:\n",
    "\n",
    "Избавимся от трех признаков, которые по определению не могут влиять на разрыв договора: индекс, идентификатор, фамилия.\n",
    "\n",
    "Скопируем данные в новую переменную с которой будем дальше работать, чтоб сохранить исходные данные"
   ]
  },
  {
   "cell_type": "code",
   "execution_count": 8,
   "id": "da0eba15",
   "metadata": {},
   "outputs": [
    {
     "data": {
      "text/html": [
       "<div>\n",
       "<style scoped>\n",
       "    .dataframe tbody tr th:only-of-type {\n",
       "        vertical-align: middle;\n",
       "    }\n",
       "\n",
       "    .dataframe tbody tr th {\n",
       "        vertical-align: top;\n",
       "    }\n",
       "\n",
       "    .dataframe thead th {\n",
       "        text-align: right;\n",
       "    }\n",
       "</style>\n",
       "<table border=\"1\" class=\"dataframe\">\n",
       "  <thead>\n",
       "    <tr style=\"text-align: right;\">\n",
       "      <th></th>\n",
       "      <th>credit_score</th>\n",
       "      <th>geography</th>\n",
       "      <th>gender</th>\n",
       "      <th>age</th>\n",
       "      <th>tenure</th>\n",
       "      <th>balance</th>\n",
       "      <th>num_of_products</th>\n",
       "      <th>has_cr_card</th>\n",
       "      <th>is_active_member</th>\n",
       "      <th>estimated_salary</th>\n",
       "      <th>exited</th>\n",
       "    </tr>\n",
       "  </thead>\n",
       "  <tbody>\n",
       "    <tr>\n",
       "      <th>0</th>\n",
       "      <td>619</td>\n",
       "      <td>France</td>\n",
       "      <td>Female</td>\n",
       "      <td>42</td>\n",
       "      <td>2.0</td>\n",
       "      <td>0.00</td>\n",
       "      <td>1</td>\n",
       "      <td>1</td>\n",
       "      <td>1</td>\n",
       "      <td>101348.88</td>\n",
       "      <td>1</td>\n",
       "    </tr>\n",
       "    <tr>\n",
       "      <th>1</th>\n",
       "      <td>608</td>\n",
       "      <td>Spain</td>\n",
       "      <td>Female</td>\n",
       "      <td>41</td>\n",
       "      <td>1.0</td>\n",
       "      <td>83807.86</td>\n",
       "      <td>1</td>\n",
       "      <td>0</td>\n",
       "      <td>1</td>\n",
       "      <td>112542.58</td>\n",
       "      <td>0</td>\n",
       "    </tr>\n",
       "    <tr>\n",
       "      <th>2</th>\n",
       "      <td>502</td>\n",
       "      <td>France</td>\n",
       "      <td>Female</td>\n",
       "      <td>42</td>\n",
       "      <td>8.0</td>\n",
       "      <td>159660.80</td>\n",
       "      <td>3</td>\n",
       "      <td>1</td>\n",
       "      <td>0</td>\n",
       "      <td>113931.57</td>\n",
       "      <td>1</td>\n",
       "    </tr>\n",
       "    <tr>\n",
       "      <th>3</th>\n",
       "      <td>699</td>\n",
       "      <td>France</td>\n",
       "      <td>Female</td>\n",
       "      <td>39</td>\n",
       "      <td>1.0</td>\n",
       "      <td>0.00</td>\n",
       "      <td>2</td>\n",
       "      <td>0</td>\n",
       "      <td>0</td>\n",
       "      <td>93826.63</td>\n",
       "      <td>0</td>\n",
       "    </tr>\n",
       "    <tr>\n",
       "      <th>4</th>\n",
       "      <td>850</td>\n",
       "      <td>Spain</td>\n",
       "      <td>Female</td>\n",
       "      <td>43</td>\n",
       "      <td>2.0</td>\n",
       "      <td>125510.82</td>\n",
       "      <td>1</td>\n",
       "      <td>1</td>\n",
       "      <td>1</td>\n",
       "      <td>79084.10</td>\n",
       "      <td>0</td>\n",
       "    </tr>\n",
       "  </tbody>\n",
       "</table>\n",
       "</div>"
      ],
      "text/plain": [
       "   credit_score geography  gender  age  tenure    balance  num_of_products  \\\n",
       "0           619    France  Female   42     2.0       0.00                1   \n",
       "1           608     Spain  Female   41     1.0   83807.86                1   \n",
       "2           502    France  Female   42     8.0  159660.80                3   \n",
       "3           699    France  Female   39     1.0       0.00                2   \n",
       "4           850     Spain  Female   43     2.0  125510.82                1   \n",
       "\n",
       "   has_cr_card  is_active_member  estimated_salary  exited  \n",
       "0            1                 1         101348.88       1  \n",
       "1            0                 1         112542.58       0  \n",
       "2            1                 0         113931.57       1  \n",
       "3            0                 0          93826.63       0  \n",
       "4            1                 1          79084.10       0  "
      ]
     },
     "execution_count": 8,
     "metadata": {},
     "output_type": "execute_result"
    }
   ],
   "source": [
    "data = churns.drop(['row_number', 'customer_id', 'surname'], axis=1, errors='ignore').copy()\n",
    "data.head()"
   ]
  },
  {
   "cell_type": "code",
   "execution_count": 9,
   "id": "7fbd30c7",
   "metadata": {
    "scrolled": true
   },
   "outputs": [
    {
     "name": "stdout",
     "output_type": "stream",
     "text": [
      "<class 'pandas.core.frame.DataFrame'>\n",
      "RangeIndex: 10000 entries, 0 to 9999\n",
      "Data columns (total 11 columns):\n",
      " #   Column            Non-Null Count  Dtype  \n",
      "---  ------            --------------  -----  \n",
      " 0   credit_score      10000 non-null  int64  \n",
      " 1   geography         10000 non-null  object \n",
      " 2   gender            10000 non-null  object \n",
      " 3   age               10000 non-null  int64  \n",
      " 4   tenure            9091 non-null   float64\n",
      " 5   balance           10000 non-null  float64\n",
      " 6   num_of_products   10000 non-null  int64  \n",
      " 7   has_cr_card       10000 non-null  int64  \n",
      " 8   is_active_member  10000 non-null  int64  \n",
      " 9   estimated_salary  10000 non-null  float64\n",
      " 10  exited            10000 non-null  int64  \n",
      "dtypes: float64(3), int64(6), object(2)\n",
      "memory usage: 859.5+ KB\n"
     ]
    }
   ],
   "source": [
    "data.info()"
   ]
  },
  {
   "cell_type": "code",
   "execution_count": 10,
   "id": "9b6c524c",
   "metadata": {
    "scrolled": false
   },
   "outputs": [
    {
     "data": {
      "text/plain": [
       "0"
      ]
     },
     "execution_count": 10,
     "metadata": {},
     "output_type": "execute_result"
    }
   ],
   "source": [
    "data.duplicated().sum()"
   ]
  },
  {
   "cell_type": "markdown",
   "id": "c3efd850",
   "metadata": {},
   "source": [
    "Ничего лишнего, пробежимся по всем признакам."
   ]
  },
  {
   "cell_type": "markdown",
   "id": "383f0dc7",
   "metadata": {},
   "source": [
    "### Столбец `credit_score`"
   ]
  },
  {
   "cell_type": "code",
   "execution_count": 11,
   "id": "489eeadb",
   "metadata": {
    "scrolled": true
   },
   "outputs": [
    {
     "data": {
      "text/plain": [
       "count    10000.000000\n",
       "mean       650.528800\n",
       "std         96.653299\n",
       "min        350.000000\n",
       "25%        584.000000\n",
       "50%        652.000000\n",
       "75%        718.000000\n",
       "max        850.000000\n",
       "Name: credit_score, dtype: float64"
      ]
     },
     "execution_count": 11,
     "metadata": {},
     "output_type": "execute_result"
    }
   ],
   "source": [
    "data.credit_score.describe()"
   ]
  },
  {
   "cell_type": "code",
   "execution_count": 12,
   "id": "7ccface1",
   "metadata": {
    "scrolled": false
   },
   "outputs": [
    {
     "data": {
      "image/png": "[encoded data removed]",
      "text/plain": [
       "<Figure size 648x432 with 1 Axes>"
      ]
     },
     "metadata": {
      "needs_background": "light"
     },
     "output_type": "display_data"
    }
   ],
   "source": [
    "fig = plt.figure(figsize=(9, 6))\n",
    "sns.histplot(data=data.credit_score, kde=True)\n",
    "plt.show()"
   ]
  },
  {
   "cell_type": "markdown",
   "id": "f4a42446",
   "metadata": {},
   "source": [
    "Подозрительно много людей с максимальным рейтингом? Может он первоначально выдаётся клиенту максимальный в 850?"
   ]
  },
  {
   "cell_type": "markdown",
   "id": "7005a3d7",
   "metadata": {},
   "source": [
    "### Столбец `geography`"
   ]
  },
  {
   "cell_type": "code",
   "execution_count": 13,
   "id": "f6d84100",
   "metadata": {
    "scrolled": false
   },
   "outputs": [
    {
     "data": {
      "text/html": [
       "<div>\n",
       "<style scoped>\n",
       "    .dataframe tbody tr th:only-of-type {\n",
       "        vertical-align: middle;\n",
       "    }\n",
       "\n",
       "    .dataframe tbody tr th {\n",
       "        vertical-align: top;\n",
       "    }\n",
       "\n",
       "    .dataframe thead th {\n",
       "        text-align: right;\n",
       "    }\n",
       "</style>\n",
       "<table border=\"1\" class=\"dataframe\">\n",
       "  <thead>\n",
       "    <tr style=\"text-align: right;\">\n",
       "      <th></th>\n",
       "      <th>index</th>\n",
       "      <th>geography</th>\n",
       "    </tr>\n",
       "  </thead>\n",
       "  <tbody>\n",
       "    <tr>\n",
       "      <th>0</th>\n",
       "      <td>France</td>\n",
       "      <td>5014</td>\n",
       "    </tr>\n",
       "    <tr>\n",
       "      <th>1</th>\n",
       "      <td>Germany</td>\n",
       "      <td>2509</td>\n",
       "    </tr>\n",
       "    <tr>\n",
       "      <th>2</th>\n",
       "      <td>Spain</td>\n",
       "      <td>2477</td>\n",
       "    </tr>\n",
       "  </tbody>\n",
       "</table>\n",
       "</div>"
      ],
      "text/plain": [
       "     index  geography\n",
       "0   France       5014\n",
       "1  Germany       2509\n",
       "2    Spain       2477"
      ]
     },
     "execution_count": 13,
     "metadata": {},
     "output_type": "execute_result"
    }
   ],
   "source": [
    "geo = data.geography.value_counts().reset_index() #для удобства рисования ниже\n",
    "geo"
   ]
  },
  {
   "cell_type": "code",
   "execution_count": 14,
   "id": "191819a0",
   "metadata": {},
   "outputs": [
    {
     "data": {
      "image/png": "[encoded data removed]",
      "text/plain": [
       "<Figure size 648x432 with 1 Axes>"
      ]
     },
     "metadata": {},
     "output_type": "display_data"
    }
   ],
   "source": [
    "fig = plt.figure(figsize=(9, 6))\n",
    "colors = sns.color_palette('pastel')[7:10]\n",
    "plt.pie(geo.geography,\n",
    "        labels=geo['index'],\n",
    "        autopct='%1.1f%%',\n",
    "        colors=colors,\n",
    "        radius=1.2)\n",
    "plt.show()"
   ]
  },
  {
   "cell_type": "markdown",
   "id": "f83cbac0",
   "metadata": {},
   "source": [
    "Подозрительный Бета-Банк. Где клиенты из России?\n",
    "\n",
    "Признак просится в енкодинг, так как признак принимает всего три значения, думаю уместен будет OneHot."
   ]
  },
  {
   "cell_type": "markdown",
   "id": "99154850",
   "metadata": {},
   "source": [
    "### Столбец `gender`"
   ]
  },
  {
   "cell_type": "code",
   "execution_count": 15,
   "id": "06f67f89",
   "metadata": {
    "scrolled": false
   },
   "outputs": [
    {
     "data": {
      "text/html": [
       "<div>\n",
       "<style scoped>\n",
       "    .dataframe tbody tr th:only-of-type {\n",
       "        vertical-align: middle;\n",
       "    }\n",
       "\n",
       "    .dataframe tbody tr th {\n",
       "        vertical-align: top;\n",
       "    }\n",
       "\n",
       "    .dataframe thead th {\n",
       "        text-align: right;\n",
       "    }\n",
       "</style>\n",
       "<table border=\"1\" class=\"dataframe\">\n",
       "  <thead>\n",
       "    <tr style=\"text-align: right;\">\n",
       "      <th></th>\n",
       "      <th>index</th>\n",
       "      <th>gender</th>\n",
       "    </tr>\n",
       "  </thead>\n",
       "  <tbody>\n",
       "    <tr>\n",
       "      <th>0</th>\n",
       "      <td>Male</td>\n",
       "      <td>5457</td>\n",
       "    </tr>\n",
       "    <tr>\n",
       "      <th>1</th>\n",
       "      <td>Female</td>\n",
       "      <td>4543</td>\n",
       "    </tr>\n",
       "  </tbody>\n",
       "</table>\n",
       "</div>"
      ],
      "text/plain": [
       "    index  gender\n",
       "0    Male    5457\n",
       "1  Female    4543"
      ]
     },
     "execution_count": 15,
     "metadata": {},
     "output_type": "execute_result"
    }
   ],
   "source": [
    "sex = data.gender.value_counts().reset_index() #для удобства рисования ниже\n",
    "sex"
   ]
  },
  {
   "cell_type": "code",
   "execution_count": 16,
   "id": "9ea6b735",
   "metadata": {},
   "outputs": [
    {
     "data": {
      "image/png": "[encoded data removed]",
      "text/plain": [
       "<Figure size 648x432 with 1 Axes>"
      ]
     },
     "metadata": {},
     "output_type": "display_data"
    }
   ],
   "source": [
    "fig = plt.figure(figsize=(9, 6))\n",
    "colors = sns.color_palette('pastel')[7:10]\n",
    "plt.pie(sex.gender,\n",
    "        labels=sex['index'],\n",
    "        autopct='%1.1f%%',\n",
    "        colors=colors,\n",
    "        radius=1.2)\n",
    "plt.show()"
   ]
  },
  {
   "cell_type": "markdown",
   "id": "7b8bbd65",
   "metadata": {},
   "source": [
    "Тоже пойдёт в OneHot"
   ]
  },
  {
   "cell_type": "markdown",
   "id": "92144675",
   "metadata": {},
   "source": [
    "### Столбец `age`"
   ]
  },
  {
   "cell_type": "code",
   "execution_count": 17,
   "id": "49d49d89",
   "metadata": {
    "scrolled": false
   },
   "outputs": [
    {
     "data": {
      "text/plain": [
       "count    10000.000000\n",
       "mean        38.921800\n",
       "std         10.487806\n",
       "min         18.000000\n",
       "25%         32.000000\n",
       "50%         37.000000\n",
       "75%         44.000000\n",
       "max         92.000000\n",
       "Name: age, dtype: float64"
      ]
     },
     "execution_count": 17,
     "metadata": {},
     "output_type": "execute_result"
    }
   ],
   "source": [
    "data.age.describe()"
   ]
  },
  {
   "cell_type": "code",
   "execution_count": 18,
   "id": "598a4460",
   "metadata": {
    "scrolled": false
   },
   "outputs": [
    {
     "data": {
      "image/png": "[encoded data removed]",
      "text/plain": [
       "<Figure size 648x432 with 1 Axes>"
      ]
     },
     "metadata": {
      "needs_background": "light"
     },
     "output_type": "display_data"
    }
   ],
   "source": [
    "fig = plt.figure(figsize=(9, 6))\n",
    "sns.histplot(data=data.age, kde=True)\n",
    "plt.show()"
   ]
  },
  {
   "cell_type": "markdown",
   "id": "fb235689",
   "metadata": {},
   "source": [
    "Странноватые всплески "
   ]
  },
  {
   "cell_type": "markdown",
   "id": "b1b3203f",
   "metadata": {},
   "source": [
    "### Столбец `tenure`"
   ]
  },
  {
   "cell_type": "code",
   "execution_count": 19,
   "id": "526d7125",
   "metadata": {
    "scrolled": false
   },
   "outputs": [
    {
     "data": {
      "text/plain": [
       "count    9091.000000\n",
       "mean        4.997690\n",
       "std         2.894723\n",
       "min         0.000000\n",
       "25%         2.000000\n",
       "50%         5.000000\n",
       "75%         7.000000\n",
       "max        10.000000\n",
       "Name: tenure, dtype: float64"
      ]
     },
     "execution_count": 19,
     "metadata": {},
     "output_type": "execute_result"
    }
   ],
   "source": [
    "data.tenure.describe()"
   ]
  },
  {
   "cell_type": "code",
   "execution_count": 20,
   "id": "d3592431",
   "metadata": {},
   "outputs": [
    {
     "data": {
      "text/plain": [
       "1.0     952\n",
       "2.0     950\n",
       "8.0     933\n",
       "3.0     928\n",
       "5.0     927\n",
       "7.0     925\n",
       "NaN     909\n",
       "4.0     885\n",
       "9.0     882\n",
       "6.0     881\n",
       "10.0    446\n",
       "0.0     382\n",
       "Name: tenure, dtype: int64"
      ]
     },
     "execution_count": 20,
     "metadata": {},
     "output_type": "execute_result"
    }
   ],
   "source": [
    "data.tenure.value_counts(dropna=False)"
   ]
  },
  {
   "cell_type": "code",
   "execution_count": 21,
   "id": "ae67cc2d",
   "metadata": {
    "scrolled": false
   },
   "outputs": [
    {
     "data": {
      "image/png": "[encoded data removed]",
      "text/plain": [
       "<Figure size 648x432 with 1 Axes>"
      ]
     },
     "metadata": {
      "needs_background": "light"
     },
     "output_type": "display_data"
    }
   ],
   "source": [
    "fig = plt.figure(figsize=(9, 6))\n",
    "sns.histplot(data=data.tenure, kde=True)\n",
    "plt.show()"
   ]
  },
  {
   "cell_type": "code",
   "execution_count": 22,
   "id": "f12563e7",
   "metadata": {
    "scrolled": true
   },
   "outputs": [
    {
     "data": {
      "text/html": [
       "<div>\n",
       "<style scoped>\n",
       "    .dataframe tbody tr th:only-of-type {\n",
       "        vertical-align: middle;\n",
       "    }\n",
       "\n",
       "    .dataframe tbody tr th {\n",
       "        vertical-align: top;\n",
       "    }\n",
       "\n",
       "    .dataframe thead th {\n",
       "        text-align: right;\n",
       "    }\n",
       "</style>\n",
       "<table border=\"1\" class=\"dataframe\">\n",
       "  <thead>\n",
       "    <tr style=\"text-align: right;\">\n",
       "      <th></th>\n",
       "      <th>credit_score</th>\n",
       "      <th>geography</th>\n",
       "      <th>gender</th>\n",
       "      <th>age</th>\n",
       "      <th>tenure</th>\n",
       "      <th>balance</th>\n",
       "      <th>num_of_products</th>\n",
       "      <th>has_cr_card</th>\n",
       "      <th>is_active_member</th>\n",
       "      <th>estimated_salary</th>\n",
       "      <th>exited</th>\n",
       "    </tr>\n",
       "  </thead>\n",
       "  <tbody>\n",
       "    <tr>\n",
       "      <th>8592</th>\n",
       "      <td>719</td>\n",
       "      <td>Spain</td>\n",
       "      <td>Female</td>\n",
       "      <td>40</td>\n",
       "      <td>NaN</td>\n",
       "      <td>0.00</td>\n",
       "      <td>2</td>\n",
       "      <td>1</td>\n",
       "      <td>0</td>\n",
       "      <td>182224.14</td>\n",
       "      <td>0</td>\n",
       "    </tr>\n",
       "    <tr>\n",
       "      <th>8030</th>\n",
       "      <td>592</td>\n",
       "      <td>Spain</td>\n",
       "      <td>Male</td>\n",
       "      <td>38</td>\n",
       "      <td>NaN</td>\n",
       "      <td>0.00</td>\n",
       "      <td>1</td>\n",
       "      <td>1</td>\n",
       "      <td>1</td>\n",
       "      <td>12905.89</td>\n",
       "      <td>1</td>\n",
       "    </tr>\n",
       "    <tr>\n",
       "      <th>9209</th>\n",
       "      <td>560</td>\n",
       "      <td>France</td>\n",
       "      <td>Male</td>\n",
       "      <td>24</td>\n",
       "      <td>NaN</td>\n",
       "      <td>116084.32</td>\n",
       "      <td>1</td>\n",
       "      <td>1</td>\n",
       "      <td>0</td>\n",
       "      <td>89734.70</td>\n",
       "      <td>0</td>\n",
       "    </tr>\n",
       "    <tr>\n",
       "      <th>7846</th>\n",
       "      <td>557</td>\n",
       "      <td>France</td>\n",
       "      <td>Female</td>\n",
       "      <td>27</td>\n",
       "      <td>NaN</td>\n",
       "      <td>87739.08</td>\n",
       "      <td>1</td>\n",
       "      <td>1</td>\n",
       "      <td>1</td>\n",
       "      <td>123096.56</td>\n",
       "      <td>0</td>\n",
       "    </tr>\n",
       "    <tr>\n",
       "      <th>4350</th>\n",
       "      <td>840</td>\n",
       "      <td>Spain</td>\n",
       "      <td>Female</td>\n",
       "      <td>36</td>\n",
       "      <td>NaN</td>\n",
       "      <td>0.00</td>\n",
       "      <td>2</td>\n",
       "      <td>1</td>\n",
       "      <td>0</td>\n",
       "      <td>141364.27</td>\n",
       "      <td>0</td>\n",
       "    </tr>\n",
       "    <tr>\n",
       "      <th>828</th>\n",
       "      <td>630</td>\n",
       "      <td>Germany</td>\n",
       "      <td>Female</td>\n",
       "      <td>31</td>\n",
       "      <td>NaN</td>\n",
       "      <td>112373.49</td>\n",
       "      <td>2</td>\n",
       "      <td>1</td>\n",
       "      <td>1</td>\n",
       "      <td>131167.98</td>\n",
       "      <td>0</td>\n",
       "    </tr>\n",
       "  </tbody>\n",
       "</table>\n",
       "</div>"
      ],
      "text/plain": [
       "      credit_score geography  gender  age  tenure    balance  num_of_products  \\\n",
       "8592           719     Spain  Female   40     NaN       0.00                2   \n",
       "8030           592     Spain    Male   38     NaN       0.00                1   \n",
       "9209           560    France    Male   24     NaN  116084.32                1   \n",
       "7846           557    France  Female   27     NaN   87739.08                1   \n",
       "4350           840     Spain  Female   36     NaN       0.00                2   \n",
       "828            630   Germany  Female   31     NaN  112373.49                2   \n",
       "\n",
       "      has_cr_card  is_active_member  estimated_salary  exited  \n",
       "8592            1                 0         182224.14       0  \n",
       "8030            1                 1          12905.89       1  \n",
       "9209            1                 0          89734.70       0  \n",
       "7846            1                 1         123096.56       0  \n",
       "4350            1                 0         141364.27       0  \n",
       "828             1                 1         131167.98       0  "
      ]
     },
     "execution_count": 22,
     "metadata": {},
     "output_type": "execute_result"
    }
   ],
   "source": [
    "grp = data[data.tenure.isna()]\n",
    "grp.sample(6)"
   ]
  },
  {
   "cell_type": "code",
   "execution_count": 23,
   "id": "8546bf1d",
   "metadata": {
    "scrolled": false
   },
   "outputs": [
    {
     "data": {
      "image/png": "[encoded data removed]",
      "text/plain": [
       "<Figure size 648x432 with 1 Axes>"
      ]
     },
     "metadata": {
      "needs_background": "light"
     },
     "output_type": "display_data"
    }
   ],
   "source": [
    "fig = plt.figure(figsize=(9, 6))\n",
    "sns.histplot(data=grp.age, kde=True)\n",
    "plt.xlabel('Возраст')\n",
    "plt.ylabel('Кол-во клиентов с пропусками в \"Tenure\"')\n",
    "plt.suptitle('Возраст клиентов с пропусками в \"Tenure\"')\n",
    "plt.show()"
   ]
  },
  {
   "cell_type": "markdown",
   "id": "c2805993",
   "metadata": {},
   "source": [
    "Клиенты с пропуском разные: никакой закономерности или объединяющего признака не выявляется."
   ]
  },
  {
   "cell_type": "markdown",
   "id": "87002a75",
   "metadata": {},
   "source": [
    "10% пропусков жалко удалять, если что, не составит проблем в конце, проверить итоговую модель на данных, где мы просто удалим записи с пропусками.\n",
    "\n",
    "А пока заменим пропуски на медианное значение "
   ]
  },
  {
   "cell_type": "code",
   "execution_count": 24,
   "id": "84581c7e",
   "metadata": {
    "scrolled": false
   },
   "outputs": [
    {
     "data": {
      "text/html": [
       "<div>\n",
       "<style scoped>\n",
       "    .dataframe tbody tr th:only-of-type {\n",
       "        vertical-align: middle;\n",
       "    }\n",
       "\n",
       "    .dataframe tbody tr th {\n",
       "        vertical-align: top;\n",
       "    }\n",
       "\n",
       "    .dataframe thead tr th {\n",
       "        text-align: left;\n",
       "    }\n",
       "\n",
       "    .dataframe thead tr:last-of-type th {\n",
       "        text-align: right;\n",
       "    }\n",
       "</style>\n",
       "<table border=\"1\" class=\"dataframe\">\n",
       "  <thead>\n",
       "    <tr>\n",
       "      <th></th>\n",
       "      <th>count</th>\n",
       "      <th>min</th>\n",
       "      <th>max</th>\n",
       "      <th>mean</th>\n",
       "      <th>median</th>\n",
       "    </tr>\n",
       "    <tr>\n",
       "      <th></th>\n",
       "      <th>tenure</th>\n",
       "      <th>tenure</th>\n",
       "      <th>tenure</th>\n",
       "      <th>tenure</th>\n",
       "      <th>tenure</th>\n",
       "    </tr>\n",
       "    <tr>\n",
       "      <th>age</th>\n",
       "      <th></th>\n",
       "      <th></th>\n",
       "      <th></th>\n",
       "      <th></th>\n",
       "      <th></th>\n",
       "    </tr>\n",
       "  </thead>\n",
       "  <tbody>\n",
       "    <tr>\n",
       "      <th>18</th>\n",
       "      <td>20</td>\n",
       "      <td>1.0</td>\n",
       "      <td>10.0</td>\n",
       "      <td>5.050000</td>\n",
       "      <td>4.5</td>\n",
       "    </tr>\n",
       "    <tr>\n",
       "      <th>19</th>\n",
       "      <td>26</td>\n",
       "      <td>0.0</td>\n",
       "      <td>9.0</td>\n",
       "      <td>5.115385</td>\n",
       "      <td>5.0</td>\n",
       "    </tr>\n",
       "    <tr>\n",
       "      <th>20</th>\n",
       "      <td>37</td>\n",
       "      <td>0.0</td>\n",
       "      <td>10.0</td>\n",
       "      <td>5.054054</td>\n",
       "      <td>4.0</td>\n",
       "    </tr>\n",
       "    <tr>\n",
       "      <th>21</th>\n",
       "      <td>48</td>\n",
       "      <td>0.0</td>\n",
       "      <td>10.0</td>\n",
       "      <td>4.708333</td>\n",
       "      <td>4.0</td>\n",
       "    </tr>\n",
       "    <tr>\n",
       "      <th>22</th>\n",
       "      <td>80</td>\n",
       "      <td>0.0</td>\n",
       "      <td>10.0</td>\n",
       "      <td>5.587500</td>\n",
       "      <td>6.0</td>\n",
       "    </tr>\n",
       "    <tr>\n",
       "      <th>...</th>\n",
       "      <td>...</td>\n",
       "      <td>...</td>\n",
       "      <td>...</td>\n",
       "      <td>...</td>\n",
       "      <td>...</td>\n",
       "    </tr>\n",
       "    <tr>\n",
       "      <th>83</th>\n",
       "      <td>1</td>\n",
       "      <td>6.0</td>\n",
       "      <td>6.0</td>\n",
       "      <td>6.000000</td>\n",
       "      <td>6.0</td>\n",
       "    </tr>\n",
       "    <tr>\n",
       "      <th>84</th>\n",
       "      <td>2</td>\n",
       "      <td>8.0</td>\n",
       "      <td>8.0</td>\n",
       "      <td>8.000000</td>\n",
       "      <td>8.0</td>\n",
       "    </tr>\n",
       "    <tr>\n",
       "      <th>85</th>\n",
       "      <td>1</td>\n",
       "      <td>10.0</td>\n",
       "      <td>10.0</td>\n",
       "      <td>10.000000</td>\n",
       "      <td>10.0</td>\n",
       "    </tr>\n",
       "    <tr>\n",
       "      <th>88</th>\n",
       "      <td>1</td>\n",
       "      <td>10.0</td>\n",
       "      <td>10.0</td>\n",
       "      <td>10.000000</td>\n",
       "      <td>10.0</td>\n",
       "    </tr>\n",
       "    <tr>\n",
       "      <th>92</th>\n",
       "      <td>1</td>\n",
       "      <td>1.0</td>\n",
       "      <td>1.0</td>\n",
       "      <td>1.000000</td>\n",
       "      <td>1.0</td>\n",
       "    </tr>\n",
       "  </tbody>\n",
       "</table>\n",
       "<p>70 rows × 5 columns</p>\n",
       "</div>"
      ],
      "text/plain": [
       "     count    min    max       mean median\n",
       "    tenure tenure tenure     tenure tenure\n",
       "age                                       \n",
       "18      20    1.0   10.0   5.050000    4.5\n",
       "19      26    0.0    9.0   5.115385    5.0\n",
       "20      37    0.0   10.0   5.054054    4.0\n",
       "21      48    0.0   10.0   4.708333    4.0\n",
       "22      80    0.0   10.0   5.587500    6.0\n",
       "..     ...    ...    ...        ...    ...\n",
       "83       1    6.0    6.0   6.000000    6.0\n",
       "84       2    8.0    8.0   8.000000    8.0\n",
       "85       1   10.0   10.0  10.000000   10.0\n",
       "88       1   10.0   10.0  10.000000   10.0\n",
       "92       1    1.0    1.0   1.000000    1.0\n",
       "\n",
       "[70 rows x 5 columns]"
      ]
     },
     "execution_count": 24,
     "metadata": {},
     "output_type": "execute_result"
    }
   ],
   "source": [
    "data.pivot_table(index='age',values = 'tenure', aggfunc = ['count', 'min', 'max', 'mean', 'median'])"
   ]
  },
  {
   "cell_type": "code",
   "execution_count": 25,
   "id": "c10e3397",
   "metadata": {},
   "outputs": [],
   "source": [
    "grp = data.groupby(['age'])\n",
    "data['tenure'] = grp.tenure.apply(lambda x: x.fillna(x.median()))\n",
    "#табадам"
   ]
  },
  {
   "cell_type": "code",
   "execution_count": 26,
   "id": "7c0078a9",
   "metadata": {},
   "outputs": [
    {
     "data": {
      "text/plain": [
       "dtype('int64')"
      ]
     },
     "execution_count": 26,
     "metadata": {},
     "output_type": "execute_result"
    }
   ],
   "source": [
    "# попдравим тип для порядка и хорошего тона\n",
    "data['tenure'] = data.tenure.astype('int64')\n",
    "data.tenure.dtype"
   ]
  },
  {
   "cell_type": "code",
   "execution_count": 27,
   "id": "6738576c",
   "metadata": {},
   "outputs": [
    {
     "data": {
      "image/png": "[encoded data removed]",
      "text/plain": [
       "<Figure size 648x432 with 1 Axes>"
      ]
     },
     "metadata": {
      "needs_background": "light"
     },
     "output_type": "display_data"
    }
   ],
   "source": [
    "fig = plt.figure(figsize=(9, 6))\n",
    "sns.histplot(data=data.tenure, kde=True)\n",
    "plt.show()"
   ]
  },
  {
   "cell_type": "markdown",
   "id": "2a06772e",
   "metadata": {},
   "source": [
    "Проверим выборочные записи, где были пропуски"
   ]
  },
  {
   "cell_type": "code",
   "execution_count": 28,
   "id": "1dd9a678",
   "metadata": {
    "scrolled": true
   },
   "outputs": [
    {
     "data": {
      "text/html": [
       "<div>\n",
       "<style scoped>\n",
       "    .dataframe tbody tr th:only-of-type {\n",
       "        vertical-align: middle;\n",
       "    }\n",
       "\n",
       "    .dataframe tbody tr th {\n",
       "        vertical-align: top;\n",
       "    }\n",
       "\n",
       "    .dataframe thead th {\n",
       "        text-align: right;\n",
       "    }\n",
       "</style>\n",
       "<table border=\"1\" class=\"dataframe\">\n",
       "  <thead>\n",
       "    <tr style=\"text-align: right;\">\n",
       "      <th></th>\n",
       "      <th>credit_score</th>\n",
       "      <th>geography</th>\n",
       "      <th>gender</th>\n",
       "      <th>age</th>\n",
       "      <th>tenure</th>\n",
       "      <th>balance</th>\n",
       "      <th>num_of_products</th>\n",
       "      <th>has_cr_card</th>\n",
       "      <th>is_active_member</th>\n",
       "      <th>estimated_salary</th>\n",
       "      <th>exited</th>\n",
       "    </tr>\n",
       "  </thead>\n",
       "  <tbody>\n",
       "    <tr>\n",
       "      <th>30</th>\n",
       "      <td>591</td>\n",
       "      <td>Spain</td>\n",
       "      <td>Female</td>\n",
       "      <td>39</td>\n",
       "      <td>5</td>\n",
       "      <td>0.00</td>\n",
       "      <td>3</td>\n",
       "      <td>1</td>\n",
       "      <td>0</td>\n",
       "      <td>140469.38</td>\n",
       "      <td>1</td>\n",
       "    </tr>\n",
       "    <tr>\n",
       "      <th>48</th>\n",
       "      <td>550</td>\n",
       "      <td>Germany</td>\n",
       "      <td>Male</td>\n",
       "      <td>38</td>\n",
       "      <td>5</td>\n",
       "      <td>103391.38</td>\n",
       "      <td>1</td>\n",
       "      <td>0</td>\n",
       "      <td>1</td>\n",
       "      <td>90878.13</td>\n",
       "      <td>0</td>\n",
       "    </tr>\n",
       "    <tr>\n",
       "      <th>51</th>\n",
       "      <td>585</td>\n",
       "      <td>Germany</td>\n",
       "      <td>Male</td>\n",
       "      <td>36</td>\n",
       "      <td>5</td>\n",
       "      <td>146050.97</td>\n",
       "      <td>2</td>\n",
       "      <td>0</td>\n",
       "      <td>0</td>\n",
       "      <td>86424.57</td>\n",
       "      <td>0</td>\n",
       "    </tr>\n",
       "    <tr>\n",
       "      <th>53</th>\n",
       "      <td>655</td>\n",
       "      <td>Germany</td>\n",
       "      <td>Male</td>\n",
       "      <td>41</td>\n",
       "      <td>5</td>\n",
       "      <td>125561.97</td>\n",
       "      <td>1</td>\n",
       "      <td>0</td>\n",
       "      <td>0</td>\n",
       "      <td>164040.94</td>\n",
       "      <td>1</td>\n",
       "    </tr>\n",
       "    <tr>\n",
       "      <th>9006</th>\n",
       "      <td>661</td>\n",
       "      <td>Spain</td>\n",
       "      <td>Male</td>\n",
       "      <td>20</td>\n",
       "      <td>4</td>\n",
       "      <td>0.00</td>\n",
       "      <td>1</td>\n",
       "      <td>1</td>\n",
       "      <td>0</td>\n",
       "      <td>110252.53</td>\n",
       "      <td>0</td>\n",
       "    </tr>\n",
       "    <tr>\n",
       "      <th>4556</th>\n",
       "      <td>681</td>\n",
       "      <td>France</td>\n",
       "      <td>Female</td>\n",
       "      <td>18</td>\n",
       "      <td>4</td>\n",
       "      <td>98894.39</td>\n",
       "      <td>1</td>\n",
       "      <td>1</td>\n",
       "      <td>1</td>\n",
       "      <td>9596.40</td>\n",
       "      <td>0</td>\n",
       "    </tr>\n",
       "    <tr>\n",
       "      <th>6443</th>\n",
       "      <td>753</td>\n",
       "      <td>France</td>\n",
       "      <td>Male</td>\n",
       "      <td>92</td>\n",
       "      <td>1</td>\n",
       "      <td>121513.31</td>\n",
       "      <td>1</td>\n",
       "      <td>0</td>\n",
       "      <td>1</td>\n",
       "      <td>195563.99</td>\n",
       "      <td>0</td>\n",
       "    </tr>\n",
       "  </tbody>\n",
       "</table>\n",
       "</div>"
      ],
      "text/plain": [
       "      credit_score geography  gender  age  tenure    balance  num_of_products  \\\n",
       "30             591     Spain  Female   39       5       0.00                3   \n",
       "48             550   Germany    Male   38       5  103391.38                1   \n",
       "51             585   Germany    Male   36       5  146050.97                2   \n",
       "53             655   Germany    Male   41       5  125561.97                1   \n",
       "9006           661     Spain    Male   20       4       0.00                1   \n",
       "4556           681    France  Female   18       4   98894.39                1   \n",
       "6443           753    France    Male   92       1  121513.31                1   \n",
       "\n",
       "      has_cr_card  is_active_member  estimated_salary  exited  \n",
       "30              1                 0         140469.38       1  \n",
       "48              0                 1          90878.13       0  \n",
       "51              0                 0          86424.57       0  \n",
       "53              0                 0         164040.94       1  \n",
       "9006            1                 0         110252.53       0  \n",
       "4556            1                 1           9596.40       0  \n",
       "6443            0                 1         195563.99       0  "
      ]
     },
     "execution_count": 28,
     "metadata": {},
     "output_type": "execute_result"
    }
   ],
   "source": [
    "data.iloc[[30, 48, 51, 53, 9006, 4556, 6443], :]"
   ]
  },
  {
   "cell_type": "markdown",
   "id": "bcd3a319",
   "metadata": {},
   "source": [
    "Красота"
   ]
  },
  {
   "cell_type": "markdown",
   "id": "b081a3b2",
   "metadata": {},
   "source": [
    "### Столбец `balance`"
   ]
  },
  {
   "cell_type": "code",
   "execution_count": 29,
   "id": "f7ac1962",
   "metadata": {
    "scrolled": true
   },
   "outputs": [
    {
     "data": {
      "text/plain": [
       "count     10000.000000\n",
       "mean      76485.889288\n",
       "std       62397.405202\n",
       "min           0.000000\n",
       "25%           0.000000\n",
       "50%       97198.540000\n",
       "75%      127644.240000\n",
       "max      250898.090000\n",
       "Name: balance, dtype: float64"
      ]
     },
     "execution_count": 29,
     "metadata": {},
     "output_type": "execute_result"
    }
   ],
   "source": [
    "data.balance.describe()"
   ]
  },
  {
   "cell_type": "code",
   "execution_count": 30,
   "id": "a9942f3a",
   "metadata": {
    "scrolled": false
   },
   "outputs": [
    {
     "data": {
      "image/png": "[encoded data removed]",
      "text/plain": [
       "<Figure size 648x432 with 1 Axes>"
      ]
     },
     "metadata": {
      "needs_background": "light"
     },
     "output_type": "display_data"
    }
   ],
   "source": [
    "fig = plt.figure(figsize=(9, 6))\n",
    "sns.histplot(data=data.balance, kde=True)\n",
    "plt.show()"
   ]
  },
  {
   "cell_type": "markdown",
   "id": "14496790",
   "metadata": {},
   "source": [
    "Брахиозавр =)"
   ]
  },
  {
   "cell_type": "markdown",
   "id": "a093fbb1",
   "metadata": {},
   "source": [
    "### Столбец `num_of_products`"
   ]
  },
  {
   "cell_type": "code",
   "execution_count": 31,
   "id": "022d1b99",
   "metadata": {
    "scrolled": true
   },
   "outputs": [
    {
     "data": {
      "text/plain": [
       "count    10000.000000\n",
       "mean         1.530200\n",
       "std          0.581654\n",
       "min          1.000000\n",
       "25%          1.000000\n",
       "50%          1.000000\n",
       "75%          2.000000\n",
       "max          4.000000\n",
       "Name: num_of_products, dtype: float64"
      ]
     },
     "execution_count": 31,
     "metadata": {},
     "output_type": "execute_result"
    }
   ],
   "source": [
    "data.num_of_products.describe()"
   ]
  },
  {
   "cell_type": "code",
   "execution_count": 32,
   "id": "bb392d0d",
   "metadata": {
    "scrolled": false
   },
   "outputs": [
    {
     "data": {
      "image/png": "[encoded data removed]",
      "text/plain": [
       "<Figure size 648x432 with 1 Axes>"
      ]
     },
     "metadata": {
      "needs_background": "light"
     },
     "output_type": "display_data"
    }
   ],
   "source": [
    "fig = plt.figure(figsize=(9, 6))\n",
    "sns.histplot(data=data.num_of_products, kde=True)\n",
    "plt.show()"
   ]
  },
  {
   "cell_type": "markdown",
   "id": "d8f77350",
   "metadata": {},
   "source": [
    "### Столбцы `has_cr_card` и `is_active_member`"
   ]
  },
  {
   "cell_type": "code",
   "execution_count": 33,
   "id": "390fc4a3",
   "metadata": {
    "scrolled": true
   },
   "outputs": [
    {
     "data": {
      "text/plain": [
       "1    7055\n",
       "0    2945\n",
       "Name: has_cr_card, dtype: int64"
      ]
     },
     "execution_count": 33,
     "metadata": {},
     "output_type": "execute_result"
    }
   ],
   "source": [
    "data.has_cr_card.value_counts()"
   ]
  },
  {
   "cell_type": "code",
   "execution_count": 34,
   "id": "a421a716",
   "metadata": {},
   "outputs": [
    {
     "data": {
      "text/plain": [
       "1    5151\n",
       "0    4849\n",
       "Name: is_active_member, dtype: int64"
      ]
     },
     "execution_count": 34,
     "metadata": {},
     "output_type": "execute_result"
    }
   ],
   "source": [
    "data.is_active_member.value_counts()"
   ]
  },
  {
   "cell_type": "markdown",
   "id": "dc3eb3b5",
   "metadata": {},
   "source": [
    "Норм."
   ]
  },
  {
   "cell_type": "markdown",
   "id": "c3be0c80",
   "metadata": {},
   "source": [
    "### Столбец `estimated_salary`"
   ]
  },
  {
   "cell_type": "code",
   "execution_count": 35,
   "id": "f13fdd16",
   "metadata": {
    "scrolled": true
   },
   "outputs": [
    {
     "data": {
      "text/plain": [
       "count     10000.000000\n",
       "mean     100090.239881\n",
       "std       57510.492818\n",
       "min          11.580000\n",
       "25%       51002.110000\n",
       "50%      100193.915000\n",
       "75%      149388.247500\n",
       "max      199992.480000\n",
       "Name: estimated_salary, dtype: float64"
      ]
     },
     "execution_count": 35,
     "metadata": {},
     "output_type": "execute_result"
    }
   ],
   "source": [
    "data.estimated_salary.describe()"
   ]
  },
  {
   "cell_type": "code",
   "execution_count": 36,
   "id": "031e0250",
   "metadata": {
    "scrolled": false
   },
   "outputs": [
    {
     "data": {
      "image/png": "[encoded data removed]",
      "text/plain": [
       "<Figure size 648x432 with 1 Axes>"
      ]
     },
     "metadata": {
      "needs_background": "light"
     },
     "output_type": "display_data"
    }
   ],
   "source": [
    "fig = plt.figure(figsize=(9, 6))\n",
    "sns.histplot(data=data.estimated_salary, kde=True)\n",
    "plt.show()"
   ]
  },
  {
   "cell_type": "markdown",
   "id": "e2f75b10",
   "metadata": {},
   "source": [
    "Подозрительно ровно"
   ]
  },
  {
   "cell_type": "markdown",
   "id": "f29f5177",
   "metadata": {},
   "source": [
    "### Столбец `exited`"
   ]
  },
  {
   "cell_type": "code",
   "execution_count": 37,
   "id": "e5dd10a0",
   "metadata": {
    "scrolled": false
   },
   "outputs": [
    {
     "data": {
      "text/plain": [
       "0    7963\n",
       "1    2037\n",
       "Name: exited, dtype: int64"
      ]
     },
     "metadata": {},
     "output_type": "display_data"
    },
    {
     "data": {
      "text/plain": [
       "0    0.7963\n",
       "1    0.2037\n",
       "Name: exited, dtype: float64"
      ]
     },
     "execution_count": 37,
     "metadata": {},
     "output_type": "execute_result"
    }
   ],
   "source": [
    "display(data.exited.value_counts())\n",
    "data.exited.value_counts(normalize=True)"
   ]
  },
  {
   "cell_type": "code",
   "execution_count": 38,
   "id": "84ec779e",
   "metadata": {},
   "outputs": [
    {
     "name": "stdout",
     "output_type": "stream",
     "text": [
      "Процент положительных значений в целевом признаке: 20.37%\n"
     ]
    }
   ],
   "source": [
    "print(f'Процент положительных значений в целевом признаке: {data.exited.mean():.2%}')"
   ]
  },
  {
   "cell_type": "markdown",
   "id": "e4cfdf89",
   "metadata": {},
   "source": [
    "Дисбаланс классов! Примем это во внимание при построении наших моделей."
   ]
  },
  {
   "cell_type": "markdown",
   "id": "7e2e0831",
   "metadata": {},
   "source": [
    "### Поиск коррелирующих данных"
   ]
  },
  {
   "cell_type": "markdown",
   "id": "f392913c",
   "metadata": {},
   "source": [
    "Построим тепловую матрицу корреляций:"
   ]
  },
  {
   "cell_type": "code",
   "execution_count": 39,
   "id": "a0316d65",
   "metadata": {
    "scrolled": false
   },
   "outputs": [
    {
     "data": {
      "image/png": "[encoded data removed]",
      "text/plain": [
       "<Figure size 648x432 with 2 Axes>"
      ]
     },
     "metadata": {
      "needs_background": "light"
     },
     "output_type": "display_data"
    }
   ],
   "source": [
    "f, ax = plt.subplots(figsize=(9, 6))\n",
    "sns.heatmap(data.corr(), vmax=1, center=0, annot=True,\n",
    "            square=True, linewidths=.5, cbar_kws={\"shrink\": .5})\n",
    "plt.show()"
   ]
  },
  {
   "cell_type": "markdown",
   "id": "f040f0ea",
   "metadata": {},
   "source": [
    "Преступной корреляции не выявлено!"
   ]
  },
  {
   "cell_type": "markdown",
   "id": "edd7d2a7",
   "metadata": {},
   "source": [
    "### Вывод:"
   ]
  },
  {
   "cell_type": "markdown",
   "id": "7677868f",
   "metadata": {},
   "source": [
    "Данные пригодны для дальнейшей работы. Названия столбцов приведены в соответствие с PEP8.\n",
    "\n",
    "Обнаружены пропуски значений в признаке `tenure`, принято решение заменить пропуски на медианное значение по категории возраста клиента.\n",
    "\n",
    "\n",
    "Отметим, что доля положительных классов в целевом признаке - 20.4%. Присутствует незначительный дисбаланс класса."
   ]
  },
  {
   "cell_type": "markdown",
   "id": "730a88cd",
   "metadata": {},
   "source": [
    "## Разделение данных"
   ]
  },
  {
   "cell_type": "markdown",
   "id": "f822853d",
   "metadata": {},
   "source": [
    "Разделим исходные данные на обучающую, валидационную и тестовую выборки."
   ]
  },
  {
   "cell_type": "markdown",
   "id": "7c660627",
   "metadata": {},
   "source": [
    "Будем делить наши данные на обучающую, валидационную и тестовую выборки в пропорции 0.6:0.2:0.2"
   ]
  },
  {
   "cell_type": "code",
   "execution_count": 40,
   "id": "b7caabdf",
   "metadata": {},
   "outputs": [],
   "source": [
    "#отделим целевые признаки от предсказывающих признаков\n",
    "X = data.copy()\n",
    "y = X.exited\n",
    "X.drop(['exited'], axis=1, inplace=True)"
   ]
  },
  {
   "cell_type": "code",
   "execution_count": 41,
   "id": "3ea60cfe",
   "metadata": {},
   "outputs": [
    {
     "data": {
      "text/plain": [
       "0       1\n",
       "1       0\n",
       "2       1\n",
       "3       0\n",
       "4       0\n",
       "       ..\n",
       "9995    0\n",
       "9996    0\n",
       "9997    1\n",
       "9998    1\n",
       "9999    0\n",
       "Name: exited, Length: 10000, dtype: int64"
      ]
     },
     "execution_count": 41,
     "metadata": {},
     "output_type": "execute_result"
    }
   ],
   "source": [
    "y"
   ]
  },
  {
   "cell_type": "markdown",
   "id": "2d467f53",
   "metadata": {},
   "source": [
    "Зафиксируем параметр псевдослучайности для всех наших моделей и выборок:"
   ]
  },
  {
   "cell_type": "code",
   "execution_count": 604,
   "id": "03c5c06f",
   "metadata": {},
   "outputs": [],
   "source": [
    "rnd_st = 10066903 #счастливые числа"
   ]
  },
  {
   "cell_type": "code",
   "execution_count": 605,
   "id": "906de321",
   "metadata": {},
   "outputs": [],
   "source": [
    "#первая итерация, отсечем тестовую выборку размером в 0.2.\n",
    "X_temp, X_test, y_temp, y_test = train_test_split(X, y, test_size=0.2,\n",
    "                                                  random_state=rnd_st)\n",
    "#вторая итерация делим временную выборку на обучающую и валидационную,  откусываем от 0.8 0.25, чтоб получить пропорцию\n",
    "X_train, X_valid, y_train, y_valid = train_test_split(X_temp, y_temp, train_size=0.75, test_size=0.25, random_state=rnd_st)"
   ]
  },
  {
   "cell_type": "markdown",
   "id": "7e1dfd2b",
   "metadata": {},
   "source": [
    "Обратим внимание, что мы не используем в `train_test_split` аргумент `stratify`, который иногда может помочь в случаях дисбаланса классов в целевом признаке. Мы решили сначала тестировать модели без учета дисбаланса классов, потому будем с ним бороться =)"
   ]
  },
  {
   "cell_type": "markdown",
   "id": "f03fcc8b",
   "metadata": {},
   "source": [
    "Проверим:"
   ]
  },
  {
   "cell_type": "code",
   "execution_count": 606,
   "id": "6423ac30",
   "metadata": {
    "scrolled": true
   },
   "outputs": [
    {
     "name": "stdout",
     "output_type": "stream",
     "text": [
      "Обучающая выборка, размер предсказывающих признаков: (6000, 10), размер целевых: (6000,)\n",
      "Валидационная выборка, размер предсказывающих признаков: (2000, 10), размер целевых: (2000,)\n",
      "Тестовая выборка, размер предсказывающих признаков: (2000, 10), размер целевых: (2000,)\n"
     ]
    }
   ],
   "source": [
    "print(f'Обучающая выборка, размер предсказывающих признаков: {X_train.shape}, размер целевых: {y_train.shape}')\n",
    "print(f'Валидационная выборка, размер предсказывающих признаков: {X_valid.shape}, размер целевых: {y_valid.shape}')\n",
    "print(f'Тестовая выборка, размер предсказывающих признаков: {X_test.shape}, размер целевых: {y_test.shape}')"
   ]
  },
  {
   "cell_type": "markdown",
   "id": "e560a2e7",
   "metadata": {},
   "source": [
    "Итого: 10000."
   ]
  },
  {
   "cell_type": "markdown",
   "id": "60e449c5",
   "metadata": {},
   "source": [
    "## Кодирование и масштабирование предсказательных признаков."
   ]
  },
  {
   "cell_type": "markdown",
   "id": "061921d0",
   "metadata": {},
   "source": [
    "Обозначим числовые признаки: (может быть полезно при скалировании)"
   ]
  },
  {
   "cell_type": "code",
   "execution_count": 607,
   "id": "f1e686a1",
   "metadata": {
    "scrolled": true
   },
   "outputs": [
    {
     "data": {
      "text/plain": [
       "['credit_score',\n",
       " 'age',\n",
       " 'tenure',\n",
       " 'balance',\n",
       " 'num_of_products',\n",
       " 'has_cr_card',\n",
       " 'is_active_member',\n",
       " 'estimated_salary']"
      ]
     },
     "execution_count": 607,
     "metadata": {},
     "output_type": "execute_result"
    }
   ],
   "source": [
    "X_numerical_train = X_train.select_dtypes(exclude=[\"object\"])\n",
    "X_numerical_valid = X_valid.select_dtypes(exclude=[\"object\"])\n",
    "X_numerical_test= X_test.select_dtypes(exclude=[\"object\"])\n",
    "num_cols = list(X_numerical_train.columns)\n",
    "num_cols"
   ]
  },
  {
   "cell_type": "markdown",
   "id": "788fea3c",
   "metadata": {},
   "source": [
    "Обозначим категориальные признаки:"
   ]
  },
  {
   "cell_type": "code",
   "execution_count": 608,
   "id": "28e3bb67",
   "metadata": {},
   "outputs": [
    {
     "data": {
      "text/plain": [
       "['geography', 'gender']"
      ]
     },
     "execution_count": 608,
     "metadata": {},
     "output_type": "execute_result"
    }
   ],
   "source": [
    "X_object_train = X_train.select_dtypes(exclude=[\"int64\", 'float64'])\n",
    "X_object_valid = X_valid.select_dtypes(exclude=[\"int64\", 'float64'])\n",
    "X_object_test = X_test.select_dtypes(exclude=[\"int64\", 'float64'])\n",
    "OH_cols = list(X_object_train.columns)\n",
    "OH_cols"
   ]
  },
  {
   "cell_type": "markdown",
   "id": "1cdcaa27",
   "metadata": {},
   "source": [
    "### OneHot-encoding"
   ]
  },
  {
   "cell_type": "markdown",
   "id": "a86ab4aa",
   "metadata": {},
   "source": [
    "Произведем прямое кодирование наших категориальных признаков:"
   ]
  },
  {
   "cell_type": "code",
   "execution_count": 609,
   "id": "8159974f",
   "metadata": {},
   "outputs": [],
   "source": [
    "OH_encoder = OneHotEncoder(sparse=False, drop='first') # dummy-trap нам не нужен\n",
    "\n",
    "OH_cols_train = pd.DataFrame(OH_encoder.fit_transform(X_object_train[OH_cols]))\n",
    "OH_cols_valid = pd.DataFrame(OH_encoder.transform(X_object_valid[OH_cols]))\n",
    "OH_cols_test = pd.DataFrame(OH_encoder.transform(X_object_test[OH_cols]))\n",
    "# индексы слетают после OH. восстановим\n",
    "OH_cols_train.index = X_object_train.index\n",
    "OH_cols_valid.index = X_object_valid.index\n",
    "OH_cols_test.index = X_object_test.index"
   ]
  },
  {
   "cell_type": "markdown",
   "id": "88b23385",
   "metadata": {},
   "source": [
    "### Масштабирование"
   ]
  },
  {
   "cell_type": "code",
   "execution_count": 611,
   "id": "51611635",
   "metadata": {},
   "outputs": [],
   "source": [
    "pd.options.mode.chained_assignment = None #отключим предупреждения\n",
    "\n",
    "scaler = StandardScaler()\n",
    "SC_numerical_train = pd.DataFrame(scaler.fit_transform(X_numerical_train))\n",
    "SC_numerical_valid = pd.DataFrame(scaler.transform(X_numerical_valid))\n",
    "SC_numerical_test = pd.DataFrame(scaler.transform(X_numerical_test))\n",
    "\n",
    "SC_numerical_train.index = X_numerical_train.index\n",
    "SC_numerical_valid.index = X_numerical_valid.index\n",
    "SC_numerical_test.index = X_numerical_test.index"
   ]
  },
  {
   "cell_type": "code",
   "execution_count": 612,
   "id": "47f53b13",
   "metadata": {},
   "outputs": [
    {
     "data": {
      "text/html": [
       "<div>\n",
       "<style scoped>\n",
       "    .dataframe tbody tr th:only-of-type {\n",
       "        vertical-align: middle;\n",
       "    }\n",
       "\n",
       "    .dataframe tbody tr th {\n",
       "        vertical-align: top;\n",
       "    }\n",
       "\n",
       "    .dataframe thead th {\n",
       "        text-align: right;\n",
       "    }\n",
       "</style>\n",
       "<table border=\"1\" class=\"dataframe\">\n",
       "  <thead>\n",
       "    <tr style=\"text-align: right;\">\n",
       "      <th></th>\n",
       "      <th>0</th>\n",
       "      <th>1</th>\n",
       "      <th>2</th>\n",
       "      <th>3</th>\n",
       "      <th>4</th>\n",
       "      <th>5</th>\n",
       "      <th>6</th>\n",
       "      <th>7</th>\n",
       "    </tr>\n",
       "  </thead>\n",
       "  <tbody>\n",
       "    <tr>\n",
       "      <th>5366</th>\n",
       "      <td>0.198980</td>\n",
       "      <td>0.293689</td>\n",
       "      <td>0.012981</td>\n",
       "      <td>-0.432905</td>\n",
       "      <td>2.542442</td>\n",
       "      <td>0.647647</td>\n",
       "      <td>0.979869</td>\n",
       "      <td>0.007113</td>\n",
       "    </tr>\n",
       "    <tr>\n",
       "      <th>8437</th>\n",
       "      <td>1.352640</td>\n",
       "      <td>-0.943162</td>\n",
       "      <td>1.468821</td>\n",
       "      <td>-1.226101</td>\n",
       "      <td>0.812301</td>\n",
       "      <td>-1.544051</td>\n",
       "      <td>-1.020544</td>\n",
       "      <td>1.258743</td>\n",
       "    </tr>\n",
       "    <tr>\n",
       "      <th>3183</th>\n",
       "      <td>-0.154393</td>\n",
       "      <td>0.388831</td>\n",
       "      <td>0.012981</td>\n",
       "      <td>-1.226101</td>\n",
       "      <td>0.812301</td>\n",
       "      <td>0.647647</td>\n",
       "      <td>-1.020544</td>\n",
       "      <td>-0.990292</td>\n",
       "    </tr>\n",
       "    <tr>\n",
       "      <th>7495</th>\n",
       "      <td>-0.975466</td>\n",
       "      <td>-1.133447</td>\n",
       "      <td>-1.078898</td>\n",
       "      <td>-1.226101</td>\n",
       "      <td>0.812301</td>\n",
       "      <td>-1.544051</td>\n",
       "      <td>0.979869</td>\n",
       "      <td>-1.663971</td>\n",
       "    </tr>\n",
       "    <tr>\n",
       "      <th>87</th>\n",
       "      <td>0.812187</td>\n",
       "      <td>-0.848020</td>\n",
       "      <td>1.468821</td>\n",
       "      <td>-1.226101</td>\n",
       "      <td>0.812301</td>\n",
       "      <td>0.647647</td>\n",
       "      <td>-1.020544</td>\n",
       "      <td>0.905994</td>\n",
       "    </tr>\n",
       "  </tbody>\n",
       "</table>\n",
       "</div>"
      ],
      "text/plain": [
       "             0         1         2         3         4         5         6  \\\n",
       "5366  0.198980  0.293689  0.012981 -0.432905  2.542442  0.647647  0.979869   \n",
       "8437  1.352640 -0.943162  1.468821 -1.226101  0.812301 -1.544051 -1.020544   \n",
       "3183 -0.154393  0.388831  0.012981 -1.226101  0.812301  0.647647 -1.020544   \n",
       "7495 -0.975466 -1.133447 -1.078898 -1.226101  0.812301 -1.544051  0.979869   \n",
       "87    0.812187 -0.848020  1.468821 -1.226101  0.812301  0.647647 -1.020544   \n",
       "\n",
       "             7  \n",
       "5366  0.007113  \n",
       "8437  1.258743  \n",
       "3183 -0.990292  \n",
       "7495 -1.663971  \n",
       "87    0.905994  "
      ]
     },
     "execution_count": 612,
     "metadata": {},
     "output_type": "execute_result"
    }
   ],
   "source": [
    "SC_numerical_train.head()"
   ]
  },
  {
   "cell_type": "markdown",
   "id": "a49e9f16",
   "metadata": {},
   "source": [
    "Соединим предобработанные признаки в выборки, с которыми будем дальше работать:"
   ]
  },
  {
   "cell_type": "code",
   "execution_count": 613,
   "id": "397d9ab9",
   "metadata": {},
   "outputs": [],
   "source": [
    "X_prep_train = pd.concat([SC_numerical_train, OH_cols_train], axis=1)\n",
    "X_prep_valid = pd.concat([SC_numerical_valid, OH_cols_valid], axis=1)\n",
    "X_prep_test = pd.concat([SC_numerical_test, OH_cols_test], axis=1)"
   ]
  },
  {
   "cell_type": "code",
   "execution_count": 614,
   "id": "944dc310",
   "metadata": {},
   "outputs": [
    {
     "name": "stdout",
     "output_type": "stream",
     "text": [
      "Обработанная обучающая выборка, размер предсказывающих признаков: (6000, 11), размер целевых: (6000,)\n",
      "Обработанная валидационная выборка, размер предсказывающих признаков: (2000, 11), размер целевых: (2000,)\n",
      "Обработанная тестовая выборка, размер предсказывающих признаков: (2000, 11), размер целевых: (2000,)\n"
     ]
    }
   ],
   "source": [
    "print(f'Обработанная обучающая выборка, размер предсказывающих признаков: {X_prep_train.shape}, размер целевых: {y_train.shape}')\n",
    "print(f'Обработанная валидационная выборка, размер предсказывающих признаков: {X_prep_valid.shape}, размер целевых: {y_valid.shape}')\n",
    "print(f'Обработанная тестовая выборка, размер предсказывающих признаков: {X_prep_test.shape}, размер целевых: {y_test.shape}')"
   ]
  },
  {
   "cell_type": "code",
   "execution_count": 615,
   "id": "509b45b8",
   "metadata": {
    "scrolled": false
   },
   "outputs": [
    {
     "name": "stdout",
     "output_type": "stream",
     "text": [
      "6000\n",
      "2000\n",
      "2000\n"
     ]
    }
   ],
   "source": [
    "print((X_prep_train.index == y_train.index).sum())\n",
    "print((X_prep_valid.index == y_valid.index).sum())\n",
    "print((X_prep_test.index == y_test.index).sum())"
   ]
  },
  {
   "cell_type": "markdown",
   "id": "3aaa415d",
   "metadata": {},
   "source": [
    "Размеры сохранились, индексы не съехали"
   ]
  },
  {
   "cell_type": "markdown",
   "id": "f16009e6",
   "metadata": {},
   "source": [
    "## Обучение моделей прогнозирования без учета дисбаланса классов:"
   ]
  },
  {
   "cell_type": "markdown",
   "id": "c97ed676",
   "metadata": {},
   "source": [
    "Целевым признаком у нас является столбец `exited`, в нем отражен факт ухода клиента. Эта информация является категориальной с двумя значениями, поэтому нам необходимо решить задачу бинарной классификации\n",
    "\n",
    "Проверим следующие модели машинного обучения для задач бинарной классификации:\n",
    "\n",
    "\n",
    "`Логистическая регрессия`\n",
    "\n",
    "`Случайный лес`\n",
    "\n",
    "Для каждой модели (по возможности), будем подбирать такие гиперпараметры, которые дадут большую точность на валидационной выборке.\n",
    "\n",
    "Для подсчёта метрики f1 для каждой модели напишем функцию. Дополнительно, для себя посчитаем ещё 'accuracy', 'precision' и 'recall'. Напомним:\n",
    "\n",
    "- `accuracy` — это доля правильных ответов алгоритма\n",
    "- `precision` — это доля объектов, названных классификатором положительными и при этом действительно являющимися положительными\n",
    "- `recall` — это доля объектов положительного класса, правильно определенного алгоритмом, из всех объектов положительного класса.\n",
    "- `f1` — это среднее гармоническое величин `precision` и `recall`"
   ]
  },
  {
   "cell_type": "code",
   "execution_count": 616,
   "id": "e459785a",
   "metadata": {},
   "outputs": [],
   "source": [
    "def score_dataset(X_train, X_valid, y_train, y_valid, model):\n",
    "    \"\"\"\n",
    "    Возвращает кортеж оценок (accuracy, precision, recall, f1)\n",
    "    из модели model и указанных обучающих и валидационных выборок\n",
    "    \"\"\"\n",
    "    model.fit(X_train, y_train)\n",
    "    preds = model.predict(X_valid)\n",
    "    return(accuracy_score(y_valid, preds),\n",
    "           precision_score(y_valid, preds),\n",
    "           recall_score(y_valid, preds),\n",
    "           f1_score(y_valid, preds))    "
   ]
  },
  {
   "cell_type": "markdown",
   "id": "92497e0d",
   "metadata": {},
   "source": [
    "Напишем функцию для построения кривой ошибок и вычисления roc_auc-метрики"
   ]
  },
  {
   "cell_type": "code",
   "execution_count": 617,
   "id": "77ce0eeb",
   "metadata": {},
   "outputs": [],
   "source": [
    "def plot_roc_auc(model, X_valid=X_prep_valid, y_valid=y_valid):\n",
    "    '''\n",
    "    Строит ROC-curve и возвращает AUC-score для заданной модели model\n",
    "    и заданных выборок X_valid, y_valid\n",
    "    '''\n",
    "    probabilities_valid = model.predict_proba(X_valid)\n",
    "    probabilities_one_valid = probabilities_valid[:, 1]\n",
    "\n",
    "    fpr, tpr, thresholds = roc_curve(y_valid, probabilities_one_valid) \n",
    "\n",
    "    plt.figure(figsize=(6, 6))\n",
    "    plt.plot(fpr, tpr, linestyle='-')\n",
    "    plt.plot([0, 1], [0, 1], linestyle='--')\n",
    "    plt.xlim([0.0, 1.0])\n",
    "    plt.ylim([0.0, 1.0])\n",
    "    plt.xlabel('False Positive Rate')\n",
    "    plt.ylabel('True Positive Rate')\n",
    "    plt.title('ROC-curve')\n",
    "    plt.show()\n",
    "    print(f\"AUC-score: {roc_auc_score(y_valid, probabilities_one_valid)}\")"
   ]
  },
  {
   "cell_type": "markdown",
   "id": "a1e80692",
   "metadata": {},
   "source": [
    "### Логистическая регрессия (модель L1)"
   ]
  },
  {
   "cell_type": "markdown",
   "id": "8a5afd41",
   "metadata": {},
   "source": [
    "<img src=\"https://emojigraph.org/media/twitter/check-box-with-check_2611-fe0f.png\" align=left width=33, heigth=33>\n",
    "<div class=\"alert alert-block alert-info\">\n",
    "<a class=\"tocSkip\"></a>\n",
    "    \n",
    "Для подбора гиперпараметров я могу пользоваться и GridSearchCV и RandomizedSearchCV и порой обычным циклом, но чтоб сэкономить ваше время и не считать на ту глубину, на которую просчитывал я во время выполнения проекта, я буду в параметрах поиска ставить граничные интервалы около значений давших лучший результат, чтоб экономить ваше время!\n",
    "    \n",
    "</div>"
   ]
  },
  {
   "cell_type": "code",
   "execution_count": 618,
   "id": "81962078",
   "metadata": {},
   "outputs": [
    {
     "data": {
      "text/plain": [
       "GridSearchCV(cv=3, estimator=LogisticRegression(random_state=10066903),\n",
       "             param_grid={'C': [8, 7, 9], 'intercept_scaling': [0.05, 0.9, 0.1],\n",
       "                         'penalty': ['liblinear', 'l1'],\n",
       "                         'solver': ['lbfgs', 'saga']},\n",
       "             scoring='f1')"
      ]
     },
     "execution_count": 618,
     "metadata": {},
     "output_type": "execute_result"
    }
   ],
   "source": [
    "parameters = {\n",
    "                   'solver': ['lbfgs', 'saga'],\n",
    "                   'penalty': ['liblinear', 'l1'],\n",
    "                   'intercept_scaling': [0.05, 0.9, 0.1],\n",
    "                   'C': [8, 7, 9]\n",
    "                   }\n",
    "model_L1 = LogisticRegression(random_state=rnd_st)\n",
    "\n",
    "grid_search = GridSearchCV(model_L1, parameters, cv=3,\n",
    "                           scoring='f1', )\n",
    "grid_search.fit(X_prep_train, y_train)"
   ]
  },
  {
   "cell_type": "code",
   "execution_count": 619,
   "id": "ec3be2b0",
   "metadata": {},
   "outputs": [
    {
     "name": "stdout",
     "output_type": "stream",
     "text": [
      "LogisticRegression(C=8, intercept_scaling=0.05, penalty='l1',\n",
      "                   random_state=10066903, solver='saga')\n"
     ]
    },
    {
     "data": {
      "text/plain": [
       "0.3075604722622468"
      ]
     },
     "execution_count": 619,
     "metadata": {},
     "output_type": "execute_result"
    }
   ],
   "source": [
    "print(grid_search.best_estimator_)\n",
    "grid_search.best_score_"
   ]
  },
  {
   "cell_type": "code",
   "execution_count": 620,
   "id": "091e3d4d",
   "metadata": {},
   "outputs": [
    {
     "name": "stdout",
     "output_type": "stream",
     "text": [
      "Показатели итоговой модели: accuracy=0.81, precision=0.61, recall=0.2, f1=0.2978\n"
     ]
    },
    {
     "data": {
      "image/png": "[encoded data removed]",
      "text/plain": [
       "<Figure size 432x288 with 2 Axes>"
      ]
     },
     "metadata": {
      "needs_background": "light"
     },
     "output_type": "display_data"
    }
   ],
   "source": [
    "model_L1 = LogisticRegression(C=8, intercept_scaling=0.05, penalty='l1',\n",
    "                   random_state=rnd_st, solver='saga')\n",
    "scores = score_dataset(X_prep_train, X_prep_valid, y_train, y_valid, model_L1)\n",
    "plot_confusion_matrix(model_L1, X=X_prep_valid, y_true=y_valid, normalize=None, cmap='Blues')\n",
    "print(f'Показатели итоговой модели: accuracy={scores[0]:0.2}, precision={scores[1]:0.2}, \\\n",
    "recall={scores[2]:0.2}, f1={scores[3]:0.4}')"
   ]
  },
  {
   "cell_type": "markdown",
   "id": "64c7796a",
   "metadata": {},
   "source": [
    "0.30 на валидационной - маловато, научилась бить в несбалансированный 0, Метрика ниже обозначенной для нас границы в 0.59."
   ]
  },
  {
   "cell_type": "code",
   "execution_count": 621,
   "id": "7dc243b2",
   "metadata": {},
   "outputs": [
    {
     "data": {
      "image/png": "[encoded data removed]",
      "text/plain": [
       "<Figure size 432x432 with 1 Axes>"
      ]
     },
     "metadata": {
      "needs_background": "light"
     },
     "output_type": "display_data"
    },
    {
     "name": "stdout",
     "output_type": "stream",
     "text": [
      "AUC-score: 0.7753074283509345\n"
     ]
    }
   ],
   "source": [
    "plot_roc_auc(model_L1)"
   ]
  },
  {
   "cell_type": "markdown",
   "id": "cacb9d2b",
   "metadata": {},
   "source": [
    "0.77 - модель лучше случайной, но нас категорически не устравивает f1.\n",
    "\n",
    "Попробуем посмотреть на \"случайный лес\""
   ]
  },
  {
   "cell_type": "markdown",
   "id": "527f3a0a",
   "metadata": {},
   "source": [
    "### Случайный лес (Модель R1)"
   ]
  },
  {
   "cell_type": "markdown",
   "id": "aeb7419d",
   "metadata": {},
   "source": [
    "Сократил глубину параметров, чтоб сэкономить Ваше время"
   ]
  },
  {
   "cell_type": "code",
   "execution_count": 622,
   "id": "2649dec4",
   "metadata": {},
   "outputs": [
    {
     "name": "stdout",
     "output_type": "stream",
     "text": [
      "Fitting 5 folds for each of 2 candidates, totalling 10 fits\n",
      "[CV 1/5] END bootstrap=True, criterion=entropy, max_depth=26, max_features=auto, min_samples_leaf=5, min_samples_split=2, n_estimators=67; total time=   0.5s\n",
      "[CV 2/5] END bootstrap=True, criterion=entropy, max_depth=26, max_features=auto, min_samples_leaf=5, min_samples_split=2, n_estimators=67; total time=   0.4s\n",
      "[CV 3/5] END bootstrap=True, criterion=entropy, max_depth=26, max_features=auto, min_samples_leaf=5, min_samples_split=2, n_estimators=67; total time=   0.6s\n",
      "[CV 4/5] END bootstrap=True, criterion=entropy, max_depth=26, max_features=auto, min_samples_leaf=5, min_samples_split=2, n_estimators=67; total time=   0.4s\n",
      "[CV 5/5] END bootstrap=True, criterion=entropy, max_depth=26, max_features=auto, min_samples_leaf=5, min_samples_split=2, n_estimators=67; total time=   0.4s\n",
      "[CV 1/5] END bootstrap=True, criterion=entropy, max_depth=26, max_features=auto, min_samples_leaf=5, min_samples_split=3, n_estimators=67; total time=   0.4s\n",
      "[CV 2/5] END bootstrap=True, criterion=entropy, max_depth=26, max_features=auto, min_samples_leaf=5, min_samples_split=3, n_estimators=67; total time=   0.4s\n",
      "[CV 3/5] END bootstrap=True, criterion=entropy, max_depth=26, max_features=auto, min_samples_leaf=5, min_samples_split=3, n_estimators=67; total time=   0.4s\n",
      "[CV 4/5] END bootstrap=True, criterion=entropy, max_depth=26, max_features=auto, min_samples_leaf=5, min_samples_split=3, n_estimators=67; total time=   0.4s\n",
      "[CV 5/5] END bootstrap=True, criterion=entropy, max_depth=26, max_features=auto, min_samples_leaf=5, min_samples_split=3, n_estimators=67; total time=   0.4s\n"
     ]
    },
    {
     "data": {
      "text/plain": [
       "RandomizedSearchCV(cv=5,\n",
       "                   estimator=RandomForestClassifier(random_state=10066903),\n",
       "                   n_jobs=-1,\n",
       "                   param_distributions={'bootstrap': [True],\n",
       "                                        'criterion': ['entropy'],\n",
       "                                        'max_depth': [26],\n",
       "                                        'max_features': ['auto'],\n",
       "                                        'min_samples_leaf': [5],\n",
       "                                        'min_samples_split': [2, 3],\n",
       "                                        'n_estimators': [67]},\n",
       "                   scoring='f1', verbose=3)"
      ]
     },
     "execution_count": 622,
     "metadata": {},
     "output_type": "execute_result"
    }
   ],
   "source": [
    "#n_estimators = [int(x) for x in np.linspace(67, 67, 1)]\n",
    "n_estimators = [x for x in range (67, 68)]\n",
    "max_features = ['auto']\n",
    "max_depth = [int(x) for x in np.linspace(26, 26, 1)]\n",
    "#min_samples_split = [int(x) for x in np.linspace(3, 5, 3)]\n",
    "min_samples_split = [x for x in range(2, 4)]\n",
    "min_samples_leaf = [int(x) for x in np.linspace(5, 5, 1)]\n",
    "bootstrap = [True]\n",
    "criterion =['entropy']\n",
    "parameters = {'n_estimators': n_estimators,\n",
    "                'max_features': max_features,\n",
    "                'max_depth': max_depth,\n",
    "                'min_samples_split': min_samples_split,\n",
    "                'min_samples_leaf': min_samples_leaf,\n",
    "                'bootstrap': bootstrap,\n",
    "                'criterion': criterion}\n",
    "\n",
    "model_R1 = RandomForestClassifier(random_state=rnd_st)\n",
    "random_search = RandomizedSearchCV(model_R1, \n",
    "                          parameters, \n",
    "                          n_iter = 10, \n",
    "                          cv = 5, \n",
    "                          verbose = 3, \n",
    "                          n_jobs=-1, \n",
    "                          scoring='f1') # без рандом_стейта, чтоб прогонял всешда по разным выборкам\n",
    "random_search.fit(X_prep_train, y_train)"
   ]
  },
  {
   "cell_type": "code",
   "execution_count": 623,
   "id": "d58e5cd2",
   "metadata": {
    "scrolled": true
   },
   "outputs": [
    {
     "name": "stdout",
     "output_type": "stream",
     "text": [
      "RandomForestClassifier(criterion='entropy', max_depth=26, min_samples_leaf=5,\n",
      "                       n_estimators=67, random_state=10066903)\n"
     ]
    },
    {
     "data": {
      "text/plain": [
       "0.5388915478986926"
      ]
     },
     "execution_count": 623,
     "metadata": {},
     "output_type": "execute_result"
    }
   ],
   "source": [
    "print(random_search.best_estimator_)\n",
    "random_search.best_score_"
   ]
  },
  {
   "cell_type": "code",
   "execution_count": 624,
   "id": "c6e7d9dd",
   "metadata": {
    "scrolled": true
   },
   "outputs": [
    {
     "name": "stdout",
     "output_type": "stream",
     "text": [
      "Показатели итоговой модели: accuracy=0.87, precision=0.86, recall=0.44, f1=0.5829\n"
     ]
    },
    {
     "data": {
      "image/png": "[encoded data removed]",
      "text/plain": [
       "<Figure size 432x288 with 2 Axes>"
      ]
     },
     "metadata": {
      "needs_background": "light"
     },
     "output_type": "display_data"
    }
   ],
   "source": [
    "model_R1 = RandomForestClassifier(criterion='entropy', max_depth=26, min_samples_leaf=5,\n",
    "                       min_samples_split=3, n_estimators=67, random_state=rnd_st)\n",
    "scores = score_dataset(X_prep_train, X_prep_valid, y_train, y_valid, model_R1)\n",
    "plot_confusion_matrix(model_R1, X=X_prep_valid, y_true=y_valid, normalize=None, cmap='Blues')\n",
    "print(f'Показатели итоговой модели: accuracy={scores[0]:0.2}, precision={scores[1]:0.2}, \\\n",
    "recall={scores[2]:0.2}, f1={scores[3]:0.4}')"
   ]
  },
  {
   "cell_type": "code",
   "execution_count": 625,
   "id": "082b87ad",
   "metadata": {
    "scrolled": false
   },
   "outputs": [
    {
     "data": {
      "image/png": "[encoded data removed]",
      "text/plain": [
       "<Figure size 432x432 with 1 Axes>"
      ]
     },
     "metadata": {
      "needs_background": "light"
     },
     "output_type": "display_data"
    },
    {
     "name": "stdout",
     "output_type": "stream",
     "text": [
      "AUC-score: 0.855316125614206\n"
     ]
    }
   ],
   "source": [
    "plot_roc_auc(model_R1)"
   ]
  },
  {
   "cell_type": "markdown",
   "id": "c9c4a099",
   "metadata": {},
   "source": [
    "f1 : 0.5829 - Лучше, чем логистическая регрессия, но чуть-чуть не хватает под требования."
   ]
  },
  {
   "cell_type": "markdown",
   "id": "8e7e188c",
   "metadata": {},
   "source": [
    "### Вывод:"
   ]
  },
  {
   "cell_type": "markdown",
   "id": "7c58f7ed",
   "metadata": {},
   "source": [
    "На первом этапе построения модели классификации, мы произвели следующие преобразования данных:\n",
    "\n",
    "   -  Удалили несущественные признаки: `row_number`, `customer_id`, `surname`\n",
    "   -  Заполнили пропуски в признаке `tenure` медианным значением по категории возраст заёмщика.\n",
    "   -  Произвели кодирование категориальных признаков по методу `OneHot`\n",
    "   -  Выполнили масштабирование количественных признаков с помощью `StandardScaler`\n",
    "   -  Разделили данные на три выборки: обучающую, валидационную и тестовую в пропорции: `0.6:0.2:0.2`\n",
    "   -  Обучили две модели `Логистическую регрессию` и `Случайный лес` и получили результаты метрики f1 на валидационной выборке соответственно в `0.30` и `0.58`, что ниже, чем поставленные перед нами требования величиной не ниже `0.59`.\n",
    "   \n",
    " Мы попытались построить модели, имея в целевом признаке объекты с дисбалансом классов. Теперь попробуем поработать с данными и моделями, учитываю эту проблему."
   ]
  },
  {
   "cell_type": "markdown",
   "id": "73eda890",
   "metadata": {},
   "source": [
    "## Устранение дисбаланса и улучшение качества моделей"
   ]
  },
  {
   "cell_type": "markdown",
   "id": "6b319da4",
   "metadata": {},
   "source": [
    "Напомним:"
   ]
  },
  {
   "cell_type": "code",
   "execution_count": 626,
   "id": "df5737e9",
   "metadata": {
    "scrolled": true
   },
   "outputs": [
    {
     "name": "stdout",
     "output_type": "stream",
     "text": [
      "Процент положительных значений в целевом признаке: 20.37%\n"
     ]
    }
   ],
   "source": [
    "print(f'Процент положительных значений в целевом признаке: {data.exited.mean():.2%}')"
   ]
  },
  {
   "cell_type": "code",
   "execution_count": 627,
   "id": "8287c4d4",
   "metadata": {},
   "outputs": [],
   "source": [
    "#Положительных меньше отрицательных примерно в 5 раз.\n",
    "#Конечно же в 4.\n",
    "repeat = 4"
   ]
  },
  {
   "cell_type": "markdown",
   "id": "39bd441f",
   "metadata": {},
   "source": [
    "Мы применим четыре подхода, изучаемых в рамках теории курса, к проблеме дисбаланса классов в целевом признаке:\n",
    "\n",
    "   - При построении модели, применить параметр class_weight='balanced'\n",
    "   - Увеличение выборки (Upsampling)\n",
    "   - Уменьшение выборки (Downsampling)\n",
    "   - Изменения порога классификации (Change threshold)\n",
    "   \n",
    "Сравним их результаты, выберем лучший, дополнительно с ним поработаем и применим его для построения нашей модели классификации. План таков."
   ]
  },
  {
   "cell_type": "markdown",
   "id": "5eef5a05",
   "metadata": {},
   "source": [
    "### Параметр 'class_weight='balanced''"
   ]
  },
  {
   "cell_type": "markdown",
   "id": "4bfeb638",
   "metadata": {},
   "source": [
    "При построении моделей, добавим к каждой параметр class_weight='balanced'."
   ]
  },
  {
   "cell_type": "markdown",
   "id": "0fe43c0d",
   "metadata": {},
   "source": [
    "#### Логистическая регрессия (model_L1_wb)"
   ]
  },
  {
   "cell_type": "code",
   "execution_count": 628,
   "id": "d28b6481",
   "metadata": {
    "scrolled": true
   },
   "outputs": [
    {
     "name": "stdout",
     "output_type": "stream",
     "text": [
      "Показатели итоговой модели: accuracy=0.71, precision=0.39, recall=0.7, f1=0.4991\n"
     ]
    },
    {
     "data": {
      "image/png": "[encoded data removed]",
      "text/plain": [
       "<Figure size 432x288 with 2 Axes>"
      ]
     },
     "metadata": {
      "needs_background": "light"
     },
     "output_type": "display_data"
    }
   ],
   "source": [
    "model_L1_wb = LogisticRegression(C=8, intercept_scaling=0.05, penalty='l1',\n",
    "                   random_state=rnd_st, solver='saga', class_weight='balanced')\n",
    "scores = score_dataset(X_prep_train, X_prep_valid, y_train, y_valid, model_L1_wb)\n",
    "plot_confusion_matrix(model_L1_wb, X=X_prep_valid, y_true=y_valid, normalize=None, cmap='Blues')\n",
    "print(f'Показатели итоговой модели: accuracy={scores[0]:0.2}, precision={scores[1]:0.2}, \\\n",
    "recall={scores[2]:0.2}, f1={scores[3]:0.4}')"
   ]
  },
  {
   "cell_type": "markdown",
   "id": "8e70fb9a",
   "metadata": {},
   "source": [
    "Гораздо лучше, чем прошлая логистическая регрессия. Взглянем на кривую ошибок:"
   ]
  },
  {
   "cell_type": "code",
   "execution_count": 629,
   "id": "7b893007",
   "metadata": {
    "scrolled": false
   },
   "outputs": [
    {
     "data": {
      "image/png": "[encoded data removed]",
      "text/plain": [
       "<Figure size 432x432 with 1 Axes>"
      ]
     },
     "metadata": {
      "needs_background": "light"
     },
     "output_type": "display_data"
    },
    {
     "name": "stdout",
     "output_type": "stream",
     "text": [
      "AUC-score: 0.7789670162415268\n"
     ]
    }
   ],
   "source": [
    "plot_roc_auc(model_L1_wb)"
   ]
  },
  {
   "cell_type": "markdown",
   "id": "5ecfc4a4",
   "metadata": {},
   "source": [
    "#### Случайный лес (model_R1_wb)"
   ]
  },
  {
   "cell_type": "code",
   "execution_count": 630,
   "id": "a554fa69",
   "metadata": {
    "scrolled": true
   },
   "outputs": [
    {
     "name": "stdout",
     "output_type": "stream",
     "text": [
      "Показатели итоговой модели: accuracy=0.85, precision=0.63, recall=0.64, f1=0.6345\n"
     ]
    },
    {
     "data": {
      "image/png": "[encoded data removed]",
      "text/plain": [
       "<Figure size 432x288 with 2 Axes>"
      ]
     },
     "metadata": {
      "needs_background": "light"
     },
     "output_type": "display_data"
    }
   ],
   "source": [
    "model_R1_wb = RandomForestClassifier(criterion='entropy', max_depth=26, min_samples_leaf=5,\n",
    "                       min_samples_split=3, n_estimators=67, random_state=rnd_st, class_weight='balanced')\n",
    "scores = score_dataset(X_prep_train, X_prep_valid, y_train, y_valid, model_R1_wb)\n",
    "plot_confusion_matrix(model_R1_wb, X=X_prep_valid, y_true=y_valid, normalize=None, cmap='Blues')\n",
    "print(f'Показатели итоговой модели: accuracy={scores[0]:0.2}, precision={scores[1]:0.2}, \\\n",
    "recall={scores[2]:0.2}, f1={scores[3]:0.4}')"
   ]
  },
  {
   "cell_type": "markdown",
   "id": "5d998087",
   "metadata": {},
   "source": [
    "0.63 - на валидационной! Хороший результат! Интересно, что даст она на тестовом."
   ]
  },
  {
   "cell_type": "code",
   "execution_count": 631,
   "id": "9656a8b6",
   "metadata": {},
   "outputs": [
    {
     "data": {
      "image/png": "[encoded data removed]",
      "text/plain": [
       "<Figure size 432x432 with 1 Axes>"
      ]
     },
     "metadata": {
      "needs_background": "light"
     },
     "output_type": "display_data"
    },
    {
     "name": "stdout",
     "output_type": "stream",
     "text": [
      "AUC-score: 0.8522904579690972\n"
     ]
    }
   ],
   "source": [
    "plot_roc_auc(model_R1_wb)"
   ]
  },
  {
   "cell_type": "markdown",
   "id": "e06e5c78",
   "metadata": {},
   "source": [
    "### Увеличение выборки (Upsampling)"
   ]
  },
  {
   "cell_type": "markdown",
   "id": "574d0823",
   "metadata": {},
   "source": [
    "Выполним следующие преобразования:\n",
    "- разделим обучающую выборку на записи с положительными и отрицательными значениями целевого признака.\n",
    "- скопируем записи с положительным целевым классом несколько раз и с учетом полученных данных, создадим новую обучающую выборку\n",
    "- перетасуем данные"
   ]
  },
  {
   "cell_type": "code",
   "execution_count": 632,
   "id": "ec6273e9",
   "metadata": {
    "scrolled": true
   },
   "outputs": [
    {
     "data": {
      "text/plain": [
       "(6000, 11)"
      ]
     },
     "execution_count": 632,
     "metadata": {},
     "output_type": "execute_result"
    }
   ],
   "source": [
    "X_prep_train.shape"
   ]
  },
  {
   "cell_type": "code",
   "execution_count": 633,
   "id": "8a354f8f",
   "metadata": {},
   "outputs": [
    {
     "data": {
      "text/plain": [
       "(6000,)"
      ]
     },
     "execution_count": 633,
     "metadata": {},
     "output_type": "execute_result"
    }
   ],
   "source": [
    "y_train.shape"
   ]
  },
  {
   "cell_type": "code",
   "execution_count": 634,
   "id": "3f3f3200",
   "metadata": {},
   "outputs": [],
   "source": [
    "X_zeros = X_prep_train[y_train == 0]\n",
    "X_ones = X_prep_train[y_train == 1]\n",
    "y_zeros = y_train[y_train == 0]\n",
    "y_ones = y_train[y_train == 1]\n",
    "    \n",
    "X_train_upsampled = pd.concat([X_zeros] + [X_ones] * repeat)\n",
    "y_train_upsampled = pd.concat([y_zeros] + [y_ones] * repeat)\n",
    "    \n",
    "X_train_upsampled = shuffle(X_train_upsampled, random_state=rnd_st)\n",
    "y_train_upsampled = shuffle(y_train_upsampled, random_state=rnd_st)"
   ]
  },
  {
   "cell_type": "code",
   "execution_count": 635,
   "id": "dc364895",
   "metadata": {},
   "outputs": [
    {
     "name": "stdout",
     "output_type": "stream",
     "text": [
      "(9651, 11)\n",
      "(9651,)\n"
     ]
    },
    {
     "data": {
      "text/plain": [
       "0.5044036887369184"
      ]
     },
     "execution_count": 635,
     "metadata": {},
     "output_type": "execute_result"
    }
   ],
   "source": [
    "print(X_train_upsampled.shape)\n",
    "print(y_train_upsampled.shape)\n",
    "y_train_upsampled.mean()"
   ]
  },
  {
   "cell_type": "markdown",
   "id": "01c7810f",
   "metadata": {},
   "source": [
    "#### Логистическая регрессия (модель L2)"
   ]
  },
  {
   "cell_type": "code",
   "execution_count": 636,
   "id": "be16e29c",
   "metadata": {},
   "outputs": [
    {
     "name": "stdout",
     "output_type": "stream",
     "text": [
      "Показатели итоговой модели: accuracy=0.71, precision=0.38, recall=0.7, f1=0.4944\n"
     ]
    },
    {
     "data": {
      "image/png": "[encoded data removed]",
      "text/plain": [
       "<Figure size 432x288 with 2 Axes>"
      ]
     },
     "metadata": {
      "needs_background": "light"
     },
     "output_type": "display_data"
    }
   ],
   "source": [
    "model_L2 = LogisticRegression(C=8, intercept_scaling=0.05, penalty='l1',\n",
    "                   random_state=rnd_st, solver='saga')\n",
    "scores = score_dataset(X_train_upsampled, X_prep_valid, y_train_upsampled, y_valid, model_L2)\n",
    "plot_confusion_matrix(model_L2, X=X_prep_valid, y_true=y_valid, normalize=None, cmap='Blues')\n",
    "print(f'Показатели итоговой модели: accuracy={scores[0]:0.2}, precision={scores[1]:0.2}, \\\n",
    "recall={scores[2]:0.2}, f1={scores[3]:0.4}')"
   ]
  },
  {
   "cell_type": "markdown",
   "id": "92fa528e",
   "metadata": {},
   "source": [
    "Значение получилось близкое к тому, что мы получили при применении `class_weight='balanced'`. Уж не одно ли это и тоже?"
   ]
  },
  {
   "cell_type": "markdown",
   "id": "11d7b981",
   "metadata": {},
   "source": [
    "#### Случайный лес (Модель R2)"
   ]
  },
  {
   "cell_type": "code",
   "execution_count": 637,
   "id": "b71deb6d",
   "metadata": {},
   "outputs": [
    {
     "name": "stdout",
     "output_type": "stream",
     "text": [
      "Показатели итоговой модели: accuracy=0.83, precision=0.56, recall=0.67, f1=0.6127\n"
     ]
    },
    {
     "data": {
      "image/png": "[encoded data removed]",
      "text/plain": [
       "<Figure size 432x288 with 2 Axes>"
      ]
     },
     "metadata": {
      "needs_background": "light"
     },
     "output_type": "display_data"
    }
   ],
   "source": [
    "model_R2 = RandomForestClassifier(criterion='entropy', max_depth=26, min_samples_leaf=5,\n",
    "                       min_samples_split=3, n_estimators=67, random_state=rnd_st)\n",
    "scores = score_dataset(X_train_upsampled, X_prep_valid, y_train_upsampled, y_valid, model_R2)\n",
    "plot_confusion_matrix(model_R2, X=X_prep_valid, y_true=y_valid, normalize=None, cmap='Blues')\n",
    "print(f'Показатели итоговой модели: accuracy={scores[0]:0.2}, precision={scores[1]:0.2}, \\\n",
    "recall={scores[2]:0.2}, f1={scores[3]:0.4}')"
   ]
  },
  {
   "cell_type": "markdown",
   "id": "445252db",
   "metadata": {},
   "source": [
    "Значение хуже, чем в пункте 6.1.1, но выше требуемого порога по заданию!"
   ]
  },
  {
   "cell_type": "markdown",
   "id": "a114f9b3",
   "metadata": {},
   "source": [
    "Попробуем `downsampling`"
   ]
  },
  {
   "cell_type": "markdown",
   "id": "b51eb92e",
   "metadata": {},
   "source": [
    "### Уменьшение выборки (Downsampling)"
   ]
  },
  {
   "cell_type": "markdown",
   "id": "fed19e26",
   "metadata": {},
   "source": [
    "Похоже на Upsampling, только наоборот.\n",
    "\n",
    "Выполним следующие преобразования:\n",
    "- разделим обучающую выборку на записи с положительными и отрицательными значениями целевого признака.\n",
    "- случайным образом удалим некоторые записи с отрицательным целевым признаком и с учетом полученных данных, создадим новую обучающую выборку\n",
    "- перетасуем данные"
   ]
  },
  {
   "cell_type": "code",
   "execution_count": 638,
   "id": "85e02360",
   "metadata": {},
   "outputs": [],
   "source": [
    "X_zeros = X_prep_train[y_train == 0]\n",
    "X_ones = X_prep_train[y_train == 1]\n",
    "y_zeros = y_train[y_train == 0]\n",
    "y_ones = y_train[y_train == 1]\n",
    "\n",
    "X_train_sample = X_zeros.sample(frac=0.25, random_state=rnd_st)\n",
    "y_train_sample = y_zeros.sample(frac=0.25, random_state=rnd_st)\n",
    "    \n",
    "X_train__downsampled = pd.concat([X_train_sample] + [X_ones])\n",
    "y_train_downsampled = pd.concat([y_train_sample] + [y_ones])\n",
    "    \n",
    "X_train_downsampled = shuffle(X_train__downsampled , random_state=rnd_st)\n",
    "y_train_downsampled = shuffle(y_train_downsampled, random_state=rnd_st)"
   ]
  },
  {
   "cell_type": "code",
   "execution_count": 639,
   "id": "588127d4",
   "metadata": {},
   "outputs": [
    {
     "name": "stdout",
     "output_type": "stream",
     "text": [
      "(2413, 11)\n",
      "(2413,)\n"
     ]
    },
    {
     "data": {
      "text/plain": [
       "0.5043514297554911"
      ]
     },
     "execution_count": 639,
     "metadata": {},
     "output_type": "execute_result"
    }
   ],
   "source": [
    "print(X_train_downsampled.shape)\n",
    "print(y_train_downsampled.shape)\n",
    "y_train_downsampled.mean()"
   ]
  },
  {
   "cell_type": "markdown",
   "id": "cf462a23",
   "metadata": {},
   "source": [
    "#### Логистическая регрессия (модель L3)"
   ]
  },
  {
   "cell_type": "code",
   "execution_count": 640,
   "id": "c9ec948b",
   "metadata": {},
   "outputs": [
    {
     "name": "stdout",
     "output_type": "stream",
     "text": [
      "Показатели итоговой модели: accuracy=0.71, precision=0.38, recall=0.71, f1=0.4983\n"
     ]
    },
    {
     "data": {
      "image/png": "[encoded data removed]",
      "text/plain": [
       "<Figure size 432x288 with 2 Axes>"
      ]
     },
     "metadata": {
      "needs_background": "light"
     },
     "output_type": "display_data"
    }
   ],
   "source": [
    "model_L3 = LogisticRegression(C=8, intercept_scaling=0.05, penalty='l1',\n",
    "                   random_state=rnd_st, solver='saga')\n",
    "scores = score_dataset(X_train_downsampled, X_prep_valid, y_train_downsampled, y_valid, model_L3)\n",
    "plot_confusion_matrix(model_L3, X=X_prep_valid, y_true=y_valid, normalize=None, cmap='Blues')\n",
    "print(f'Показатели итоговой модели: accuracy={scores[0]:0.2}, precision={scores[1]:0.2}, \\\n",
    "recall={scores[2]:0.2}, f1={scores[3]:0.4}')"
   ]
  },
  {
   "cell_type": "markdown",
   "id": "0528c724",
   "metadata": {},
   "source": [
    "Тоже очень близко к `class_weight='balanced'`, но ниже чем порог."
   ]
  },
  {
   "cell_type": "markdown",
   "id": "245adf09",
   "metadata": {},
   "source": [
    "#### Случайный лес (Модель R3)"
   ]
  },
  {
   "cell_type": "code",
   "execution_count": 641,
   "id": "a6db93eb",
   "metadata": {},
   "outputs": [
    {
     "name": "stdout",
     "output_type": "stream",
     "text": [
      "Показатели итоговой модели: accuracy=0.76, precision=0.45, recall=0.76, f1=0.57\n"
     ]
    },
    {
     "data": {
      "image/png": "[encoded data removed]",
      "text/plain": [
       "<Figure size 432x288 with 2 Axes>"
      ]
     },
     "metadata": {
      "needs_background": "light"
     },
     "output_type": "display_data"
    }
   ],
   "source": [
    "model_R3 = RandomForestClassifier(criterion='entropy', max_depth=26, min_samples_leaf=5,\n",
    "                       min_samples_split=3, n_estimators=67, random_state=rnd_st)\n",
    "scores = score_dataset(X_train_downsampled, X_prep_valid, y_train_downsampled, y_valid, model_R3)\n",
    "plot_confusion_matrix(model_R3, X=X_prep_valid, y_true=y_valid, normalize=None, cmap='Blues')\n",
    "print(f'Показатели итоговой модели: accuracy={scores[0]:0.2}, precision={scores[1]:0.2}, \\\n",
    "recall={scores[2]:0.2}, f1={scores[3]:0.2}')"
   ]
  },
  {
   "cell_type": "markdown",
   "id": "59da8af1",
   "metadata": {},
   "source": [
    "Сильно ухудшился этот показатель, стали ниже порога."
   ]
  },
  {
   "cell_type": "markdown",
   "id": "3bbe61c7",
   "metadata": {},
   "source": [
    "### Изменения порога классификации (Change threshold)"
   ]
  },
  {
   "cell_type": "markdown",
   "id": "20f96724",
   "metadata": {},
   "source": [
    "Переберем значения порогов классификации от 0 до 1 с шагом 0.02. Найдем для каждого значения точность, полноту и f1:"
   ]
  },
  {
   "cell_type": "markdown",
   "id": "fde93412",
   "metadata": {},
   "source": [
    "Лучший результат на валидационной выборке для логистической регрессии, дала модель L1_wb с параметром `class_weight='balanced'`"
   ]
  },
  {
   "cell_type": "code",
   "execution_count": 642,
   "id": "f61b0af4",
   "metadata": {
    "scrolled": false
   },
   "outputs": [
    {
     "name": "stdout",
     "output_type": "stream",
     "text": [
      "Threshold = 0.0 | Precision = 0.21, Recall = 1.00 | F1-score = 0.3409\n",
      "Threshold = 0.02 | Precision = 0.21, Recall = 1.00 | F1-score = 0.3409\n",
      "Threshold = 0.04 | Precision = 0.21, Recall = 1.00 | F1-score = 0.3409\n",
      "Threshold = 0.06 | Precision = 0.21, Recall = 1.00 | F1-score = 0.341\n",
      "Threshold = 0.08 | Precision = 0.21, Recall = 1.00 | F1-score = 0.343\n",
      "Threshold = 0.1 | Precision = 0.21, Recall = 1.00 | F1-score = 0.3447\n",
      "Threshold = 0.12 | Precision = 0.21, Recall = 1.00 | F1-score = 0.3488\n",
      "Threshold = 0.14 | Precision = 0.22, Recall = 1.00 | F1-score = 0.3546\n",
      "Threshold = 0.16 | Precision = 0.22, Recall = 0.99 | F1-score = 0.3626\n",
      "Threshold = 0.18 | Precision = 0.23, Recall = 0.99 | F1-score = 0.3705\n",
      "Threshold = 0.2 | Precision = 0.24, Recall = 0.98 | F1-score = 0.3791\n",
      "Threshold = 0.22 | Precision = 0.24, Recall = 0.97 | F1-score = 0.3895\n",
      "Threshold = 0.24 | Precision = 0.25, Recall = 0.97 | F1-score = 0.4026\n",
      "Threshold = 0.26 | Precision = 0.26, Recall = 0.95 | F1-score = 0.4114\n",
      "Threshold = 0.28 | Precision = 0.27, Recall = 0.94 | F1-score = 0.4203\n",
      "Threshold = 0.3 | Precision = 0.28, Recall = 0.93 | F1-score = 0.4294\n",
      "Threshold = 0.32 | Precision = 0.29, Recall = 0.92 | F1-score = 0.4358\n",
      "Threshold = 0.34 | Precision = 0.29, Recall = 0.89 | F1-score = 0.443\n",
      "Threshold = 0.36 | Precision = 0.3, Recall = 0.87 | F1-score = 0.451\n",
      "Threshold = 0.38 | Precision = 0.31, Recall = 0.85 | F1-score = 0.4595\n",
      "Threshold = 0.4 | Precision = 0.32, Recall = 0.82 | F1-score = 0.4648\n",
      "Threshold = 0.42 | Precision = 0.34, Recall = 0.81 | F1-score = 0.4788\n",
      "Threshold = 0.44 | Precision = 0.35, Recall = 0.79 | F1-score = 0.4864\n",
      "Threshold = 0.46 | Precision = 0.37, Recall = 0.75 | F1-score = 0.494\n",
      "Threshold = 0.48 | Precision = 0.37, Recall = 0.71 | F1-score = 0.4867\n",
      "Threshold = 0.5 | Precision = 0.39, Recall = 0.70 | F1-score = 0.4991\n",
      "Threshold = 0.52 | Precision = 0.41, Recall = 0.66 | F1-score = 0.5042\n",
      "Threshold = 0.54 | Precision = 0.42, Recall = 0.64 | F1-score = 0.5077\n",
      "Threshold = 0.56 | Precision = 0.44, Recall = 0.61 | F1-score = 0.5081\n",
      "Threshold = 0.58 | Precision = 0.45, Recall = 0.59 | F1-score = 0.5122\n",
      "Threshold = 0.6 | Precision = 0.46, Recall = 0.56 | F1-score = 0.5066\n",
      "Threshold = 0.62 | Precision = 0.48, Recall = 0.53 | F1-score = 0.5052\n",
      "Threshold = 0.64 | Precision = 0.49, Recall = 0.50 | F1-score = 0.497\n",
      "Threshold = 0.66 | Precision = 0.52, Recall = 0.47 | F1-score = 0.4955\n",
      "Threshold = 0.68 | Precision = 0.53, Recall = 0.43 | F1-score = 0.4711\n",
      "Threshold = 0.7 | Precision = 0.53, Recall = 0.38 | F1-score = 0.4391\n",
      "Threshold = 0.72 | Precision = 0.51, Recall = 0.31 | F1-score = 0.3891\n",
      "Threshold = 0.74 | Precision = 0.5, Recall = 0.27 | F1-score = 0.3502\n",
      "Threshold = 0.76 | Precision = 0.53, Recall = 0.26 | F1-score = 0.3448\n",
      "Threshold = 0.78 | Precision = 0.56, Recall = 0.22 | F1-score = 0.3194\n",
      "Threshold = 0.8 | Precision = 0.58, Recall = 0.19 | F1-score = 0.2909\n",
      "Threshold = 0.82 | Precision = 0.64, Recall = 0.18 | F1-score = 0.2753\n",
      "Threshold = 0.84 | Precision = 0.6, Recall = 0.13 | F1-score = 0.2191\n",
      "Threshold = 0.86 | Precision = 0.63, Recall = 0.10 | F1-score = 0.1757\n",
      "Threshold = 0.88 | Precision = 0.6, Recall = 0.06 | F1-score = 0.1145\n",
      "Threshold = 0.9 | Precision = 0.6, Recall = 0.04 | F1-score = 0.08163\n",
      "Threshold = 0.92 | Precision = 0.6, Recall = 0.02 | F1-score = 0.04225\n",
      "Threshold = 0.94 | Precision = 0.75, Recall = 0.01 | F1-score = 0.02864\n",
      "Threshold = 0.96 | Precision = 0.67, Recall = 0.00 | F1-score = 0.009662\n",
      "Threshold = 0.98 | Precision = 1.0, Recall = 0.00 | F1-score = 0.004854\n"
     ]
    },
    {
     "data": {
      "image/png": "[encoded data removed]",
      "text/plain": [
       "<Figure size 432x432 with 1 Axes>"
      ]
     },
     "metadata": {
      "needs_background": "light"
     },
     "output_type": "display_data"
    }
   ],
   "source": [
    "probabilities_valid = model_L1_wb.predict_proba(X_prep_valid)\n",
    "probabilities_one_valid = probabilities_valid[:, 1]\n",
    "\n",
    "for threshold in np.arange(0, 1, 0.02):\n",
    "    predicted_valid = probabilities_one_valid > threshold\n",
    "    precision = precision_score(y_valid, predicted_valid)\n",
    "    recall = recall_score(y_valid, predicted_valid)\n",
    "    f1 = f1_score(y_valid, predicted_valid)\n",
    "    print(f\"Threshold = {threshold:.2} | Precision = {precision:.2}, Recall = {recall:.2f} | F1-score = {f1:.4}\")\n",
    "    \n",
    "precision, recall, thresholds = precision_recall_curve(y_valid, probabilities_valid[:, 1])    \n",
    "plt.figure(figsize=(6, 6))\n",
    "plt.step(recall, precision, where='post')\n",
    "plt.xlabel('Recall')\n",
    "plt.ylabel('Precision')\n",
    "plt.ylim([0.0, 1.05])\n",
    "plt.xlim([0.0, 1.0])\n",
    "plt.title('PR curve')\n",
    "plt.show() "
   ]
  },
  {
   "cell_type": "markdown",
   "id": "e430e1bb",
   "metadata": {},
   "source": [
    "Лучший показаетль F1-score = 0.5122 при Threshold = 0.58"
   ]
  },
  {
   "cell_type": "markdown",
   "id": "17b46b3a",
   "metadata": {},
   "source": [
    "Для \"случайного леса\":"
   ]
  },
  {
   "cell_type": "code",
   "execution_count": 643,
   "id": "f3924a16",
   "metadata": {},
   "outputs": [
    {
     "name": "stdout",
     "output_type": "stream",
     "text": [
      "Threshold = 0.52 | Precision = 0.65, Recall = 0.62 | F1-score = 0.6352\n",
      "Threshold = 0.521 | Precision = 0.65, Recall = 0.62 | F1-score = 0.6352\n",
      "Threshold = 0.522 | Precision = 0.65, Recall = 0.62 | F1-score = 0.6368\n",
      "Threshold = 0.523 | Precision = 0.65, Recall = 0.62 | F1-score = 0.6376\n",
      "Threshold = 0.524 | Precision = 0.65, Recall = 0.62 | F1-score = 0.6384\n",
      "Threshold = 0.525 | Precision = 0.65, Recall = 0.62 | F1-score = 0.6384\n",
      "Threshold = 0.526 | Precision = 0.66, Recall = 0.62 | F1-score = 0.6383\n",
      "Threshold = 0.527 | Precision = 0.66, Recall = 0.62 | F1-score = 0.6391\n",
      "Threshold = 0.528 | Precision = 0.66, Recall = 0.62 | F1-score = 0.6391\n",
      "Threshold = 0.529 | Precision = 0.66, Recall = 0.62 | F1-score = 0.6407\n",
      "Threshold = 0.53 | Precision = 0.67, Recall = 0.62 | F1-score = 0.6423\n"
     ]
    },
    {
     "data": {
      "image/png": "[encoded data removed]",
      "text/plain": [
       "<Figure size 432x432 with 1 Axes>"
      ]
     },
     "metadata": {
      "needs_background": "light"
     },
     "output_type": "display_data"
    }
   ],
   "source": [
    "probabilities_valid = model_R1_wb.predict_proba(X_prep_valid)\n",
    "probabilities_one_valid = probabilities_valid[:, 1]\n",
    "\n",
    "for threshold in np.arange(0.52, 0.53, 0.001):\n",
    "    predicted_valid = probabilities_one_valid > threshold\n",
    "    precision = precision_score(y_valid, predicted_valid)\n",
    "    recall = recall_score(y_valid, predicted_valid)\n",
    "    f1 = f1_score(y_valid, predicted_valid)\n",
    "    print(f\"Threshold = {threshold:.3} | Precision = {precision:.2}, Recall = {recall:.2f} | F1-score = {f1:.4}\")\n",
    "    \n",
    "precision, recall, thresholds = precision_recall_curve(y_valid, probabilities_valid[:, 1])    \n",
    "plt.figure(figsize=(6, 6))\n",
    "plt.step(recall, precision, where='post')\n",
    "plt.xlabel('Recall')\n",
    "plt.ylabel('Precision')\n",
    "plt.ylim([0.0, 1.05])\n",
    "plt.xlim([0.0, 1.0])\n",
    "plt.title('PR curve')\n",
    "plt.show() "
   ]
  },
  {
   "cell_type": "markdown",
   "id": "0c9f5bdf",
   "metadata": {},
   "source": [
    "Лучший показаетль F1-score = 0.6394 при Threshold = 0.521"
   ]
  },
  {
   "cell_type": "markdown",
   "id": "0a3eb2af",
   "metadata": {},
   "source": [
    "### Вывод"
   ]
  },
  {
   "cell_type": "markdown",
   "id": "fb9c3c4b",
   "metadata": {},
   "source": [
    "Лучшей моделью при работе с дисбалансом класса стал Случайный лес с параметрами: \n",
    "\n",
    "   (criterion='entropy', max_depth=26, min_samples_leaf=5,\n",
    "     \n",
    "   min_samples_split=3, n_estimators=67, random_state=rnd_st, class_weight='balanced')\n",
    "   \n",
    " Его метрика f1 на валидационной выборке составила: 0.6298, а с порогом классификации в 0.521 - 0.6394"
   ]
  },
  {
   "cell_type": "markdown",
   "id": "0c186bab",
   "metadata": {},
   "source": [
    "## Проверка качества модели на тестовой выборке."
   ]
  },
  {
   "cell_type": "markdown",
   "id": "d57c29ec",
   "metadata": {},
   "source": [
    "Проверим на тестовой выборке финальную модель, обученную на объединении тренировочной и валидационной выборок."
   ]
  },
  {
   "cell_type": "code",
   "execution_count": 644,
   "id": "8a420211",
   "metadata": {
    "scrolled": true
   },
   "outputs": [
    {
     "name": "stdout",
     "output_type": "stream",
     "text": [
      "Показатели итоговой модели: accuracy=0.87, precision=0.67, recall=0.68, f1=0.676399\n"
     ]
    },
    {
     "data": {
      "image/png": "[encoded data removed]",
      "text/plain": [
       "<Figure size 432x288 with 2 Axes>"
      ]
     },
     "metadata": {
      "needs_background": "light"
     },
     "output_type": "display_data"
    }
   ],
   "source": [
    "model_final = RandomForestClassifier(criterion='entropy', max_depth=26, min_samples_leaf=5,\n",
    "                                    min_samples_split=3, n_estimators=67,\n",
    "                                    random_state=rnd_st, class_weight='balanced')\n",
    "\n",
    "X_full = pd.concat([X_prep_train, X_prep_valid], axis=0)\n",
    "y_full =  pd.concat([y_train, y_valid], axis=0)\n",
    "\n",
    "scores = score_dataset(X_full, X_prep_test, y_full, y_test, model_final)\n",
    "plot_confusion_matrix(model_final, X=X_prep_test, y_true=y_test, normalize=None, cmap='Blues')\n",
    "print(f'Показатели итоговой модели: accuracy={scores[0]:0.2}, precision={scores[1]:0.2}, \\\n",
    "recall={scores[2]:0.2}, f1={scores[3]:0.6}')"
   ]
  },
  {
   "cell_type": "markdown",
   "id": "a19d8ce3",
   "metadata": {},
   "source": [
    "Хороший результат, посмотрим на кривую ошибок."
   ]
  },
  {
   "cell_type": "code",
   "execution_count": 645,
   "id": "72dc4117",
   "metadata": {},
   "outputs": [
    {
     "data": {
      "image/png": "[encoded data removed]",
      "text/plain": [
       "<Figure size 432x432 with 1 Axes>"
      ]
     },
     "metadata": {
      "needs_background": "light"
     },
     "output_type": "display_data"
    },
    {
     "name": "stdout",
     "output_type": "stream",
     "text": [
      "AUC-score: 0.8861551606761138\n"
     ]
    }
   ],
   "source": [
    "plot_roc_auc(model_final, X_valid=X_prep_test, y_valid=y_test)"
   ]
  },
  {
   "cell_type": "markdown",
   "id": "aa355079",
   "metadata": {},
   "source": [
    "## Общий вывод:"
   ]
  },
  {
   "cell_type": "markdown",
   "id": "ea514956",
   "metadata": {},
   "source": [
    "В представленных нам данных содержались сведения о клиентах банка \"Бета-Банк\". На основании этих данных нам требовалось построить модель для задачи классификации, предсказывающeй уход клиента из банка. Метрикой качества было определена `f1`, для того чтоб заказчик принял работу, доля на тестовой выборке должна быть не меньше 0.59.\n",
    "\n",
    "Данные поступили в удволетворительном качестве. Названия столбцов приведены в соответствие с PEP8. Были обнаружены пропуски значений в признаке tenure, принято решение заменить пропуски на медианное значение по категории возраста клиента.\n",
    "\n",
    "Отметим, что доля положительных классов в целевом признаке - 20.4%. Присутствует незначительный дисбаланс класса.`\n",
    "\n",
    "Проверили две модели: \n",
    " * Логистическая регрессия (LogisticRegression\n",
    " * Случайный лес(RandomForestClassifier)\n",
    "\n",
    "Применены были 4 стратегии борьбы с несбалансированными классами:\n",
    "   - Применение параметра `class_weight='balanced'` при построении модели.\n",
    "   - Увеличение выборки (Upsampling)\n",
    "   - Уменьшение выборки (Downsampling)\n",
    "   - Изменения порога классификации (Change threshold)\n",
    "\n",
    "Более точной моделью стал `RandomForestClassifier` с параметрами: criterion='entropy', max_depth=26, min_samples_leaf=5,\n",
    "min_samples_split=3, n_estimators=67, random_state=rnd_st, class_weight='balanced', который дал метрику f1 в `0.6298` на валидационной и в `0.67703`3 на тестовой выборке."
   ]
  },
  {
   "cell_type": "markdown",
   "id": "d5a1b7ea",
   "metadata": {},
   "source": [
    "✽ ✾ ✿❁ ❃ ❋❀"
   ]
  }
 ],
 "metadata": {
  "ExecuteTimeLog": [
   {
    "duration": 2068,
    "start_time": "2022-05-09T19:00:23.588Z"
   },
   {
    "duration": 74,
    "start_time": "2022-05-09T19:00:25.658Z"
   },
   {
    "duration": 16,
    "start_time": "2022-05-09T19:00:25.733Z"
   },
   {
    "duration": 12,
    "start_time": "2022-05-09T19:00:25.751Z"
   },
   {
    "duration": 11,
    "start_time": "2022-05-09T19:00:25.765Z"
   },
   {
    "duration": 5,
    "start_time": "2022-05-09T19:00:25.777Z"
   },
   {
    "duration": 10,
    "start_time": "2022-05-09T19:00:25.784Z"
   },
   {
    "duration": 13,
    "start_time": "2022-05-09T19:00:25.796Z"
   },
   {
    "duration": 40,
    "start_time": "2022-05-09T19:00:25.810Z"
   },
   {
    "duration": 9,
    "start_time": "2022-05-09T19:00:25.852Z"
   },
   {
    "duration": 7,
    "start_time": "2022-05-09T19:00:25.863Z"
   },
   {
    "duration": 234,
    "start_time": "2022-05-09T19:00:25.871Z"
   },
   {
    "duration": 10,
    "start_time": "2022-05-09T19:00:26.106Z"
   },
   {
    "duration": 85,
    "start_time": "2022-05-09T19:00:26.117Z"
   },
   {
    "duration": 9,
    "start_time": "2022-05-09T19:00:26.204Z"
   },
   {
    "duration": 75,
    "start_time": "2022-05-09T19:00:26.214Z"
   },
   {
    "duration": 9,
    "start_time": "2022-05-09T19:00:26.291Z"
   },
   {
    "duration": 312,
    "start_time": "2022-05-09T19:00:26.301Z"
   },
   {
    "duration": 9,
    "start_time": "2022-05-09T19:00:26.615Z"
   },
   {
    "duration": 6,
    "start_time": "2022-05-09T19:00:26.625Z"
   },
   {
    "duration": 162,
    "start_time": "2022-05-09T19:00:26.648Z"
   },
   {
    "duration": 12,
    "start_time": "2022-05-09T19:00:26.812Z"
   },
   {
    "duration": 203,
    "start_time": "2022-05-09T19:00:26.826Z"
   },
   {
    "duration": 43,
    "start_time": "2022-05-09T19:00:27.031Z"
   },
   {
    "duration": 39,
    "start_time": "2022-05-09T19:00:27.075Z"
   },
   {
    "duration": 6,
    "start_time": "2022-05-09T19:00:27.116Z"
   },
   {
    "duration": 287,
    "start_time": "2022-05-09T19:00:27.123Z"
   },
   {
    "duration": 13,
    "start_time": "2022-05-09T19:00:27.414Z"
   },
   {
    "duration": 21,
    "start_time": "2022-05-09T19:00:27.428Z"
   },
   {
    "duration": 190,
    "start_time": "2022-05-09T19:00:27.450Z"
   },
   {
    "duration": 11,
    "start_time": "2022-05-09T19:00:27.642Z"
   },
   {
    "duration": 192,
    "start_time": "2022-05-09T19:00:27.655Z"
   },
   {
    "duration": 5,
    "start_time": "2022-05-09T19:00:27.849Z"
   },
   {
    "duration": 6,
    "start_time": "2022-05-09T19:00:27.856Z"
   },
   {
    "duration": 10,
    "start_time": "2022-05-09T19:00:27.864Z"
   },
   {
    "duration": 196,
    "start_time": "2022-05-09T19:00:27.875Z"
   },
   {
    "duration": 7,
    "start_time": "2022-05-09T19:00:28.073Z"
   },
   {
    "duration": 4,
    "start_time": "2022-05-09T19:00:28.082Z"
   },
   {
    "duration": 745,
    "start_time": "2022-05-09T19:00:28.087Z"
   },
   {
    "duration": 13,
    "start_time": "2022-05-09T19:00:28.834Z"
   },
   {
    "duration": 3,
    "start_time": "2022-05-09T19:00:28.849Z"
   },
   {
    "duration": 10,
    "start_time": "2022-05-09T19:00:28.854Z"
   },
   {
    "duration": 4,
    "start_time": "2022-05-09T19:00:28.866Z"
   },
   {
    "duration": 12,
    "start_time": "2022-05-09T19:00:28.872Z"
   },
   {
    "duration": 12,
    "start_time": "2022-05-09T19:00:28.885Z"
   },
   {
    "duration": 139,
    "start_time": "2022-05-09T19:00:28.898Z"
   },
   {
    "duration": 0,
    "start_time": "2022-05-09T19:00:29.039Z"
   },
   {
    "duration": 0,
    "start_time": "2022-05-09T19:00:29.040Z"
   },
   {
    "duration": 0,
    "start_time": "2022-05-09T19:00:29.041Z"
   },
   {
    "duration": 0,
    "start_time": "2022-05-09T19:00:29.041Z"
   },
   {
    "duration": 0,
    "start_time": "2022-05-09T19:00:29.047Z"
   },
   {
    "duration": 0,
    "start_time": "2022-05-09T19:00:29.048Z"
   },
   {
    "duration": 0,
    "start_time": "2022-05-09T19:00:29.049Z"
   },
   {
    "duration": 0,
    "start_time": "2022-05-09T19:00:29.050Z"
   },
   {
    "duration": 0,
    "start_time": "2022-05-09T19:00:29.051Z"
   },
   {
    "duration": 0,
    "start_time": "2022-05-09T19:00:29.051Z"
   },
   {
    "duration": 0,
    "start_time": "2022-05-09T19:00:29.052Z"
   },
   {
    "duration": 0,
    "start_time": "2022-05-09T19:00:29.053Z"
   },
   {
    "duration": 0,
    "start_time": "2022-05-09T19:00:29.054Z"
   },
   {
    "duration": 0,
    "start_time": "2022-05-09T19:00:29.055Z"
   },
   {
    "duration": 0,
    "start_time": "2022-05-09T19:00:29.056Z"
   },
   {
    "duration": 0,
    "start_time": "2022-05-09T19:00:29.057Z"
   },
   {
    "duration": 0,
    "start_time": "2022-05-09T19:00:29.058Z"
   },
   {
    "duration": 0,
    "start_time": "2022-05-09T19:00:29.059Z"
   },
   {
    "duration": 0,
    "start_time": "2022-05-09T19:00:29.060Z"
   },
   {
    "duration": 0,
    "start_time": "2022-05-09T19:00:29.061Z"
   },
   {
    "duration": 0,
    "start_time": "2022-05-09T19:00:29.062Z"
   },
   {
    "duration": 0,
    "start_time": "2022-05-09T19:00:29.063Z"
   },
   {
    "duration": 0,
    "start_time": "2022-05-09T19:00:29.065Z"
   },
   {
    "duration": 0,
    "start_time": "2022-05-09T19:00:29.066Z"
   },
   {
    "duration": 0,
    "start_time": "2022-05-09T19:00:29.066Z"
   },
   {
    "duration": 0,
    "start_time": "2022-05-09T19:00:29.067Z"
   },
   {
    "duration": 0,
    "start_time": "2022-05-09T19:00:29.069Z"
   },
   {
    "duration": 0,
    "start_time": "2022-05-09T19:00:29.070Z"
   },
   {
    "duration": 0,
    "start_time": "2022-05-09T19:00:29.071Z"
   },
   {
    "duration": 0,
    "start_time": "2022-05-09T19:00:29.072Z"
   },
   {
    "duration": 0,
    "start_time": "2022-05-09T19:00:29.072Z"
   },
   {
    "duration": 0,
    "start_time": "2022-05-09T19:00:29.073Z"
   },
   {
    "duration": 0,
    "start_time": "2022-05-09T19:00:29.074Z"
   },
   {
    "duration": 0,
    "start_time": "2022-05-09T19:00:29.075Z"
   },
   {
    "duration": 1633,
    "start_time": "2022-05-10T03:52:18.802Z"
   },
   {
    "duration": 100,
    "start_time": "2022-05-10T03:52:20.437Z"
   },
   {
    "duration": 16,
    "start_time": "2022-05-10T03:52:20.539Z"
   },
   {
    "duration": 12,
    "start_time": "2022-05-10T03:52:20.557Z"
   },
   {
    "duration": 12,
    "start_time": "2022-05-10T03:52:20.570Z"
   },
   {
    "duration": 5,
    "start_time": "2022-05-10T03:52:20.583Z"
   },
   {
    "duration": 9,
    "start_time": "2022-05-10T03:52:20.590Z"
   },
   {
    "duration": 16,
    "start_time": "2022-05-10T03:52:20.600Z"
   },
   {
    "duration": 13,
    "start_time": "2022-05-10T03:52:20.618Z"
   },
   {
    "duration": 8,
    "start_time": "2022-05-10T03:52:20.633Z"
   },
   {
    "duration": 7,
    "start_time": "2022-05-10T03:52:20.643Z"
   },
   {
    "duration": 233,
    "start_time": "2022-05-10T03:52:20.652Z"
   },
   {
    "duration": 11,
    "start_time": "2022-05-10T03:52:20.887Z"
   },
   {
    "duration": 76,
    "start_time": "2022-05-10T03:52:20.900Z"
   },
   {
    "duration": 9,
    "start_time": "2022-05-10T03:52:20.992Z"
   },
   {
    "duration": 69,
    "start_time": "2022-05-10T03:52:21.003Z"
   },
   {
    "duration": 25,
    "start_time": "2022-05-10T03:52:21.074Z"
   },
   {
    "duration": 325,
    "start_time": "2022-05-10T03:52:21.101Z"
   },
   {
    "duration": 9,
    "start_time": "2022-05-10T03:52:21.428Z"
   },
   {
    "duration": 6,
    "start_time": "2022-05-10T03:52:21.438Z"
   },
   {
    "duration": 185,
    "start_time": "2022-05-10T03:52:21.446Z"
   },
   {
    "duration": 14,
    "start_time": "2022-05-10T03:52:21.633Z"
   },
   {
    "duration": 210,
    "start_time": "2022-05-10T03:52:21.649Z"
   },
   {
    "duration": 50,
    "start_time": "2022-05-10T03:52:21.861Z"
   },
   {
    "duration": 28,
    "start_time": "2022-05-10T03:52:21.914Z"
   },
   {
    "duration": 6,
    "start_time": "2022-05-10T03:52:21.944Z"
   },
   {
    "duration": 207,
    "start_time": "2022-05-10T03:52:21.951Z"
   },
   {
    "duration": 12,
    "start_time": "2022-05-10T03:52:22.163Z"
   },
   {
    "duration": 20,
    "start_time": "2022-05-10T03:52:22.177Z"
   },
   {
    "duration": 196,
    "start_time": "2022-05-10T03:52:22.199Z"
   },
   {
    "duration": 9,
    "start_time": "2022-05-10T03:52:22.397Z"
   },
   {
    "duration": 205,
    "start_time": "2022-05-10T03:52:22.408Z"
   },
   {
    "duration": 7,
    "start_time": "2022-05-10T03:52:22.615Z"
   },
   {
    "duration": 11,
    "start_time": "2022-05-10T03:52:22.624Z"
   },
   {
    "duration": 11,
    "start_time": "2022-05-10T03:52:22.637Z"
   },
   {
    "duration": 208,
    "start_time": "2022-05-10T03:52:22.650Z"
   },
   {
    "duration": 9,
    "start_time": "2022-05-10T03:52:22.860Z"
   },
   {
    "duration": 23,
    "start_time": "2022-05-10T03:52:22.871Z"
   },
   {
    "duration": 743,
    "start_time": "2022-05-10T03:52:22.896Z"
   },
   {
    "duration": 7,
    "start_time": "2022-05-10T03:52:23.641Z"
   },
   {
    "duration": 6,
    "start_time": "2022-05-10T03:52:23.649Z"
   },
   {
    "duration": 10,
    "start_time": "2022-05-10T03:52:23.657Z"
   },
   {
    "duration": 25,
    "start_time": "2022-05-10T03:52:23.669Z"
   },
   {
    "duration": 11,
    "start_time": "2022-05-10T03:52:23.696Z"
   },
   {
    "duration": 13,
    "start_time": "2022-05-10T03:52:23.709Z"
   },
   {
    "duration": 110,
    "start_time": "2022-05-10T03:52:25.821Z"
   },
   {
    "duration": 9,
    "start_time": "2022-05-10T03:57:44.278Z"
   },
   {
    "duration": 3,
    "start_time": "2022-05-10T03:58:33.236Z"
   },
   {
    "duration": 4,
    "start_time": "2022-05-10T03:58:33.971Z"
   },
   {
    "duration": 16,
    "start_time": "2022-05-10T04:02:03.797Z"
   },
   {
    "duration": 3,
    "start_time": "2022-05-10T04:02:04.877Z"
   },
   {
    "duration": 3,
    "start_time": "2022-05-10T04:02:05.282Z"
   },
   {
    "duration": 13,
    "start_time": "2022-05-10T04:02:06.475Z"
   },
   {
    "duration": 5,
    "start_time": "2022-05-10T04:02:07.193Z"
   },
   {
    "duration": 4,
    "start_time": "2022-05-10T04:02:07.418Z"
   },
   {
    "duration": 5,
    "start_time": "2022-05-10T04:02:07.655Z"
   },
   {
    "duration": 3,
    "start_time": "2022-05-10T04:02:08.827Z"
   },
   {
    "duration": 6,
    "start_time": "2022-05-10T04:02:09.403Z"
   },
   {
    "duration": 5424,
    "start_time": "2022-05-10T04:02:10.392Z"
   },
   {
    "duration": 4,
    "start_time": "2022-05-10T04:02:15.818Z"
   },
   {
    "duration": 388,
    "start_time": "2022-05-10T04:02:15.824Z"
   },
   {
    "duration": 370,
    "start_time": "2022-05-10T04:02:16.214Z"
   },
   {
    "duration": 5920,
    "start_time": "2022-05-10T04:02:16.586Z"
   },
   {
    "duration": 5,
    "start_time": "2022-05-10T04:02:22.507Z"
   },
   {
    "duration": 617,
    "start_time": "2022-05-10T04:02:22.514Z"
   },
   {
    "duration": 150,
    "start_time": "2022-05-10T04:02:23.133Z"
   },
   {
    "duration": 3,
    "start_time": "2022-05-10T04:02:23.292Z"
   },
   {
    "duration": 6,
    "start_time": "2022-05-10T04:02:23.299Z"
   },
   {
    "duration": 16,
    "start_time": "2022-05-10T04:52:59.342Z"
   },
   {
    "duration": 2,
    "start_time": "2022-05-10T04:52:59.701Z"
   },
   {
    "duration": 4,
    "start_time": "2022-05-10T04:52:59.969Z"
   },
   {
    "duration": 12,
    "start_time": "2022-05-10T04:53:01.401Z"
   },
   {
    "duration": 5,
    "start_time": "2022-05-10T04:53:02.137Z"
   },
   {
    "duration": 4,
    "start_time": "2022-05-10T04:53:02.592Z"
   },
   {
    "duration": 5,
    "start_time": "2022-05-10T04:53:03.222Z"
   },
   {
    "duration": 4,
    "start_time": "2022-05-10T04:53:05.499Z"
   },
   {
    "duration": 5,
    "start_time": "2022-05-10T04:53:06.480Z"
   },
   {
    "duration": 5402,
    "start_time": "2022-05-10T04:53:08.111Z"
   },
   {
    "duration": 5,
    "start_time": "2022-05-10T04:53:13.516Z"
   },
   {
    "duration": 392,
    "start_time": "2022-05-10T04:53:13.523Z"
   },
   {
    "duration": 264,
    "start_time": "2022-05-10T04:53:16.835Z"
   },
   {
    "duration": 5982,
    "start_time": "2022-05-10T04:53:18.890Z"
   },
   {
    "duration": 6,
    "start_time": "2022-05-10T04:53:29.594Z"
   },
   {
    "duration": 707,
    "start_time": "2022-05-10T04:53:33.041Z"
   },
   {
    "duration": 143,
    "start_time": "2022-05-10T04:53:37.696Z"
   },
   {
    "duration": 4,
    "start_time": "2022-05-10T04:53:40.481Z"
   },
   {
    "duration": 2,
    "start_time": "2022-05-10T04:53:41.522Z"
   },
   {
    "duration": 363,
    "start_time": "2022-05-10T04:53:43.444Z"
   },
   {
    "duration": 271,
    "start_time": "2022-05-10T04:53:46.426Z"
   },
   {
    "duration": 636,
    "start_time": "2022-05-10T04:53:49.552Z"
   },
   {
    "duration": 135,
    "start_time": "2022-05-10T04:53:52.100Z"
   },
   {
    "duration": 4,
    "start_time": "2022-05-10T04:53:55.029Z"
   },
   {
    "duration": 4,
    "start_time": "2022-05-10T04:53:55.334Z"
   },
   {
    "duration": 11,
    "start_time": "2022-05-10T04:53:55.538Z"
   },
   {
    "duration": 6,
    "start_time": "2022-05-10T04:53:55.839Z"
   },
   {
    "duration": 402,
    "start_time": "2022-05-10T04:53:56.575Z"
   },
   {
    "duration": 951,
    "start_time": "2022-05-10T04:53:57.612Z"
   },
   {
    "duration": 10,
    "start_time": "2022-05-10T04:53:59.328Z"
   },
   {
    "duration": 6,
    "start_time": "2022-05-10T04:53:59.661Z"
   },
   {
    "duration": 342,
    "start_time": "2022-05-10T04:54:00.469Z"
   },
   {
    "duration": 381,
    "start_time": "2022-05-10T04:54:01.656Z"
   },
   {
    "duration": 492,
    "start_time": "2022-05-10T04:54:03.507Z"
   },
   {
    "duration": 179,
    "start_time": "2022-05-10T04:54:04.530Z"
   },
   {
    "duration": 757,
    "start_time": "2022-05-10T04:54:06.451Z"
   },
   {
    "duration": 151,
    "start_time": "2022-05-10T04:54:07.211Z"
   },
   {
    "duration": 4,
    "start_time": "2022-05-10T05:00:39.568Z"
   },
   {
    "duration": 4,
    "start_time": "2022-05-10T05:03:54.667Z"
   },
   {
    "duration": 15,
    "start_time": "2022-05-10T05:03:58.321Z"
   },
   {
    "duration": 3,
    "start_time": "2022-05-10T05:03:59.476Z"
   },
   {
    "duration": 12,
    "start_time": "2022-05-10T05:04:00.758Z"
   },
   {
    "duration": 4,
    "start_time": "2022-05-10T05:04:01.266Z"
   },
   {
    "duration": 4,
    "start_time": "2022-05-10T05:04:01.508Z"
   },
   {
    "duration": 5,
    "start_time": "2022-05-10T05:04:01.748Z"
   },
   {
    "duration": 3,
    "start_time": "2022-05-10T05:04:02.660Z"
   },
   {
    "duration": 5,
    "start_time": "2022-05-10T05:04:03.492Z"
   },
   {
    "duration": 5403,
    "start_time": "2022-05-10T05:04:04.310Z"
   },
   {
    "duration": 5,
    "start_time": "2022-05-10T05:04:09.715Z"
   },
   {
    "duration": 391,
    "start_time": "2022-05-10T05:04:09.722Z"
   },
   {
    "duration": 267,
    "start_time": "2022-05-10T05:04:10.115Z"
   },
   {
    "duration": 5907,
    "start_time": "2022-05-10T05:04:10.393Z"
   },
   {
    "duration": 4,
    "start_time": "2022-05-10T05:04:16.301Z"
   },
   {
    "duration": 602,
    "start_time": "2022-05-10T05:04:16.307Z"
   },
   {
    "duration": 144,
    "start_time": "2022-05-10T05:04:16.910Z"
   },
   {
    "duration": 4,
    "start_time": "2022-05-10T05:04:17.055Z"
   },
   {
    "duration": 13,
    "start_time": "2022-05-10T05:04:17.061Z"
   },
   {
    "duration": 435,
    "start_time": "2022-05-10T05:04:17.075Z"
   },
   {
    "duration": 381,
    "start_time": "2022-05-10T05:04:17.512Z"
   },
   {
    "duration": 613,
    "start_time": "2022-05-10T05:04:17.895Z"
   },
   {
    "duration": 149,
    "start_time": "2022-05-10T05:04:18.510Z"
   },
   {
    "duration": 4,
    "start_time": "2022-05-10T05:04:18.660Z"
   },
   {
    "duration": 8,
    "start_time": "2022-05-10T05:04:18.665Z"
   },
   {
    "duration": 27,
    "start_time": "2022-05-10T05:04:18.674Z"
   },
   {
    "duration": 5,
    "start_time": "2022-05-10T05:04:18.703Z"
   },
   {
    "duration": 393,
    "start_time": "2022-05-10T05:04:18.709Z"
   },
   {
    "duration": 872,
    "start_time": "2022-05-10T05:04:19.103Z"
   },
   {
    "duration": 19,
    "start_time": "2022-05-10T05:04:19.977Z"
   },
   {
    "duration": 5,
    "start_time": "2022-05-10T05:04:19.997Z"
   },
   {
    "duration": 402,
    "start_time": "2022-05-10T05:04:20.004Z"
   },
   {
    "duration": 383,
    "start_time": "2022-05-10T05:04:20.407Z"
   },
   {
    "duration": 500,
    "start_time": "2022-05-10T05:04:20.793Z"
   },
   {
    "duration": 184,
    "start_time": "2022-05-10T05:04:21.295Z"
   },
   {
    "duration": 848,
    "start_time": "2022-05-10T05:04:22.245Z"
   },
   {
    "duration": 147,
    "start_time": "2022-05-10T05:04:23.645Z"
   },
   {
    "duration": 17,
    "start_time": "2022-05-10T05:06:34.291Z"
   },
   {
    "duration": 5,
    "start_time": "2022-05-10T05:06:42.241Z"
   },
   {
    "duration": 101,
    "start_time": "2022-05-10T05:06:42.248Z"
   },
   {
    "duration": 15,
    "start_time": "2022-05-10T05:06:42.351Z"
   },
   {
    "duration": 16,
    "start_time": "2022-05-10T05:06:42.369Z"
   },
   {
    "duration": 14,
    "start_time": "2022-05-10T05:06:42.387Z"
   },
   {
    "duration": 6,
    "start_time": "2022-05-10T05:06:42.403Z"
   },
   {
    "duration": 8,
    "start_time": "2022-05-10T05:06:42.411Z"
   },
   {
    "duration": 14,
    "start_time": "2022-05-10T05:06:42.420Z"
   },
   {
    "duration": 11,
    "start_time": "2022-05-10T05:06:42.436Z"
   },
   {
    "duration": 45,
    "start_time": "2022-05-10T05:06:42.448Z"
   },
   {
    "duration": 8,
    "start_time": "2022-05-10T05:06:42.495Z"
   },
   {
    "duration": 233,
    "start_time": "2022-05-10T05:06:42.504Z"
   },
   {
    "duration": 10,
    "start_time": "2022-05-10T05:06:42.739Z"
   },
   {
    "duration": 185,
    "start_time": "2022-05-10T05:06:42.750Z"
   },
   {
    "duration": 9,
    "start_time": "2022-05-10T05:06:42.936Z"
   },
   {
    "duration": 77,
    "start_time": "2022-05-10T05:06:42.947Z"
   },
   {
    "duration": 8,
    "start_time": "2022-05-10T05:06:43.025Z"
   },
   {
    "duration": 244,
    "start_time": "2022-05-10T05:06:43.034Z"
   },
   {
    "duration": 17,
    "start_time": "2022-05-10T05:06:43.279Z"
   },
   {
    "duration": 6,
    "start_time": "2022-05-10T05:06:43.297Z"
   },
   {
    "duration": 174,
    "start_time": "2022-05-10T05:06:43.304Z"
   },
   {
    "duration": 21,
    "start_time": "2022-05-10T05:06:43.480Z"
   },
   {
    "duration": 198,
    "start_time": "2022-05-10T05:06:43.502Z"
   },
   {
    "duration": 38,
    "start_time": "2022-05-10T05:06:43.704Z"
   },
   {
    "duration": 28,
    "start_time": "2022-05-10T05:06:43.743Z"
   },
   {
    "duration": 24,
    "start_time": "2022-05-10T05:06:43.772Z"
   },
   {
    "duration": 238,
    "start_time": "2022-05-10T05:06:43.798Z"
   },
   {
    "duration": 13,
    "start_time": "2022-05-10T05:06:44.038Z"
   },
   {
    "duration": 8,
    "start_time": "2022-05-10T05:06:44.052Z"
   },
   {
    "duration": 201,
    "start_time": "2022-05-10T05:06:44.061Z"
   },
   {
    "duration": 8,
    "start_time": "2022-05-10T05:06:44.263Z"
   },
   {
    "duration": 216,
    "start_time": "2022-05-10T05:06:44.273Z"
   },
   {
    "duration": 6,
    "start_time": "2022-05-10T05:06:44.492Z"
   },
   {
    "duration": 7,
    "start_time": "2022-05-10T05:06:44.500Z"
   },
   {
    "duration": 11,
    "start_time": "2022-05-10T05:06:44.508Z"
   },
   {
    "duration": 212,
    "start_time": "2022-05-10T05:06:44.521Z"
   },
   {
    "duration": 8,
    "start_time": "2022-05-10T05:06:44.735Z"
   },
   {
    "duration": 3,
    "start_time": "2022-05-10T05:06:44.745Z"
   },
   {
    "duration": 865,
    "start_time": "2022-05-10T05:06:44.750Z"
   },
   {
    "duration": 6,
    "start_time": "2022-05-10T05:06:45.616Z"
   },
   {
    "duration": 4,
    "start_time": "2022-05-10T05:06:45.624Z"
   },
   {
    "duration": 12,
    "start_time": "2022-05-10T05:06:45.630Z"
   },
   {
    "duration": 3,
    "start_time": "2022-05-10T05:06:45.644Z"
   },
   {
    "duration": 11,
    "start_time": "2022-05-10T05:06:45.649Z"
   },
   {
    "duration": 34,
    "start_time": "2022-05-10T05:06:45.661Z"
   },
   {
    "duration": 16,
    "start_time": "2022-05-10T05:06:45.696Z"
   },
   {
    "duration": 4,
    "start_time": "2022-05-10T05:06:45.713Z"
   },
   {
    "duration": 14,
    "start_time": "2022-05-10T05:06:45.718Z"
   },
   {
    "duration": 16,
    "start_time": "2022-05-10T05:06:45.734Z"
   },
   {
    "duration": 9,
    "start_time": "2022-05-10T05:06:45.752Z"
   },
   {
    "duration": 9,
    "start_time": "2022-05-10T05:06:45.763Z"
   },
   {
    "duration": 9,
    "start_time": "2022-05-10T05:06:45.774Z"
   },
   {
    "duration": 5,
    "start_time": "2022-05-10T05:06:45.793Z"
   },
   {
    "duration": 5414,
    "start_time": "2022-05-10T05:06:45.799Z"
   },
   {
    "duration": 4,
    "start_time": "2022-05-10T05:06:51.215Z"
   },
   {
    "duration": 390,
    "start_time": "2022-05-10T05:06:51.221Z"
   },
   {
    "duration": 284,
    "start_time": "2022-05-10T05:06:51.613Z"
   },
   {
    "duration": 8573,
    "start_time": "2022-05-10T05:06:51.898Z"
   },
   {
    "duration": 5,
    "start_time": "2022-05-10T05:07:00.472Z"
   },
   {
    "duration": 629,
    "start_time": "2022-05-10T05:07:00.479Z"
   },
   {
    "duration": 151,
    "start_time": "2022-05-10T05:07:01.110Z"
   },
   {
    "duration": 4,
    "start_time": "2022-05-10T05:07:01.262Z"
   },
   {
    "duration": 18,
    "start_time": "2022-05-10T05:07:01.267Z"
   },
   {
    "duration": 398,
    "start_time": "2022-05-10T05:07:01.287Z"
   },
   {
    "duration": 314,
    "start_time": "2022-05-10T05:07:01.691Z"
   },
   {
    "duration": 625,
    "start_time": "2022-05-10T05:07:02.006Z"
   },
   {
    "duration": 150,
    "start_time": "2022-05-10T05:07:02.633Z"
   },
   {
    "duration": 9,
    "start_time": "2022-05-10T05:07:02.785Z"
   },
   {
    "duration": 12,
    "start_time": "2022-05-10T05:07:02.799Z"
   },
   {
    "duration": 10,
    "start_time": "2022-05-10T05:07:02.813Z"
   },
   {
    "duration": 5,
    "start_time": "2022-05-10T05:07:02.825Z"
   },
   {
    "duration": 372,
    "start_time": "2022-05-10T05:07:02.832Z"
   },
   {
    "duration": 845,
    "start_time": "2022-05-10T05:07:03.206Z"
   },
   {
    "duration": 11,
    "start_time": "2022-05-10T05:07:04.052Z"
   },
   {
    "duration": 21,
    "start_time": "2022-05-10T05:07:04.065Z"
   },
   {
    "duration": 332,
    "start_time": "2022-05-10T05:07:04.087Z"
   },
   {
    "duration": 486,
    "start_time": "2022-05-10T05:07:04.421Z"
   },
   {
    "duration": 490,
    "start_time": "2022-05-10T05:07:04.909Z"
   },
   {
    "duration": 188,
    "start_time": "2022-05-10T05:07:05.401Z"
   },
   {
    "duration": 766,
    "start_time": "2022-05-10T05:07:05.593Z"
   },
   {
    "duration": 147,
    "start_time": "2022-05-10T05:07:06.361Z"
   },
   {
    "duration": 170,
    "start_time": "2022-05-10T12:09:04.966Z"
   },
   {
    "duration": 1284,
    "start_time": "2022-05-10T12:09:15.188Z"
   },
   {
    "duration": 2770,
    "start_time": "2022-05-10T12:13:43.402Z"
   },
   {
    "duration": 99,
    "start_time": "2022-05-10T12:13:46.174Z"
   },
   {
    "duration": 20,
    "start_time": "2022-05-10T12:13:46.275Z"
   },
   {
    "duration": 70,
    "start_time": "2022-05-10T12:13:46.297Z"
   },
   {
    "duration": 14,
    "start_time": "2022-05-10T12:13:46.370Z"
   },
   {
    "duration": 70,
    "start_time": "2022-05-10T12:13:46.386Z"
   },
   {
    "duration": 13,
    "start_time": "2022-05-10T12:13:46.458Z"
   },
   {
    "duration": 82,
    "start_time": "2022-05-10T12:13:46.474Z"
   },
   {
    "duration": 15,
    "start_time": "2022-05-10T12:13:46.558Z"
   },
   {
    "duration": 12,
    "start_time": "2022-05-10T12:13:46.575Z"
   },
   {
    "duration": 73,
    "start_time": "2022-05-10T12:13:46.589Z"
   },
   {
    "duration": 506,
    "start_time": "2022-05-10T12:13:46.663Z"
   },
   {
    "duration": 10,
    "start_time": "2022-05-10T12:13:47.171Z"
   },
   {
    "duration": 191,
    "start_time": "2022-05-10T12:13:47.184Z"
   },
   {
    "duration": 11,
    "start_time": "2022-05-10T12:13:47.376Z"
   },
   {
    "duration": 185,
    "start_time": "2022-05-10T12:13:47.388Z"
   },
   {
    "duration": 8,
    "start_time": "2022-05-10T12:13:47.575Z"
   },
   {
    "duration": 702,
    "start_time": "2022-05-10T12:13:47.585Z"
   },
   {
    "duration": 68,
    "start_time": "2022-05-10T12:13:48.289Z"
   },
   {
    "duration": 7,
    "start_time": "2022-05-10T12:13:48.359Z"
   },
   {
    "duration": 526,
    "start_time": "2022-05-10T12:13:48.368Z"
   },
   {
    "duration": 74,
    "start_time": "2022-05-10T12:13:48.896Z"
   },
   {
    "duration": 603,
    "start_time": "2022-05-10T12:13:48.972Z"
   },
   {
    "duration": 99,
    "start_time": "2022-05-10T12:13:49.577Z"
   },
   {
    "duration": 89,
    "start_time": "2022-05-10T12:13:49.678Z"
   },
   {
    "duration": 6,
    "start_time": "2022-05-10T12:13:49.769Z"
   },
   {
    "duration": 689,
    "start_time": "2022-05-10T12:13:49.776Z"
   },
   {
    "duration": 15,
    "start_time": "2022-05-10T12:13:50.468Z"
   },
   {
    "duration": 73,
    "start_time": "2022-05-10T12:13:50.485Z"
   },
   {
    "duration": 417,
    "start_time": "2022-05-10T12:13:50.560Z"
   },
   {
    "duration": 11,
    "start_time": "2022-05-10T12:13:50.980Z"
   },
   {
    "duration": 1166,
    "start_time": "2022-05-10T12:13:50.993Z"
   },
   {
    "duration": 8,
    "start_time": "2022-05-10T12:13:52.162Z"
   },
   {
    "duration": 9,
    "start_time": "2022-05-10T12:13:52.172Z"
   },
   {
    "duration": 79,
    "start_time": "2022-05-10T12:13:52.183Z"
   },
   {
    "duration": 501,
    "start_time": "2022-05-10T12:13:52.265Z"
   },
   {
    "duration": 12,
    "start_time": "2022-05-10T12:13:52.769Z"
   },
   {
    "duration": 72,
    "start_time": "2022-05-10T12:13:52.784Z"
   },
   {
    "duration": 2104,
    "start_time": "2022-05-10T12:13:52.859Z"
   },
   {
    "duration": 6,
    "start_time": "2022-05-10T12:13:54.965Z"
   },
   {
    "duration": 77,
    "start_time": "2022-05-10T12:13:54.979Z"
   },
   {
    "duration": 46,
    "start_time": "2022-05-10T12:13:55.059Z"
   },
   {
    "duration": 50,
    "start_time": "2022-05-10T12:13:55.109Z"
   },
   {
    "duration": 306,
    "start_time": "2022-05-10T12:13:55.161Z"
   },
   {
    "duration": 122,
    "start_time": "2022-05-10T12:13:55.469Z"
   },
   {
    "duration": 78,
    "start_time": "2022-05-10T12:13:55.593Z"
   },
   {
    "duration": 81,
    "start_time": "2022-05-10T12:13:55.673Z"
   },
   {
    "duration": 16,
    "start_time": "2022-05-10T12:13:55.757Z"
   },
   {
    "duration": 80,
    "start_time": "2022-05-10T12:13:55.775Z"
   },
   {
    "duration": 34,
    "start_time": "2022-05-10T12:13:55.857Z"
   },
   {
    "duration": 64,
    "start_time": "2022-05-10T12:13:55.893Z"
   },
   {
    "duration": 40,
    "start_time": "2022-05-10T12:13:55.959Z"
   },
   {
    "duration": 54,
    "start_time": "2022-05-10T12:13:56.001Z"
   },
   {
    "duration": 6318,
    "start_time": "2022-05-10T12:13:56.057Z"
   },
   {
    "duration": 6,
    "start_time": "2022-05-10T12:14:02.377Z"
   },
   {
    "duration": 1001,
    "start_time": "2022-05-10T12:14:02.385Z"
   },
   {
    "duration": 890,
    "start_time": "2022-05-10T12:14:03.389Z"
   },
   {
    "duration": 8582,
    "start_time": "2022-05-10T12:14:04.281Z"
   },
   {
    "duration": 7,
    "start_time": "2022-05-10T12:14:12.866Z"
   },
   {
    "duration": 688,
    "start_time": "2022-05-10T12:14:12.875Z"
   },
   {
    "duration": 169,
    "start_time": "2022-05-10T12:14:13.565Z"
   },
   {
    "duration": 4,
    "start_time": "2022-05-10T12:14:13.736Z"
   },
   {
    "duration": 14,
    "start_time": "2022-05-10T12:14:13.742Z"
   },
   {
    "duration": 510,
    "start_time": "2022-05-10T12:14:13.759Z"
   },
   {
    "duration": 363,
    "start_time": "2022-05-10T12:14:14.272Z"
   },
   {
    "duration": 1068,
    "start_time": "2022-05-10T12:14:14.638Z"
   },
   {
    "duration": 178,
    "start_time": "2022-05-10T12:14:15.708Z"
   },
   {
    "duration": 4,
    "start_time": "2022-05-10T12:14:15.888Z"
   },
   {
    "duration": 23,
    "start_time": "2022-05-10T12:14:15.894Z"
   },
   {
    "duration": 40,
    "start_time": "2022-05-10T12:14:15.919Z"
   },
   {
    "duration": 27,
    "start_time": "2022-05-10T12:14:15.961Z"
   },
   {
    "duration": 385,
    "start_time": "2022-05-10T12:14:15.990Z"
   },
   {
    "duration": 976,
    "start_time": "2022-05-10T12:14:16.376Z"
   },
   {
    "duration": 15,
    "start_time": "2022-05-10T12:14:17.355Z"
   },
   {
    "duration": 7,
    "start_time": "2022-05-10T12:14:17.372Z"
   },
   {
    "duration": 447,
    "start_time": "2022-05-10T12:14:17.382Z"
   },
   {
    "duration": 650,
    "start_time": "2022-05-10T12:14:17.832Z"
   },
   {
    "duration": 494,
    "start_time": "2022-05-10T12:14:18.485Z"
   },
   {
    "duration": 328,
    "start_time": "2022-05-10T12:14:18.981Z"
   },
   {
    "duration": 1225,
    "start_time": "2022-05-10T12:14:19.311Z"
   },
   {
    "duration": 225,
    "start_time": "2022-05-10T12:14:20.544Z"
   },
   {
    "duration": 1820,
    "start_time": "2022-05-10T20:45:32.836Z"
   },
   {
    "duration": 128,
    "start_time": "2022-05-10T20:45:34.658Z"
   },
   {
    "duration": 17,
    "start_time": "2022-05-10T20:45:34.788Z"
   },
   {
    "duration": 14,
    "start_time": "2022-05-10T20:45:34.807Z"
   },
   {
    "duration": 13,
    "start_time": "2022-05-10T20:45:34.822Z"
   },
   {
    "duration": 6,
    "start_time": "2022-05-10T20:45:34.837Z"
   },
   {
    "duration": 10,
    "start_time": "2022-05-10T20:45:34.845Z"
   },
   {
    "duration": 15,
    "start_time": "2022-05-10T20:45:34.857Z"
   },
   {
    "duration": 18,
    "start_time": "2022-05-10T20:45:34.875Z"
   },
   {
    "duration": 45,
    "start_time": "2022-05-10T20:45:34.897Z"
   },
   {
    "duration": 14,
    "start_time": "2022-05-10T20:45:34.944Z"
   },
   {
    "duration": 271,
    "start_time": "2022-05-10T20:45:34.960Z"
   },
   {
    "duration": 10,
    "start_time": "2022-05-10T20:45:35.234Z"
   },
   {
    "duration": 109,
    "start_time": "2022-05-10T20:45:35.246Z"
   },
   {
    "duration": 11,
    "start_time": "2022-05-10T20:45:35.357Z"
   },
   {
    "duration": 111,
    "start_time": "2022-05-10T20:45:35.370Z"
   },
   {
    "duration": 8,
    "start_time": "2022-05-10T20:45:35.484Z"
   },
   {
    "duration": 444,
    "start_time": "2022-05-10T20:45:35.493Z"
   },
   {
    "duration": 11,
    "start_time": "2022-05-10T20:45:35.939Z"
   },
   {
    "duration": 7,
    "start_time": "2022-05-10T20:45:35.953Z"
   },
   {
    "duration": 247,
    "start_time": "2022-05-10T20:45:35.962Z"
   },
   {
    "duration": 31,
    "start_time": "2022-05-10T20:45:36.212Z"
   },
   {
    "duration": 291,
    "start_time": "2022-05-10T20:45:36.245Z"
   },
   {
    "duration": 56,
    "start_time": "2022-05-10T20:45:36.538Z"
   },
   {
    "duration": 51,
    "start_time": "2022-05-10T20:45:36.597Z"
   },
   {
    "duration": 6,
    "start_time": "2022-05-10T20:45:36.650Z"
   },
   {
    "duration": 268,
    "start_time": "2022-05-10T20:45:36.659Z"
   },
   {
    "duration": 15,
    "start_time": "2022-05-10T20:45:36.930Z"
   },
   {
    "duration": 11,
    "start_time": "2022-05-10T20:45:36.948Z"
   },
   {
    "duration": 250,
    "start_time": "2022-05-10T20:45:36.962Z"
   },
   {
    "duration": 20,
    "start_time": "2022-05-10T20:45:37.214Z"
   },
   {
    "duration": 247,
    "start_time": "2022-05-10T20:45:37.236Z"
   },
   {
    "duration": 5,
    "start_time": "2022-05-10T20:45:37.485Z"
   },
   {
    "duration": 11,
    "start_time": "2022-05-10T20:45:37.492Z"
   },
   {
    "duration": 33,
    "start_time": "2022-05-10T20:45:37.505Z"
   },
   {
    "duration": 248,
    "start_time": "2022-05-10T20:45:37.541Z"
   },
   {
    "duration": 10,
    "start_time": "2022-05-10T20:45:37.790Z"
   },
   {
    "duration": 4,
    "start_time": "2022-05-10T20:45:37.802Z"
   },
   {
    "duration": 913,
    "start_time": "2022-05-10T20:45:37.808Z"
   },
   {
    "duration": 13,
    "start_time": "2022-05-10T20:45:38.723Z"
   },
   {
    "duration": 7,
    "start_time": "2022-05-10T20:45:38.738Z"
   },
   {
    "duration": 11,
    "start_time": "2022-05-10T20:45:38.746Z"
   },
   {
    "duration": 5,
    "start_time": "2022-05-10T20:45:38.759Z"
   },
   {
    "duration": 17,
    "start_time": "2022-05-10T20:45:38.766Z"
   },
   {
    "duration": 16,
    "start_time": "2022-05-10T20:45:38.785Z"
   },
   {
    "duration": 17,
    "start_time": "2022-05-10T20:45:38.834Z"
   },
   {
    "duration": 4,
    "start_time": "2022-05-10T20:45:38.853Z"
   },
   {
    "duration": 122,
    "start_time": "2022-05-10T20:48:29.925Z"
   },
   {
    "duration": 5,
    "start_time": "2022-05-10T20:48:35.384Z"
   },
   {
    "duration": 113,
    "start_time": "2022-05-10T20:48:35.391Z"
   },
   {
    "duration": 14,
    "start_time": "2022-05-10T20:48:35.506Z"
   },
   {
    "duration": 19,
    "start_time": "2022-05-10T20:48:35.522Z"
   },
   {
    "duration": 12,
    "start_time": "2022-05-10T20:48:35.543Z"
   },
   {
    "duration": 6,
    "start_time": "2022-05-10T20:48:35.557Z"
   },
   {
    "duration": 13,
    "start_time": "2022-05-10T20:48:35.564Z"
   },
   {
    "duration": 19,
    "start_time": "2022-05-10T20:48:35.579Z"
   },
   {
    "duration": 43,
    "start_time": "2022-05-10T20:48:35.601Z"
   },
   {
    "duration": 9,
    "start_time": "2022-05-10T20:48:35.646Z"
   },
   {
    "duration": 8,
    "start_time": "2022-05-10T20:48:35.658Z"
   },
   {
    "duration": 257,
    "start_time": "2022-05-10T20:48:35.668Z"
   },
   {
    "duration": 11,
    "start_time": "2022-05-10T20:48:35.927Z"
   },
   {
    "duration": 213,
    "start_time": "2022-05-10T20:48:35.940Z"
   },
   {
    "duration": 10,
    "start_time": "2022-05-10T20:48:36.155Z"
   },
   {
    "duration": 101,
    "start_time": "2022-05-10T20:48:36.166Z"
   },
   {
    "duration": 8,
    "start_time": "2022-05-10T20:48:36.269Z"
   },
   {
    "duration": 314,
    "start_time": "2022-05-10T20:48:36.279Z"
   },
   {
    "duration": 10,
    "start_time": "2022-05-10T20:48:36.595Z"
   },
   {
    "duration": 8,
    "start_time": "2022-05-10T20:48:36.606Z"
   },
   {
    "duration": 214,
    "start_time": "2022-05-10T20:48:36.635Z"
   },
   {
    "duration": 15,
    "start_time": "2022-05-10T20:48:36.851Z"
   },
   {
    "duration": 243,
    "start_time": "2022-05-10T20:48:36.868Z"
   },
   {
    "duration": 47,
    "start_time": "2022-05-10T20:48:37.113Z"
   },
   {
    "duration": 33,
    "start_time": "2022-05-10T20:48:37.162Z"
   },
   {
    "duration": 5,
    "start_time": "2022-05-10T20:48:37.197Z"
   },
   {
    "duration": 245,
    "start_time": "2022-05-10T20:48:37.204Z"
   },
   {
    "duration": 14,
    "start_time": "2022-05-10T20:48:37.451Z"
   },
   {
    "duration": 9,
    "start_time": "2022-05-10T20:48:37.469Z"
   },
   {
    "duration": 248,
    "start_time": "2022-05-10T20:48:37.479Z"
   },
   {
    "duration": 9,
    "start_time": "2022-05-10T20:48:37.733Z"
   },
   {
    "duration": 230,
    "start_time": "2022-05-10T20:48:37.744Z"
   },
   {
    "duration": 6,
    "start_time": "2022-05-10T20:48:37.976Z"
   },
   {
    "duration": 8,
    "start_time": "2022-05-10T20:48:37.983Z"
   },
   {
    "duration": 11,
    "start_time": "2022-05-10T20:48:37.993Z"
   },
   {
    "duration": 256,
    "start_time": "2022-05-10T20:48:38.006Z"
   },
   {
    "duration": 9,
    "start_time": "2022-05-10T20:48:38.264Z"
   },
   {
    "duration": 4,
    "start_time": "2022-05-10T20:48:38.275Z"
   },
   {
    "duration": 1019,
    "start_time": "2022-05-10T20:48:38.281Z"
   },
   {
    "duration": 5,
    "start_time": "2022-05-10T20:48:39.301Z"
   },
   {
    "duration": 7,
    "start_time": "2022-05-10T20:48:39.308Z"
   },
   {
    "duration": 22,
    "start_time": "2022-05-10T20:48:39.317Z"
   },
   {
    "duration": 4,
    "start_time": "2022-05-10T20:48:39.341Z"
   },
   {
    "duration": 13,
    "start_time": "2022-05-10T20:48:39.347Z"
   },
   {
    "duration": 15,
    "start_time": "2022-05-10T20:48:39.362Z"
   },
   {
    "duration": 18,
    "start_time": "2022-05-10T20:48:39.380Z"
   },
   {
    "duration": 33,
    "start_time": "2022-05-10T20:48:39.400Z"
   },
   {
    "duration": 15,
    "start_time": "2022-05-10T20:48:39.436Z"
   },
   {
    "duration": 12,
    "start_time": "2022-05-10T20:48:42.571Z"
   },
   {
    "duration": 17,
    "start_time": "2022-05-10T20:48:51.165Z"
   },
   {
    "duration": 20,
    "start_time": "2022-05-10T20:49:00.082Z"
   },
   {
    "duration": 19,
    "start_time": "2022-05-10T20:50:01.019Z"
   },
   {
    "duration": 25,
    "start_time": "2022-05-10T20:50:12.918Z"
   },
   {
    "duration": 5,
    "start_time": "2022-05-10T20:50:45.331Z"
   },
   {
    "duration": 108,
    "start_time": "2022-05-10T20:50:45.337Z"
   },
   {
    "duration": 14,
    "start_time": "2022-05-10T20:50:45.447Z"
   },
   {
    "duration": 17,
    "start_time": "2022-05-10T20:50:45.462Z"
   },
   {
    "duration": 13,
    "start_time": "2022-05-10T20:50:45.481Z"
   },
   {
    "duration": 39,
    "start_time": "2022-05-10T20:50:45.496Z"
   },
   {
    "duration": 8,
    "start_time": "2022-05-10T20:50:45.537Z"
   },
   {
    "duration": 18,
    "start_time": "2022-05-10T20:50:45.546Z"
   },
   {
    "duration": 12,
    "start_time": "2022-05-10T20:50:45.565Z"
   },
   {
    "duration": 55,
    "start_time": "2022-05-10T20:50:45.579Z"
   },
   {
    "duration": 8,
    "start_time": "2022-05-10T20:50:45.637Z"
   },
   {
    "duration": 249,
    "start_time": "2022-05-10T20:50:45.647Z"
   },
   {
    "duration": 10,
    "start_time": "2022-05-10T20:50:45.898Z"
   },
   {
    "duration": 106,
    "start_time": "2022-05-10T20:50:45.909Z"
   },
   {
    "duration": 23,
    "start_time": "2022-05-10T20:50:46.017Z"
   },
   {
    "duration": 94,
    "start_time": "2022-05-10T20:50:46.042Z"
   },
   {
    "duration": 9,
    "start_time": "2022-05-10T20:50:46.138Z"
   },
   {
    "duration": 318,
    "start_time": "2022-05-10T20:50:46.149Z"
   },
   {
    "duration": 10,
    "start_time": "2022-05-10T20:50:46.468Z"
   },
   {
    "duration": 7,
    "start_time": "2022-05-10T20:50:46.479Z"
   },
   {
    "duration": 218,
    "start_time": "2022-05-10T20:50:46.488Z"
   },
   {
    "duration": 25,
    "start_time": "2022-05-10T20:50:46.708Z"
   },
   {
    "duration": 237,
    "start_time": "2022-05-10T20:50:46.736Z"
   },
   {
    "duration": 41,
    "start_time": "2022-05-10T20:50:46.975Z"
   },
   {
    "duration": 40,
    "start_time": "2022-05-10T20:50:47.018Z"
   },
   {
    "duration": 5,
    "start_time": "2022-05-10T20:50:47.060Z"
   },
   {
    "duration": 236,
    "start_time": "2022-05-10T20:50:47.067Z"
   },
   {
    "duration": 13,
    "start_time": "2022-05-10T20:50:47.305Z"
   },
   {
    "duration": 9,
    "start_time": "2022-05-10T20:50:47.335Z"
   },
   {
    "duration": 236,
    "start_time": "2022-05-10T20:50:47.346Z"
   },
   {
    "duration": 9,
    "start_time": "2022-05-10T20:50:47.583Z"
   },
   {
    "duration": 240,
    "start_time": "2022-05-10T20:50:47.593Z"
   },
   {
    "duration": 5,
    "start_time": "2022-05-10T20:50:47.835Z"
   },
   {
    "duration": 9,
    "start_time": "2022-05-10T20:50:47.842Z"
   },
   {
    "duration": 11,
    "start_time": "2022-05-10T20:50:47.852Z"
   },
   {
    "duration": 358,
    "start_time": "2022-05-10T20:50:47.864Z"
   },
   {
    "duration": 17,
    "start_time": "2022-05-10T20:50:48.223Z"
   },
   {
    "duration": 6,
    "start_time": "2022-05-10T20:50:48.241Z"
   },
   {
    "duration": 827,
    "start_time": "2022-05-10T20:50:48.249Z"
   },
   {
    "duration": 5,
    "start_time": "2022-05-10T20:50:49.078Z"
   },
   {
    "duration": 5,
    "start_time": "2022-05-10T20:50:49.085Z"
   },
   {
    "duration": 10,
    "start_time": "2022-05-10T20:50:49.092Z"
   },
   {
    "duration": 4,
    "start_time": "2022-05-10T20:50:49.104Z"
   },
   {
    "duration": 10,
    "start_time": "2022-05-10T20:50:49.134Z"
   },
   {
    "duration": 14,
    "start_time": "2022-05-10T20:50:49.145Z"
   },
   {
    "duration": 18,
    "start_time": "2022-05-10T20:50:49.160Z"
   },
   {
    "duration": 4,
    "start_time": "2022-05-10T20:50:49.180Z"
   },
   {
    "duration": 16,
    "start_time": "2022-05-10T20:50:55.745Z"
   },
   {
    "duration": 26,
    "start_time": "2022-05-10T20:50:57.783Z"
   },
   {
    "duration": 7,
    "start_time": "2022-05-10T20:51:24.519Z"
   },
   {
    "duration": 120,
    "start_time": "2022-05-10T20:51:24.529Z"
   },
   {
    "duration": 19,
    "start_time": "2022-05-10T20:51:24.651Z"
   },
   {
    "duration": 20,
    "start_time": "2022-05-10T20:51:24.673Z"
   },
   {
    "duration": 13,
    "start_time": "2022-05-10T20:51:24.695Z"
   },
   {
    "duration": 28,
    "start_time": "2022-05-10T20:51:24.710Z"
   },
   {
    "duration": 14,
    "start_time": "2022-05-10T20:51:24.740Z"
   },
   {
    "duration": 18,
    "start_time": "2022-05-10T20:51:24.756Z"
   },
   {
    "duration": 14,
    "start_time": "2022-05-10T20:51:24.777Z"
   },
   {
    "duration": 45,
    "start_time": "2022-05-10T20:51:24.794Z"
   },
   {
    "duration": 11,
    "start_time": "2022-05-10T20:51:24.841Z"
   },
   {
    "duration": 307,
    "start_time": "2022-05-10T20:51:24.853Z"
   },
   {
    "duration": 12,
    "start_time": "2022-05-10T20:51:25.163Z"
   },
   {
    "duration": 114,
    "start_time": "2022-05-10T20:51:25.177Z"
   },
   {
    "duration": 11,
    "start_time": "2022-05-10T20:51:25.294Z"
   },
   {
    "duration": 99,
    "start_time": "2022-05-10T20:51:25.307Z"
   },
   {
    "duration": 12,
    "start_time": "2022-05-10T20:51:25.408Z"
   },
   {
    "duration": 314,
    "start_time": "2022-05-10T20:51:25.434Z"
   },
   {
    "duration": 11,
    "start_time": "2022-05-10T20:51:25.750Z"
   },
   {
    "duration": 7,
    "start_time": "2022-05-10T20:51:25.763Z"
   },
   {
    "duration": 225,
    "start_time": "2022-05-10T20:51:25.772Z"
   },
   {
    "duration": 15,
    "start_time": "2022-05-10T20:51:25.999Z"
   },
   {
    "duration": 261,
    "start_time": "2022-05-10T20:51:26.016Z"
   },
   {
    "duration": 64,
    "start_time": "2022-05-10T20:51:26.281Z"
   },
   {
    "duration": 45,
    "start_time": "2022-05-10T20:51:26.347Z"
   },
   {
    "duration": 6,
    "start_time": "2022-05-10T20:51:26.394Z"
   },
   {
    "duration": 242,
    "start_time": "2022-05-10T20:51:26.402Z"
   },
   {
    "duration": 14,
    "start_time": "2022-05-10T20:51:26.645Z"
   },
   {
    "duration": 11,
    "start_time": "2022-05-10T20:51:26.661Z"
   },
   {
    "duration": 364,
    "start_time": "2022-05-10T20:51:26.674Z"
   },
   {
    "duration": 10,
    "start_time": "2022-05-10T20:51:27.040Z"
   },
   {
    "duration": 254,
    "start_time": "2022-05-10T20:51:27.052Z"
   },
   {
    "duration": 7,
    "start_time": "2022-05-10T20:51:27.308Z"
   },
   {
    "duration": 21,
    "start_time": "2022-05-10T20:51:27.318Z"
   },
   {
    "duration": 11,
    "start_time": "2022-05-10T20:51:27.341Z"
   },
   {
    "duration": 247,
    "start_time": "2022-05-10T20:51:27.354Z"
   },
   {
    "duration": 9,
    "start_time": "2022-05-10T20:51:27.603Z"
   },
   {
    "duration": 20,
    "start_time": "2022-05-10T20:51:27.614Z"
   },
   {
    "duration": 879,
    "start_time": "2022-05-10T20:51:27.636Z"
   },
   {
    "duration": 6,
    "start_time": "2022-05-10T20:51:28.517Z"
   },
   {
    "duration": 3,
    "start_time": "2022-05-10T20:51:28.534Z"
   },
   {
    "duration": 14,
    "start_time": "2022-05-10T20:51:28.538Z"
   },
   {
    "duration": 5,
    "start_time": "2022-05-10T20:51:28.554Z"
   },
   {
    "duration": 16,
    "start_time": "2022-05-10T20:51:28.561Z"
   },
   {
    "duration": 11,
    "start_time": "2022-05-10T20:51:28.579Z"
   },
   {
    "duration": 17,
    "start_time": "2022-05-10T20:51:28.633Z"
   },
   {
    "duration": 4,
    "start_time": "2022-05-10T20:51:34.138Z"
   },
   {
    "duration": 2,
    "start_time": "2022-05-10T20:51:36.790Z"
   },
   {
    "duration": 19,
    "start_time": "2022-05-10T20:51:38.790Z"
   },
   {
    "duration": 18,
    "start_time": "2022-05-10T20:51:41.788Z"
   },
   {
    "duration": 42,
    "start_time": "2022-05-10T20:51:42.704Z"
   },
   {
    "duration": 12,
    "start_time": "2022-05-10T20:52:05.603Z"
   },
   {
    "duration": 5,
    "start_time": "2022-05-10T20:52:18.077Z"
   },
   {
    "duration": 139,
    "start_time": "2022-05-10T20:52:18.084Z"
   },
   {
    "duration": 14,
    "start_time": "2022-05-10T20:52:18.225Z"
   },
   {
    "duration": 18,
    "start_time": "2022-05-10T20:52:18.241Z"
   },
   {
    "duration": 13,
    "start_time": "2022-05-10T20:52:18.262Z"
   },
   {
    "duration": 6,
    "start_time": "2022-05-10T20:52:18.277Z"
   },
   {
    "duration": 10,
    "start_time": "2022-05-10T20:52:18.285Z"
   },
   {
    "duration": 46,
    "start_time": "2022-05-10T20:52:18.297Z"
   },
   {
    "duration": 12,
    "start_time": "2022-05-10T20:52:18.345Z"
   },
   {
    "duration": 14,
    "start_time": "2022-05-10T20:52:18.359Z"
   },
   {
    "duration": 8,
    "start_time": "2022-05-10T20:52:18.376Z"
   },
   {
    "duration": 274,
    "start_time": "2022-05-10T20:52:18.386Z"
   },
   {
    "duration": 11,
    "start_time": "2022-05-10T20:52:18.662Z"
   },
   {
    "duration": 111,
    "start_time": "2022-05-10T20:52:18.675Z"
   },
   {
    "duration": 11,
    "start_time": "2022-05-10T20:52:18.788Z"
   },
   {
    "duration": 96,
    "start_time": "2022-05-10T20:52:18.801Z"
   },
   {
    "duration": 11,
    "start_time": "2022-05-10T20:52:18.899Z"
   },
   {
    "duration": 319,
    "start_time": "2022-05-10T20:52:18.912Z"
   },
   {
    "duration": 13,
    "start_time": "2022-05-10T20:52:19.234Z"
   },
   {
    "duration": 8,
    "start_time": "2022-05-10T20:52:19.249Z"
   },
   {
    "duration": 261,
    "start_time": "2022-05-10T20:52:19.259Z"
   },
   {
    "duration": 21,
    "start_time": "2022-05-10T20:52:19.522Z"
   },
   {
    "duration": 343,
    "start_time": "2022-05-10T20:52:19.545Z"
   },
   {
    "duration": 54,
    "start_time": "2022-05-10T20:52:19.890Z"
   },
   {
    "duration": 31,
    "start_time": "2022-05-10T20:52:19.946Z"
   },
   {
    "duration": 5,
    "start_time": "2022-05-10T20:52:19.979Z"
   },
   {
    "duration": 240,
    "start_time": "2022-05-10T20:52:19.986Z"
   },
   {
    "duration": 21,
    "start_time": "2022-05-10T20:52:20.233Z"
   },
   {
    "duration": 13,
    "start_time": "2022-05-10T20:52:20.260Z"
   },
   {
    "duration": 244,
    "start_time": "2022-05-10T20:52:20.275Z"
   },
   {
    "duration": 19,
    "start_time": "2022-05-10T20:52:20.521Z"
   },
   {
    "duration": 237,
    "start_time": "2022-05-10T20:52:20.542Z"
   },
   {
    "duration": 6,
    "start_time": "2022-05-10T20:52:20.781Z"
   },
   {
    "duration": 10,
    "start_time": "2022-05-10T20:52:20.789Z"
   },
   {
    "duration": 34,
    "start_time": "2022-05-10T20:52:20.801Z"
   },
   {
    "duration": 239,
    "start_time": "2022-05-10T20:52:20.837Z"
   },
   {
    "duration": 9,
    "start_time": "2022-05-10T20:52:21.078Z"
   },
   {
    "duration": 5,
    "start_time": "2022-05-10T20:52:21.089Z"
   },
   {
    "duration": 905,
    "start_time": "2022-05-10T20:52:21.095Z"
   },
   {
    "duration": 5,
    "start_time": "2022-05-10T20:52:22.002Z"
   },
   {
    "duration": 14,
    "start_time": "2022-05-10T20:52:22.009Z"
   },
   {
    "duration": 10,
    "start_time": "2022-05-10T20:52:22.034Z"
   },
   {
    "duration": 7,
    "start_time": "2022-05-10T20:52:22.046Z"
   },
   {
    "duration": 16,
    "start_time": "2022-05-10T20:52:22.055Z"
   },
   {
    "duration": 25,
    "start_time": "2022-05-10T20:52:22.073Z"
   },
   {
    "duration": 55,
    "start_time": "2022-05-10T20:52:22.100Z"
   },
   {
    "duration": 5,
    "start_time": "2022-05-10T20:52:22.158Z"
   },
   {
    "duration": 12,
    "start_time": "2022-05-10T20:52:22.164Z"
   },
   {
    "duration": 22,
    "start_time": "2022-05-10T20:52:22.178Z"
   },
   {
    "duration": 39,
    "start_time": "2022-05-10T20:52:22.202Z"
   },
   {
    "duration": 18,
    "start_time": "2022-05-10T20:52:25.402Z"
   },
   {
    "duration": 11,
    "start_time": "2022-05-10T20:52:36.215Z"
   },
   {
    "duration": 27,
    "start_time": "2022-05-10T20:52:38.905Z"
   },
   {
    "duration": 28,
    "start_time": "2022-05-10T20:52:49.639Z"
   },
   {
    "duration": 4,
    "start_time": "2022-05-10T20:53:00.630Z"
   },
   {
    "duration": 105,
    "start_time": "2022-05-10T20:53:01.209Z"
   },
   {
    "duration": 16,
    "start_time": "2022-05-10T20:53:01.385Z"
   },
   {
    "duration": 14,
    "start_time": "2022-05-10T20:53:01.588Z"
   },
   {
    "duration": 13,
    "start_time": "2022-05-10T20:53:01.796Z"
   },
   {
    "duration": 6,
    "start_time": "2022-05-10T20:53:02.617Z"
   },
   {
    "duration": 7,
    "start_time": "2022-05-10T20:53:03.003Z"
   },
   {
    "duration": 16,
    "start_time": "2022-05-10T20:53:03.420Z"
   },
   {
    "duration": 14,
    "start_time": "2022-05-10T20:53:03.791Z"
   },
   {
    "duration": 16,
    "start_time": "2022-05-10T20:53:03.985Z"
   },
   {
    "duration": 12,
    "start_time": "2022-05-10T20:53:04.610Z"
   },
   {
    "duration": 242,
    "start_time": "2022-05-10T20:53:04.813Z"
   },
   {
    "duration": 11,
    "start_time": "2022-05-10T20:53:05.443Z"
   },
   {
    "duration": 133,
    "start_time": "2022-05-10T20:53:05.659Z"
   },
   {
    "duration": 11,
    "start_time": "2022-05-10T20:53:06.307Z"
   },
   {
    "duration": 84,
    "start_time": "2022-05-10T20:53:06.533Z"
   },
   {
    "duration": 10,
    "start_time": "2022-05-10T20:53:07.202Z"
   },
   {
    "duration": 429,
    "start_time": "2022-05-10T20:53:07.424Z"
   },
   {
    "duration": 11,
    "start_time": "2022-05-10T20:53:08.102Z"
   },
   {
    "duration": 7,
    "start_time": "2022-05-10T20:53:08.333Z"
   },
   {
    "duration": 202,
    "start_time": "2022-05-10T20:53:08.563Z"
   },
   {
    "duration": 16,
    "start_time": "2022-05-10T20:53:08.789Z"
   },
   {
    "duration": 246,
    "start_time": "2022-05-10T20:53:09.033Z"
   },
   {
    "duration": 45,
    "start_time": "2022-05-10T20:53:09.786Z"
   },
   {
    "duration": 35,
    "start_time": "2022-05-10T20:53:10.035Z"
   },
   {
    "duration": 6,
    "start_time": "2022-05-10T20:53:10.262Z"
   },
   {
    "duration": 219,
    "start_time": "2022-05-10T20:53:10.500Z"
   },
   {
    "duration": 16,
    "start_time": "2022-05-10T20:53:11.001Z"
   },
   {
    "duration": 11,
    "start_time": "2022-05-10T20:53:12.038Z"
   },
   {
    "duration": 222,
    "start_time": "2022-05-10T20:53:12.320Z"
   },
   {
    "duration": 10,
    "start_time": "2022-05-10T20:53:13.060Z"
   },
   {
    "duration": 227,
    "start_time": "2022-05-10T20:53:13.310Z"
   },
   {
    "duration": 6,
    "start_time": "2022-05-10T20:53:13.791Z"
   },
   {
    "duration": 6,
    "start_time": "2022-05-10T20:53:14.025Z"
   },
   {
    "duration": 12,
    "start_time": "2022-05-10T20:53:14.741Z"
   },
   {
    "duration": 261,
    "start_time": "2022-05-10T20:53:14.986Z"
   },
   {
    "duration": 11,
    "start_time": "2022-05-10T20:53:15.747Z"
   },
   {
    "duration": 5,
    "start_time": "2022-05-10T20:53:15.991Z"
   },
   {
    "duration": 913,
    "start_time": "2022-05-10T20:53:16.984Z"
   },
   {
    "duration": 6,
    "start_time": "2022-05-10T20:53:19.706Z"
   },
   {
    "duration": 3,
    "start_time": "2022-05-10T20:53:20.409Z"
   },
   {
    "duration": 14,
    "start_time": "2022-05-10T20:53:20.778Z"
   },
   {
    "duration": 6,
    "start_time": "2022-05-10T20:53:22.249Z"
   },
   {
    "duration": 16,
    "start_time": "2022-05-10T20:53:26.709Z"
   },
   {
    "duration": 13,
    "start_time": "2022-05-10T20:53:27.413Z"
   },
   {
    "duration": 27,
    "start_time": "2022-05-10T20:53:28.339Z"
   },
   {
    "duration": 4,
    "start_time": "2022-05-10T20:53:29.937Z"
   },
   {
    "duration": 3,
    "start_time": "2022-05-10T20:53:31.729Z"
   },
   {
    "duration": 23,
    "start_time": "2022-05-10T20:53:32.343Z"
   },
   {
    "duration": 167,
    "start_time": "2022-05-10T20:56:47.673Z"
   },
   {
    "duration": 6,
    "start_time": "2022-05-10T20:56:54.666Z"
   },
   {
    "duration": 5,
    "start_time": "2022-05-10T20:56:55.263Z"
   },
   {
    "duration": 5,
    "start_time": "2022-05-10T20:56:55.507Z"
   },
   {
    "duration": 14534,
    "start_time": "2022-05-10T20:59:20.603Z"
   },
   {
    "duration": 13765,
    "start_time": "2022-05-10T21:01:10.823Z"
   },
   {
    "duration": 5,
    "start_time": "2022-05-10T21:01:24.590Z"
   },
   {
    "duration": 113,
    "start_time": "2022-05-10T21:01:24.597Z"
   },
   {
    "duration": 13,
    "start_time": "2022-05-10T21:01:24.713Z"
   },
   {
    "duration": 17,
    "start_time": "2022-05-10T21:01:24.728Z"
   },
   {
    "duration": 17,
    "start_time": "2022-05-10T21:01:24.747Z"
   },
   {
    "duration": 6,
    "start_time": "2022-05-10T21:01:24.766Z"
   },
   {
    "duration": 9,
    "start_time": "2022-05-10T21:01:24.773Z"
   },
   {
    "duration": 50,
    "start_time": "2022-05-10T21:01:24.784Z"
   },
   {
    "duration": 14,
    "start_time": "2022-05-10T21:01:24.837Z"
   },
   {
    "duration": 10,
    "start_time": "2022-05-10T21:01:24.853Z"
   },
   {
    "duration": 10,
    "start_time": "2022-05-10T21:01:24.865Z"
   },
   {
    "duration": 393,
    "start_time": "2022-05-10T21:01:24.877Z"
   },
   {
    "duration": 10,
    "start_time": "2022-05-10T21:01:25.272Z"
   },
   {
    "duration": 109,
    "start_time": "2022-05-10T21:01:25.284Z"
   },
   {
    "duration": 11,
    "start_time": "2022-05-10T21:01:25.394Z"
   },
   {
    "duration": 100,
    "start_time": "2022-05-10T21:01:25.406Z"
   },
   {
    "duration": 10,
    "start_time": "2022-05-10T21:01:25.507Z"
   },
   {
    "duration": 302,
    "start_time": "2022-05-10T21:01:25.534Z"
   },
   {
    "duration": 10,
    "start_time": "2022-05-10T21:01:25.838Z"
   },
   {
    "duration": 7,
    "start_time": "2022-05-10T21:01:25.849Z"
   },
   {
    "duration": 223,
    "start_time": "2022-05-10T21:01:25.858Z"
   },
   {
    "duration": 15,
    "start_time": "2022-05-10T21:01:26.083Z"
   },
   {
    "duration": 253,
    "start_time": "2022-05-10T21:01:26.100Z"
   },
   {
    "duration": 47,
    "start_time": "2022-05-10T21:01:26.356Z"
   },
   {
    "duration": 55,
    "start_time": "2022-05-10T21:01:26.405Z"
   },
   {
    "duration": 6,
    "start_time": "2022-05-10T21:01:26.461Z"
   },
   {
    "duration": 242,
    "start_time": "2022-05-10T21:01:26.472Z"
   },
   {
    "duration": 24,
    "start_time": "2022-05-10T21:01:26.716Z"
   },
   {
    "duration": 10,
    "start_time": "2022-05-10T21:01:26.742Z"
   },
   {
    "duration": 239,
    "start_time": "2022-05-10T21:01:26.755Z"
   },
   {
    "duration": 9,
    "start_time": "2022-05-10T21:01:26.997Z"
   },
   {
    "duration": 246,
    "start_time": "2022-05-10T21:01:27.008Z"
   },
   {
    "duration": 6,
    "start_time": "2022-05-10T21:01:27.256Z"
   },
   {
    "duration": 9,
    "start_time": "2022-05-10T21:01:27.264Z"
   },
   {
    "duration": 11,
    "start_time": "2022-05-10T21:01:27.274Z"
   },
   {
    "duration": 259,
    "start_time": "2022-05-10T21:01:27.286Z"
   },
   {
    "duration": 10,
    "start_time": "2022-05-10T21:01:27.547Z"
   },
   {
    "duration": 4,
    "start_time": "2022-05-10T21:01:27.559Z"
   },
   {
    "duration": 1041,
    "start_time": "2022-05-10T21:01:27.564Z"
   },
   {
    "duration": 7,
    "start_time": "2022-05-10T21:01:28.607Z"
   },
   {
    "duration": 18,
    "start_time": "2022-05-10T21:01:28.616Z"
   },
   {
    "duration": 11,
    "start_time": "2022-05-10T21:01:28.637Z"
   },
   {
    "duration": 4,
    "start_time": "2022-05-10T21:01:28.650Z"
   },
   {
    "duration": 13,
    "start_time": "2022-05-10T21:01:28.656Z"
   },
   {
    "duration": 20,
    "start_time": "2022-05-10T21:01:28.671Z"
   },
   {
    "duration": 40,
    "start_time": "2022-05-10T21:01:28.694Z"
   },
   {
    "duration": 5,
    "start_time": "2022-05-10T21:01:28.736Z"
   },
   {
    "duration": 24,
    "start_time": "2022-05-10T21:01:28.742Z"
   },
   {
    "duration": 13,
    "start_time": "2022-05-10T21:01:28.767Z"
   },
   {
    "duration": 8,
    "start_time": "2022-05-10T21:01:28.782Z"
   },
   {
    "duration": 6,
    "start_time": "2022-05-10T21:01:28.792Z"
   },
   {
    "duration": 35,
    "start_time": "2022-05-10T21:01:28.800Z"
   },
   {
    "duration": 9,
    "start_time": "2022-05-10T21:01:28.837Z"
   },
   {
    "duration": 11,
    "start_time": "2022-05-10T21:01:28.847Z"
   },
   {
    "duration": 5410,
    "start_time": "2022-05-10T21:01:28.860Z"
   },
   {
    "duration": 8,
    "start_time": "2022-05-10T21:01:34.272Z"
   },
   {
    "duration": 505,
    "start_time": "2022-05-10T21:01:34.282Z"
   },
   {
    "duration": 270,
    "start_time": "2022-05-10T21:01:34.789Z"
   },
   {
    "duration": 8,
    "start_time": "2022-05-10T21:02:10.044Z"
   },
   {
    "duration": 8,
    "start_time": "2022-05-10T21:02:14.024Z"
   },
   {
    "duration": 8,
    "start_time": "2022-05-10T21:02:24.320Z"
   },
   {
    "duration": 8,
    "start_time": "2022-05-10T21:02:32.438Z"
   },
   {
    "duration": 10,
    "start_time": "2022-05-10T21:02:41.090Z"
   },
   {
    "duration": 6930,
    "start_time": "2022-05-10T21:03:09.590Z"
   },
   {
    "duration": 4680,
    "start_time": "2022-05-10T21:03:33.230Z"
   },
   {
    "duration": 6,
    "start_time": "2022-05-10T21:03:44.526Z"
   },
   {
    "duration": 693,
    "start_time": "2022-05-10T21:03:48.482Z"
   },
   {
    "duration": 5,
    "start_time": "2022-05-10T21:03:56.879Z"
   },
   {
    "duration": 728,
    "start_time": "2022-05-10T21:03:57.525Z"
   },
   {
    "duration": 182,
    "start_time": "2022-05-10T21:04:00.030Z"
   },
   {
    "duration": 6,
    "start_time": "2022-05-10T21:08:25.444Z"
   },
   {
    "duration": 701,
    "start_time": "2022-05-10T21:08:25.960Z"
   },
   {
    "duration": 178,
    "start_time": "2022-05-10T21:09:28.453Z"
   },
   {
    "duration": 2,
    "start_time": "2022-05-10T21:11:34.178Z"
   },
   {
    "duration": 504,
    "start_time": "2022-05-10T21:11:37.003Z"
   },
   {
    "duration": 265,
    "start_time": "2022-05-10T21:11:37.790Z"
   },
   {
    "duration": 719,
    "start_time": "2022-05-10T21:11:39.054Z"
   },
   {
    "duration": 276,
    "start_time": "2022-05-10T21:11:54.561Z"
   },
   {
    "duration": 4,
    "start_time": "2022-05-10T21:11:57.930Z"
   },
   {
    "duration": 4,
    "start_time": "2022-05-10T21:11:58.417Z"
   },
   {
    "duration": 11,
    "start_time": "2022-05-10T21:12:00.355Z"
   },
   {
    "duration": 6,
    "start_time": "2022-05-10T21:12:02.376Z"
   },
   {
    "duration": 5,
    "start_time": "2022-05-10T21:12:05.325Z"
   },
   {
    "duration": 533,
    "start_time": "2022-05-10T21:12:07.470Z"
   },
   {
    "duration": 5,
    "start_time": "2022-05-10T21:12:14.219Z"
   },
   {
    "duration": 111,
    "start_time": "2022-05-10T21:12:14.227Z"
   },
   {
    "duration": 16,
    "start_time": "2022-05-10T21:12:14.340Z"
   },
   {
    "duration": 15,
    "start_time": "2022-05-10T21:12:14.357Z"
   },
   {
    "duration": 13,
    "start_time": "2022-05-10T21:12:14.374Z"
   },
   {
    "duration": 6,
    "start_time": "2022-05-10T21:12:14.389Z"
   },
   {
    "duration": 41,
    "start_time": "2022-05-10T21:12:14.397Z"
   },
   {
    "duration": 15,
    "start_time": "2022-05-10T21:12:14.440Z"
   },
   {
    "duration": 14,
    "start_time": "2022-05-10T21:12:14.457Z"
   },
   {
    "duration": 10,
    "start_time": "2022-05-10T21:12:14.473Z"
   },
   {
    "duration": 52,
    "start_time": "2022-05-10T21:12:14.486Z"
   },
   {
    "duration": 251,
    "start_time": "2022-05-10T21:12:14.540Z"
   },
   {
    "duration": 10,
    "start_time": "2022-05-10T21:12:14.793Z"
   },
   {
    "duration": 103,
    "start_time": "2022-05-10T21:12:14.805Z"
   },
   {
    "duration": 10,
    "start_time": "2022-05-10T21:12:14.910Z"
   },
   {
    "duration": 102,
    "start_time": "2022-05-10T21:12:14.934Z"
   },
   {
    "duration": 10,
    "start_time": "2022-05-10T21:12:15.038Z"
   },
   {
    "duration": 309,
    "start_time": "2022-05-10T21:12:15.050Z"
   },
   {
    "duration": 9,
    "start_time": "2022-05-10T21:12:15.361Z"
   },
   {
    "duration": 6,
    "start_time": "2022-05-10T21:12:15.372Z"
   },
   {
    "duration": 225,
    "start_time": "2022-05-10T21:12:15.380Z"
   },
   {
    "duration": 15,
    "start_time": "2022-05-10T21:12:15.607Z"
   },
   {
    "duration": 249,
    "start_time": "2022-05-10T21:12:15.624Z"
   },
   {
    "duration": 42,
    "start_time": "2022-05-10T21:12:15.875Z"
   },
   {
    "duration": 44,
    "start_time": "2022-05-10T21:12:15.919Z"
   },
   {
    "duration": 6,
    "start_time": "2022-05-10T21:12:15.964Z"
   },
   {
    "duration": 242,
    "start_time": "2022-05-10T21:12:15.972Z"
   },
   {
    "duration": 23,
    "start_time": "2022-05-10T21:12:16.216Z"
   },
   {
    "duration": 10,
    "start_time": "2022-05-10T21:12:16.244Z"
   },
   {
    "duration": 251,
    "start_time": "2022-05-10T21:12:16.256Z"
   },
   {
    "duration": 11,
    "start_time": "2022-05-10T21:12:16.509Z"
   },
   {
    "duration": 364,
    "start_time": "2022-05-10T21:12:16.523Z"
   },
   {
    "duration": 7,
    "start_time": "2022-05-10T21:12:16.889Z"
   },
   {
    "duration": 10,
    "start_time": "2022-05-10T21:12:16.898Z"
   },
   {
    "duration": 36,
    "start_time": "2022-05-10T21:12:16.910Z"
   },
   {
    "duration": 247,
    "start_time": "2022-05-10T21:12:16.948Z"
   },
   {
    "duration": 12,
    "start_time": "2022-05-10T21:12:17.198Z"
   },
   {
    "duration": 5,
    "start_time": "2022-05-10T21:12:17.212Z"
   },
   {
    "duration": 882,
    "start_time": "2022-05-10T21:12:17.234Z"
   },
   {
    "duration": 15,
    "start_time": "2022-05-10T21:12:18.118Z"
   },
   {
    "duration": 4,
    "start_time": "2022-05-10T21:12:18.135Z"
   },
   {
    "duration": 10,
    "start_time": "2022-05-10T21:12:18.141Z"
   },
   {
    "duration": 5,
    "start_time": "2022-05-10T21:12:18.153Z"
   },
   {
    "duration": 11,
    "start_time": "2022-05-10T21:12:18.159Z"
   },
   {
    "duration": 15,
    "start_time": "2022-05-10T21:12:18.171Z"
   },
   {
    "duration": 48,
    "start_time": "2022-05-10T21:12:18.187Z"
   },
   {
    "duration": 3,
    "start_time": "2022-05-10T21:12:18.237Z"
   },
   {
    "duration": 15,
    "start_time": "2022-05-10T21:12:18.242Z"
   },
   {
    "duration": 11,
    "start_time": "2022-05-10T21:12:18.259Z"
   },
   {
    "duration": 7,
    "start_time": "2022-05-10T21:12:18.272Z"
   },
   {
    "duration": 4,
    "start_time": "2022-05-10T21:12:18.281Z"
   },
   {
    "duration": 9,
    "start_time": "2022-05-10T21:12:18.287Z"
   },
   {
    "duration": 36,
    "start_time": "2022-05-10T21:12:18.298Z"
   },
   {
    "duration": 7,
    "start_time": "2022-05-10T21:12:18.336Z"
   },
   {
    "duration": 5413,
    "start_time": "2022-05-10T21:12:18.345Z"
   },
   {
    "duration": 6,
    "start_time": "2022-05-10T21:12:23.759Z"
   },
   {
    "duration": 421,
    "start_time": "2022-05-10T21:12:23.766Z"
   },
   {
    "duration": 274,
    "start_time": "2022-05-10T21:12:24.189Z"
   },
   {
    "duration": 4694,
    "start_time": "2022-05-10T21:12:24.465Z"
   },
   {
    "duration": 5,
    "start_time": "2022-05-10T21:12:29.161Z"
   },
   {
    "duration": 709,
    "start_time": "2022-05-10T21:12:29.167Z"
   },
   {
    "duration": 181,
    "start_time": "2022-05-10T21:12:29.878Z"
   },
   {
    "duration": 4,
    "start_time": "2022-05-10T21:12:30.061Z"
   },
   {
    "duration": 6,
    "start_time": "2022-05-10T21:12:30.067Z"
   },
   {
    "duration": 408,
    "start_time": "2022-05-10T21:12:30.075Z"
   },
   {
    "duration": 269,
    "start_time": "2022-05-10T21:12:30.485Z"
   },
   {
    "duration": 741,
    "start_time": "2022-05-10T21:12:30.756Z"
   },
   {
    "duration": 290,
    "start_time": "2022-05-10T21:12:31.499Z"
   },
   {
    "duration": 4,
    "start_time": "2022-05-10T21:12:31.791Z"
   },
   {
    "duration": 25,
    "start_time": "2022-05-10T21:12:31.797Z"
   },
   {
    "duration": 29,
    "start_time": "2022-05-10T21:12:31.824Z"
   },
   {
    "duration": 7,
    "start_time": "2022-05-10T21:12:31.855Z"
   },
   {
    "duration": 3,
    "start_time": "2022-05-10T21:12:59.723Z"
   },
   {
    "duration": 482,
    "start_time": "2022-05-10T21:13:02.358Z"
   },
   {
    "duration": 258,
    "start_time": "2022-05-10T21:13:06.597Z"
   },
   {
    "duration": 697,
    "start_time": "2022-05-10T21:13:10.564Z"
   },
   {
    "duration": 160,
    "start_time": "2022-05-10T21:13:13.705Z"
   },
   {
    "duration": 4,
    "start_time": "2022-05-10T21:13:18.797Z"
   },
   {
    "duration": 4,
    "start_time": "2022-05-10T21:13:21.031Z"
   },
   {
    "duration": 15,
    "start_time": "2022-05-10T21:13:21.668Z"
   },
   {
    "duration": 7,
    "start_time": "2022-05-10T21:13:22.397Z"
   },
   {
    "duration": 519,
    "start_time": "2022-05-10T21:13:46.690Z"
   },
   {
    "duration": 317,
    "start_time": "2022-05-10T21:13:50.033Z"
   },
   {
    "duration": 682,
    "start_time": "2022-05-10T21:13:53.504Z"
   },
   {
    "duration": 163,
    "start_time": "2022-05-10T21:13:56.744Z"
   },
   {
    "duration": 5,
    "start_time": "2022-05-10T21:14:02.163Z"
   },
   {
    "duration": 5,
    "start_time": "2022-05-10T21:14:03.745Z"
   },
   {
    "duration": 16,
    "start_time": "2022-05-10T21:14:05.063Z"
   },
   {
    "duration": 7,
    "start_time": "2022-05-10T21:14:05.082Z"
   },
   {
    "duration": 5,
    "start_time": "2022-05-10T21:14:11.860Z"
   },
   {
    "duration": 118,
    "start_time": "2022-05-10T21:14:11.868Z"
   },
   {
    "duration": 14,
    "start_time": "2022-05-10T21:14:11.988Z"
   },
   {
    "duration": 18,
    "start_time": "2022-05-10T21:14:12.004Z"
   },
   {
    "duration": 13,
    "start_time": "2022-05-10T21:14:12.024Z"
   },
   {
    "duration": 6,
    "start_time": "2022-05-10T21:14:12.039Z"
   },
   {
    "duration": 9,
    "start_time": "2022-05-10T21:14:12.046Z"
   },
   {
    "duration": 17,
    "start_time": "2022-05-10T21:14:12.057Z"
   },
   {
    "duration": 13,
    "start_time": "2022-05-10T21:14:12.075Z"
   },
   {
    "duration": 47,
    "start_time": "2022-05-10T21:14:12.090Z"
   },
   {
    "duration": 9,
    "start_time": "2022-05-10T21:14:12.140Z"
   },
   {
    "duration": 247,
    "start_time": "2022-05-10T21:14:12.150Z"
   },
   {
    "duration": 11,
    "start_time": "2022-05-10T21:14:12.400Z"
   },
   {
    "duration": 102,
    "start_time": "2022-05-10T21:14:12.413Z"
   },
   {
    "duration": 24,
    "start_time": "2022-05-10T21:14:12.517Z"
   },
   {
    "duration": 92,
    "start_time": "2022-05-10T21:14:12.543Z"
   },
   {
    "duration": 10,
    "start_time": "2022-05-10T21:14:12.638Z"
   },
   {
    "duration": 418,
    "start_time": "2022-05-10T21:14:12.650Z"
   },
   {
    "duration": 11,
    "start_time": "2022-05-10T21:14:13.070Z"
   },
   {
    "duration": 6,
    "start_time": "2022-05-10T21:14:13.083Z"
   },
   {
    "duration": 220,
    "start_time": "2022-05-10T21:14:13.090Z"
   },
   {
    "duration": 32,
    "start_time": "2022-05-10T21:14:13.311Z"
   },
   {
    "duration": 231,
    "start_time": "2022-05-10T21:14:13.345Z"
   },
   {
    "duration": 41,
    "start_time": "2022-05-10T21:14:13.578Z"
   },
   {
    "duration": 41,
    "start_time": "2022-05-10T21:14:13.621Z"
   },
   {
    "duration": 5,
    "start_time": "2022-05-10T21:14:13.664Z"
   },
   {
    "duration": 229,
    "start_time": "2022-05-10T21:14:13.671Z"
   },
   {
    "duration": 13,
    "start_time": "2022-05-10T21:14:13.901Z"
   },
   {
    "duration": 20,
    "start_time": "2022-05-10T21:14:13.919Z"
   },
   {
    "duration": 219,
    "start_time": "2022-05-10T21:14:13.941Z"
   },
   {
    "duration": 10,
    "start_time": "2022-05-10T21:14:14.161Z"
   },
   {
    "duration": 239,
    "start_time": "2022-05-10T21:14:14.172Z"
   },
   {
    "duration": 6,
    "start_time": "2022-05-10T21:14:14.413Z"
   },
   {
    "duration": 17,
    "start_time": "2022-05-10T21:14:14.420Z"
   },
   {
    "duration": 12,
    "start_time": "2022-05-10T21:14:14.439Z"
   },
   {
    "duration": 232,
    "start_time": "2022-05-10T21:14:14.453Z"
   },
   {
    "duration": 8,
    "start_time": "2022-05-10T21:14:14.687Z"
   },
   {
    "duration": 4,
    "start_time": "2022-05-10T21:14:14.697Z"
   },
   {
    "duration": 879,
    "start_time": "2022-05-10T21:14:14.702Z"
   },
   {
    "duration": 6,
    "start_time": "2022-05-10T21:14:15.583Z"
   },
   {
    "duration": 6,
    "start_time": "2022-05-10T21:14:15.591Z"
   },
   {
    "duration": 11,
    "start_time": "2022-05-10T21:14:15.599Z"
   },
   {
    "duration": 21,
    "start_time": "2022-05-10T21:14:15.612Z"
   },
   {
    "duration": 10,
    "start_time": "2022-05-10T21:14:15.635Z"
   },
   {
    "duration": 30,
    "start_time": "2022-05-10T21:14:15.647Z"
   },
   {
    "duration": 18,
    "start_time": "2022-05-10T21:14:15.679Z"
   },
   {
    "duration": 6,
    "start_time": "2022-05-10T21:14:15.699Z"
   },
   {
    "duration": 23,
    "start_time": "2022-05-10T21:14:15.706Z"
   },
   {
    "duration": 14,
    "start_time": "2022-05-10T21:14:15.733Z"
   },
   {
    "duration": 23,
    "start_time": "2022-05-10T21:14:15.749Z"
   },
   {
    "duration": 18,
    "start_time": "2022-05-10T21:14:15.774Z"
   },
   {
    "duration": 21,
    "start_time": "2022-05-10T21:14:15.794Z"
   },
   {
    "duration": 22,
    "start_time": "2022-05-10T21:14:15.817Z"
   },
   {
    "duration": 11,
    "start_time": "2022-05-10T21:14:15.841Z"
   },
   {
    "duration": 5400,
    "start_time": "2022-05-10T21:14:15.854Z"
   },
   {
    "duration": 6,
    "start_time": "2022-05-10T21:14:21.256Z"
   },
   {
    "duration": 425,
    "start_time": "2022-05-10T21:14:21.263Z"
   },
   {
    "duration": 267,
    "start_time": "2022-05-10T21:14:21.690Z"
   },
   {
    "duration": 4798,
    "start_time": "2022-05-10T21:14:21.959Z"
   },
   {
    "duration": 6,
    "start_time": "2022-05-10T21:14:26.758Z"
   },
   {
    "duration": 717,
    "start_time": "2022-05-10T21:14:26.765Z"
   },
   {
    "duration": 176,
    "start_time": "2022-05-10T21:14:27.484Z"
   },
   {
    "duration": 4,
    "start_time": "2022-05-10T21:14:27.662Z"
   },
   {
    "duration": 4,
    "start_time": "2022-05-10T21:14:44.090Z"
   },
   {
    "duration": 2,
    "start_time": "2022-05-10T21:14:44.645Z"
   },
   {
    "duration": 322,
    "start_time": "2022-05-10T21:14:48.443Z"
   },
   {
    "duration": 247,
    "start_time": "2022-05-10T21:14:49.298Z"
   },
   {
    "duration": 712,
    "start_time": "2022-05-10T21:14:51.285Z"
   },
   {
    "duration": 180,
    "start_time": "2022-05-10T21:14:51.999Z"
   },
   {
    "duration": 5,
    "start_time": "2022-05-10T21:14:53.551Z"
   },
   {
    "duration": 4,
    "start_time": "2022-05-10T21:14:53.924Z"
   },
   {
    "duration": 14,
    "start_time": "2022-05-10T21:14:56.293Z"
   },
   {
    "duration": 6,
    "start_time": "2022-05-10T21:14:57.150Z"
   },
   {
    "duration": 436,
    "start_time": "2022-05-10T21:15:01.479Z"
   },
   {
    "duration": 903,
    "start_time": "2022-05-10T21:15:10.326Z"
   },
   {
    "duration": 183,
    "start_time": "2022-05-10T21:16:22.777Z"
   },
   {
    "duration": 11,
    "start_time": "2022-05-10T21:16:38.574Z"
   },
   {
    "duration": 5,
    "start_time": "2022-05-10T21:16:39.062Z"
   },
   {
    "duration": 3,
    "start_time": "2022-05-10T21:17:17.368Z"
   },
   {
    "duration": 5,
    "start_time": "2022-05-10T21:26:39.971Z"
   },
   {
    "duration": 126,
    "start_time": "2022-05-10T21:26:39.979Z"
   },
   {
    "duration": 15,
    "start_time": "2022-05-10T21:26:40.107Z"
   },
   {
    "duration": 17,
    "start_time": "2022-05-10T21:26:40.124Z"
   },
   {
    "duration": 14,
    "start_time": "2022-05-10T21:26:40.144Z"
   },
   {
    "duration": 7,
    "start_time": "2022-05-10T21:26:40.160Z"
   },
   {
    "duration": 14,
    "start_time": "2022-05-10T21:26:40.169Z"
   },
   {
    "duration": 50,
    "start_time": "2022-05-10T21:26:40.185Z"
   },
   {
    "duration": 13,
    "start_time": "2022-05-10T21:26:40.237Z"
   },
   {
    "duration": 11,
    "start_time": "2022-05-10T21:26:40.253Z"
   },
   {
    "duration": 8,
    "start_time": "2022-05-10T21:26:40.267Z"
   },
   {
    "duration": 280,
    "start_time": "2022-05-10T21:26:40.277Z"
   },
   {
    "duration": 9,
    "start_time": "2022-05-10T21:26:40.559Z"
   },
   {
    "duration": 101,
    "start_time": "2022-05-10T21:26:40.570Z"
   },
   {
    "duration": 10,
    "start_time": "2022-05-10T21:26:40.673Z"
   },
   {
    "duration": 93,
    "start_time": "2022-05-10T21:26:40.684Z"
   },
   {
    "duration": 9,
    "start_time": "2022-05-10T21:26:40.779Z"
   },
   {
    "duration": 394,
    "start_time": "2022-05-10T21:26:40.790Z"
   },
   {
    "duration": 9,
    "start_time": "2022-05-10T21:26:41.185Z"
   },
   {
    "duration": 6,
    "start_time": "2022-05-10T21:26:41.196Z"
   },
   {
    "duration": 198,
    "start_time": "2022-05-10T21:26:41.204Z"
   },
   {
    "duration": 16,
    "start_time": "2022-05-10T21:26:41.404Z"
   },
   {
    "duration": 221,
    "start_time": "2022-05-10T21:26:41.434Z"
   },
   {
    "duration": 38,
    "start_time": "2022-05-10T21:26:41.657Z"
   },
   {
    "duration": 48,
    "start_time": "2022-05-10T21:26:41.697Z"
   },
   {
    "duration": 5,
    "start_time": "2022-05-10T21:26:41.747Z"
   },
   {
    "duration": 214,
    "start_time": "2022-05-10T21:26:41.754Z"
   },
   {
    "duration": 13,
    "start_time": "2022-05-10T21:26:41.969Z"
   },
   {
    "duration": 9,
    "start_time": "2022-05-10T21:26:41.986Z"
   },
   {
    "duration": 224,
    "start_time": "2022-05-10T21:26:41.997Z"
   },
   {
    "duration": 15,
    "start_time": "2022-05-10T21:26:42.223Z"
   },
   {
    "duration": 232,
    "start_time": "2022-05-10T21:26:42.239Z"
   },
   {
    "duration": 6,
    "start_time": "2022-05-10T21:26:42.473Z"
   },
   {
    "duration": 10,
    "start_time": "2022-05-10T21:26:42.481Z"
   },
   {
    "duration": 10,
    "start_time": "2022-05-10T21:26:42.492Z"
   },
   {
    "duration": 232,
    "start_time": "2022-05-10T21:26:42.504Z"
   },
   {
    "duration": 10,
    "start_time": "2022-05-10T21:26:42.738Z"
   },
   {
    "duration": 5,
    "start_time": "2022-05-10T21:26:42.749Z"
   },
   {
    "duration": 800,
    "start_time": "2022-05-10T21:26:42.756Z"
   },
   {
    "duration": 6,
    "start_time": "2022-05-10T21:26:43.558Z"
   },
   {
    "duration": 5,
    "start_time": "2022-05-10T21:26:43.565Z"
   },
   {
    "duration": 11,
    "start_time": "2022-05-10T21:26:43.572Z"
   },
   {
    "duration": 4,
    "start_time": "2022-05-10T21:26:43.585Z"
   },
   {
    "duration": 12,
    "start_time": "2022-05-10T21:26:43.591Z"
   },
   {
    "duration": 46,
    "start_time": "2022-05-10T21:26:43.604Z"
   },
   {
    "duration": 18,
    "start_time": "2022-05-10T21:26:43.652Z"
   },
   {
    "duration": 3,
    "start_time": "2022-05-10T21:26:43.672Z"
   },
   {
    "duration": 14,
    "start_time": "2022-05-10T21:26:43.677Z"
   },
   {
    "duration": 12,
    "start_time": "2022-05-10T21:26:43.693Z"
   },
   {
    "duration": 26,
    "start_time": "2022-05-10T21:26:43.707Z"
   },
   {
    "duration": 4,
    "start_time": "2022-05-10T21:26:43.735Z"
   },
   {
    "duration": 11,
    "start_time": "2022-05-10T21:26:43.741Z"
   },
   {
    "duration": 6,
    "start_time": "2022-05-10T21:26:43.753Z"
   },
   {
    "duration": 7,
    "start_time": "2022-05-10T21:26:43.760Z"
   },
   {
    "duration": 5385,
    "start_time": "2022-05-10T21:26:43.769Z"
   },
   {
    "duration": 5,
    "start_time": "2022-05-10T21:26:49.156Z"
   },
   {
    "duration": 414,
    "start_time": "2022-05-10T21:26:49.163Z"
   },
   {
    "duration": 275,
    "start_time": "2022-05-10T21:26:49.579Z"
   },
   {
    "duration": 4784,
    "start_time": "2022-05-10T21:26:49.856Z"
   },
   {
    "duration": 5,
    "start_time": "2022-05-10T21:26:54.642Z"
   },
   {
    "duration": 695,
    "start_time": "2022-05-10T21:26:54.649Z"
   },
   {
    "duration": 173,
    "start_time": "2022-05-10T21:26:55.346Z"
   },
   {
    "duration": 13,
    "start_time": "2022-05-10T21:26:55.521Z"
   },
   {
    "duration": 3,
    "start_time": "2022-05-10T21:26:55.536Z"
   },
   {
    "duration": 433,
    "start_time": "2022-05-10T21:26:55.540Z"
   },
   {
    "duration": 279,
    "start_time": "2022-05-10T21:26:55.974Z"
   },
   {
    "duration": 663,
    "start_time": "2022-05-10T21:26:56.255Z"
   },
   {
    "duration": 172,
    "start_time": "2022-05-10T21:26:56.920Z"
   },
   {
    "duration": 4,
    "start_time": "2022-05-10T21:26:57.094Z"
   },
   {
    "duration": 12,
    "start_time": "2022-05-10T21:26:57.099Z"
   },
   {
    "duration": 29,
    "start_time": "2022-05-10T21:26:57.112Z"
   },
   {
    "duration": 6,
    "start_time": "2022-05-10T21:26:57.142Z"
   },
   {
    "duration": 421,
    "start_time": "2022-05-10T21:26:57.149Z"
   },
   {
    "duration": 990,
    "start_time": "2022-05-10T21:26:57.571Z"
   },
   {
    "duration": 17,
    "start_time": "2022-05-10T21:26:58.564Z"
   },
   {
    "duration": 7,
    "start_time": "2022-05-10T21:26:58.583Z"
   },
   {
    "duration": 383,
    "start_time": "2022-05-10T21:26:58.592Z"
   },
   {
    "duration": 483,
    "start_time": "2022-05-10T21:26:58.977Z"
   },
   {
    "duration": 527,
    "start_time": "2022-05-10T21:26:59.462Z"
   },
   {
    "duration": 232,
    "start_time": "2022-05-10T21:26:59.992Z"
   },
   {
    "duration": 1019,
    "start_time": "2022-05-10T21:27:00.226Z"
   },
   {
    "duration": 186,
    "start_time": "2022-05-10T21:27:01.247Z"
   }
  ],
  "kernelspec": {
   "display_name": "Python 3 (ipykernel)",
   "language": "python",
   "name": "python3"
  },
  "language_info": {
   "codemirror_mode": {
    "name": "ipython",
    "version": 3
   },
   "file_extension": ".py",
   "mimetype": "text/x-python",
   "name": "python",
   "nbconvert_exporter": "python",
   "pygments_lexer": "ipython3",
   "version": "3.9.12"
  },
  "toc": {
   "base_numbering": 1,
   "nav_menu": {},
   "number_sections": true,
   "sideBar": true,
   "skip_h1_title": true,
   "title_cell": "Table of Contents",
   "title_sidebar": "Contents",
   "toc_cell": true,
   "toc_position": {
    "height": "calc(100% - 180px)",
    "left": "10px",
    "top": "150px",
    "width": "582.938px"
   },
   "toc_section_display": true,
   "toc_window_display": true
  },
  "varInspector": {
   "cols": {
    "lenName": 16,
    "lenType": 16,
    "lenVar": 40
   },
   "kernels_config": {
    "python": {
     "delete_cmd_postfix": "",
     "delete_cmd_prefix": "del ",
     "library": "var_list.py",
     "varRefreshCmd": "print(var_dic_list())"
    },
    "r": {
     "delete_cmd_postfix": ") ",
     "delete_cmd_prefix": "rm(",
     "library": "var_list.r",
     "varRefreshCmd": "cat(var_dic_list()) "
    }
   },
   "types_to_exclude": [
    "module",
    "function",
    "builtin_function_or_method",
    "instance",
    "_Feature"
   ],
   "window_display": false
  }
 },
 "nbformat": 4,
 "nbformat_minor": 5
}
